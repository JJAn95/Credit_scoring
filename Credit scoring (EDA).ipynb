{
 "cells": [
  {
   "cell_type": "markdown",
   "id": "8a488363",
   "metadata": {},
   "source": [
    "# Исследование надежности заемщиков."
   ]
  },
  {
   "cell_type": "markdown",
   "id": "9a4e0b47",
   "metadata": {},
   "source": [
    "### Шаг 1. Обзор данных"
   ]
  },
  {
   "cell_type": "markdown",
   "id": "7c1bb90d",
   "metadata": {},
   "source": [
    "Импортируем библиотеку pandas и библиотеку для стемминга, которая нам понадобится ближе к концу анализа."
   ]
  },
  {
   "cell_type": "code",
   "execution_count": 1,
   "id": "6a5a9352",
   "metadata": {},
   "outputs": [],
   "source": [
    "import pandas as pd\n",
    "from nltk.stem import SnowballStemmer"
   ]
  },
  {
   "cell_type": "markdown",
   "id": "eb5110a1",
   "metadata": {},
   "source": [
    "Открываем файл с днными и делаем обзор данных."
   ]
  },
  {
   "cell_type": "code",
   "execution_count": 2,
   "id": "b2d1dc6d",
   "metadata": {
    "scrolled": true
   },
   "outputs": [
    {
     "name": "stdout",
     "output_type": "stream",
     "text": [
      "<class 'pandas.core.frame.DataFrame'>\n",
      "RangeIndex: 21525 entries, 0 to 21524\n",
      "Data columns (total 12 columns):\n",
      "children            21525 non-null int64\n",
      "days_employed       19351 non-null float64\n",
      "dob_years           21525 non-null int64\n",
      "education           21525 non-null object\n",
      "education_id        21525 non-null int64\n",
      "family_status       21525 non-null object\n",
      "family_status_id    21525 non-null int64\n",
      "gender              21525 non-null object\n",
      "income_type         21525 non-null object\n",
      "debt                21525 non-null int64\n",
      "total_income        19351 non-null float64\n",
      "purpose             21525 non-null object\n",
      "dtypes: float64(2), int64(5), object(5)\n",
      "memory usage: 2.0+ MB\n"
     ]
    },
    {
     "data": {
      "text/plain": [
       "None"
      ]
     },
     "metadata": {},
     "output_type": "display_data"
    }
   ],
   "source": [
    "df = pd.read_csv('/datasets/data.csv')\n",
    "display(df.info())"
   ]
  },
  {
   "cell_type": "markdown",
   "id": "68288309",
   "metadata": {},
   "source": [
    "Исходя из полученного результата, видим, что есть 12 столбцов, с ненулевыми значениями, имеются все 3 типа данных: целое, вещественное и строки. В 2х колонках есть пропуски."
   ]
  },
  {
   "cell_type": "markdown",
   "id": "74d79fa0",
   "metadata": {},
   "source": [
    "### Шаг 2.1 Заполнение пропусков"
   ]
  },
  {
   "cell_type": "markdown",
   "id": "63bc79e0",
   "metadata": {},
   "source": [
    "Найдем и подсчитаем пропуски во всей таблице с данными"
   ]
  },
  {
   "cell_type": "code",
   "execution_count": 3,
   "id": "6088f364",
   "metadata": {},
   "outputs": [
    {
     "data": {
      "text/plain": [
       "children               0\n",
       "days_employed       2174\n",
       "dob_years              0\n",
       "education              0\n",
       "education_id           0\n",
       "family_status          0\n",
       "family_status_id       0\n",
       "gender                 0\n",
       "income_type            0\n",
       "debt                   0\n",
       "total_income        2174\n",
       "purpose                0\n",
       "dtype: int64"
      ]
     },
     "metadata": {},
     "output_type": "display_data"
    }
   ],
   "source": [
    "display(df.isna().sum())"
   ]
  },
  {
   "cell_type": "markdown",
   "id": "e78721b5",
   "metadata": {},
   "source": [
    "По 2174 пропущенных значений в 2х колонках: days_employed (стаж работы) и total_income (ежемесячный доход)"
   ]
  },
  {
   "cell_type": "code",
   "execution_count": 4,
   "id": "9575bbeb",
   "metadata": {},
   "outputs": [],
   "source": [
    "# Отношение пропусков к общему количеству строк\n",
    "# display(df['total_income'].isna().sum() / df['total_income'].sum() * 100)"
   ]
  },
  {
   "cell_type": "code",
   "execution_count": 5,
   "id": "9d75e23d",
   "metadata": {},
   "outputs": [
    {
     "data": {
      "text/plain": [
       "children            0.000000\n",
       "days_employed       0.100999\n",
       "dob_years           0.000000\n",
       "education           0.000000\n",
       "education_id        0.000000\n",
       "family_status       0.000000\n",
       "family_status_id    0.000000\n",
       "gender              0.000000\n",
       "income_type         0.000000\n",
       "debt                0.000000\n",
       "total_income        0.100999\n",
       "purpose             0.000000\n",
       "dtype: float64"
      ]
     },
     "metadata": {},
     "output_type": "display_data"
    }
   ],
   "source": [
    "# Отношение пропусков к общему количеству строк\n",
    "display(df.isna().mean())"
   ]
  },
  {
   "cell_type": "markdown",
   "id": "56b38aaf",
   "metadata": {},
   "source": [
    "Рассчитали среднее значение пропусков к общемучислу строк в каждом столбце.\n",
    "Из полученного результата видно, что доля пропусков в тех же двух столбцах составляет 10%."
   ]
  },
  {
   "cell_type": "code",
   "execution_count": 6,
   "id": "83d9dd05",
   "metadata": {},
   "outputs": [
    {
     "name": "stdout",
     "output_type": "stream",
     "text": [
      "<class 'pandas.core.frame.DataFrame'>\n",
      "RangeIndex: 21525 entries, 0 to 21524\n",
      "Data columns (total 12 columns):\n",
      "children            21525 non-null int64\n",
      "days_employed       21525 non-null float64\n",
      "dob_years           21525 non-null int64\n",
      "education           21525 non-null object\n",
      "education_id        21525 non-null int64\n",
      "family_status       21525 non-null object\n",
      "family_status_id    21525 non-null int64\n",
      "gender              21525 non-null object\n",
      "income_type         21525 non-null object\n",
      "debt                21525 non-null int64\n",
      "total_income        21525 non-null float64\n",
      "purpose             21525 non-null object\n",
      "dtypes: float64(2), int64(5), object(5)\n",
      "memory usage: 2.0+ MB\n"
     ]
    }
   ],
   "source": [
    "# Определяем медианные значения по столбцам с пропусками и заполним ими пропуски в каждом столбце\n",
    "k = df['days_employed'].median()\n",
    "df['days_employed'] = df['days_employed'].fillna(df['days_employed'].median())\n",
    "df['total_income'] = df['total_income'].fillna(df['total_income'].median())\n",
    "\n",
    "\n",
    "# Проверка\n",
    "df.info()"
   ]
  },
  {
   "cell_type": "markdown",
   "id": "890ba292",
   "metadata": {},
   "source": [
    "Все пропуски в двух столбцах заполнены медианным значением по соотвествующему столбцу. \n",
    "Причин, по которым появились пропуски, может быть несколько: \n",
    "+ Ошибка системы (сбой при выгрузке/загрузке данных)\n",
    "+ Действительное отсутсиве данных (домохозяйка, студент - нет стажа, нет ежемесячного дохода)\n",
    "+ Человеческий фактор (если какие-то из предложенных данных оцифровывались в ручную, то тот, кто оцифровывал, \n",
    "  мог ввести не верные значения или не ввести их вовсе)\n",
    "  \n",
    "В случае, когда данные содержат значения, которые могут резко выделятся на фоне с другими (например, стаж, ежемесячный доход), то статистически \"медианный\" показатель будет отражать более реальные цифры относительно большинства, чем среднее арифметическое. Поэтому было принято решение заполнить пропуски медианным значением."
   ]
  },
  {
   "cell_type": "markdown",
   "id": "cdbb25f8",
   "metadata": {},
   "source": [
    "### Шаг 2.2 Проверка данных на аномалии и исправления."
   ]
  },
  {
   "cell_type": "code",
   "execution_count": 7,
   "id": "d8c72d36",
   "metadata": {
    "scrolled": true
   },
   "outputs": [
    {
     "data": {
      "text/html": [
       "<div>\n",
       "<style scoped>\n",
       "    .dataframe tbody tr th:only-of-type {\n",
       "        vertical-align: middle;\n",
       "    }\n",
       "\n",
       "    .dataframe tbody tr th {\n",
       "        vertical-align: top;\n",
       "    }\n",
       "\n",
       "    .dataframe thead th {\n",
       "        text-align: right;\n",
       "    }\n",
       "</style>\n",
       "<table border=\"1\" class=\"dataframe\">\n",
       "  <thead>\n",
       "    <tr style=\"text-align: right;\">\n",
       "      <th></th>\n",
       "      <th>children</th>\n",
       "      <th>days_employed</th>\n",
       "      <th>dob_years</th>\n",
       "      <th>education</th>\n",
       "      <th>education_id</th>\n",
       "      <th>family_status</th>\n",
       "      <th>family_status_id</th>\n",
       "      <th>gender</th>\n",
       "      <th>income_type</th>\n",
       "      <th>debt</th>\n",
       "      <th>total_income</th>\n",
       "      <th>purpose</th>\n",
       "    </tr>\n",
       "  </thead>\n",
       "  <tbody>\n",
       "    <tr>\n",
       "      <td>0</td>\n",
       "      <td>1</td>\n",
       "      <td>-8437.673028</td>\n",
       "      <td>42</td>\n",
       "      <td>высшее</td>\n",
       "      <td>0</td>\n",
       "      <td>женат / замужем</td>\n",
       "      <td>0</td>\n",
       "      <td>F</td>\n",
       "      <td>сотрудник</td>\n",
       "      <td>0</td>\n",
       "      <td>253875.639453</td>\n",
       "      <td>покупка жилья</td>\n",
       "    </tr>\n",
       "    <tr>\n",
       "      <td>1</td>\n",
       "      <td>1</td>\n",
       "      <td>-4024.803754</td>\n",
       "      <td>36</td>\n",
       "      <td>среднее</td>\n",
       "      <td>1</td>\n",
       "      <td>женат / замужем</td>\n",
       "      <td>0</td>\n",
       "      <td>F</td>\n",
       "      <td>сотрудник</td>\n",
       "      <td>0</td>\n",
       "      <td>112080.014102</td>\n",
       "      <td>приобретение автомобиля</td>\n",
       "    </tr>\n",
       "    <tr>\n",
       "      <td>2</td>\n",
       "      <td>0</td>\n",
       "      <td>-5623.422610</td>\n",
       "      <td>33</td>\n",
       "      <td>Среднее</td>\n",
       "      <td>1</td>\n",
       "      <td>женат / замужем</td>\n",
       "      <td>0</td>\n",
       "      <td>M</td>\n",
       "      <td>сотрудник</td>\n",
       "      <td>0</td>\n",
       "      <td>145885.952297</td>\n",
       "      <td>покупка жилья</td>\n",
       "    </tr>\n",
       "    <tr>\n",
       "      <td>3</td>\n",
       "      <td>3</td>\n",
       "      <td>-4124.747207</td>\n",
       "      <td>32</td>\n",
       "      <td>среднее</td>\n",
       "      <td>1</td>\n",
       "      <td>женат / замужем</td>\n",
       "      <td>0</td>\n",
       "      <td>M</td>\n",
       "      <td>сотрудник</td>\n",
       "      <td>0</td>\n",
       "      <td>267628.550329</td>\n",
       "      <td>дополнительное образование</td>\n",
       "    </tr>\n",
       "    <tr>\n",
       "      <td>4</td>\n",
       "      <td>0</td>\n",
       "      <td>340266.072047</td>\n",
       "      <td>53</td>\n",
       "      <td>среднее</td>\n",
       "      <td>1</td>\n",
       "      <td>гражданский брак</td>\n",
       "      <td>1</td>\n",
       "      <td>F</td>\n",
       "      <td>пенсионер</td>\n",
       "      <td>0</td>\n",
       "      <td>158616.077870</td>\n",
       "      <td>сыграть свадьбу</td>\n",
       "    </tr>\n",
       "    <tr>\n",
       "      <td>...</td>\n",
       "      <td>...</td>\n",
       "      <td>...</td>\n",
       "      <td>...</td>\n",
       "      <td>...</td>\n",
       "      <td>...</td>\n",
       "      <td>...</td>\n",
       "      <td>...</td>\n",
       "      <td>...</td>\n",
       "      <td>...</td>\n",
       "      <td>...</td>\n",
       "      <td>...</td>\n",
       "      <td>...</td>\n",
       "    </tr>\n",
       "    <tr>\n",
       "      <td>21520</td>\n",
       "      <td>1</td>\n",
       "      <td>-4529.316663</td>\n",
       "      <td>43</td>\n",
       "      <td>среднее</td>\n",
       "      <td>1</td>\n",
       "      <td>гражданский брак</td>\n",
       "      <td>1</td>\n",
       "      <td>F</td>\n",
       "      <td>компаньон</td>\n",
       "      <td>0</td>\n",
       "      <td>224791.862382</td>\n",
       "      <td>операции с жильем</td>\n",
       "    </tr>\n",
       "    <tr>\n",
       "      <td>21521</td>\n",
       "      <td>0</td>\n",
       "      <td>343937.404131</td>\n",
       "      <td>67</td>\n",
       "      <td>среднее</td>\n",
       "      <td>1</td>\n",
       "      <td>женат / замужем</td>\n",
       "      <td>0</td>\n",
       "      <td>F</td>\n",
       "      <td>пенсионер</td>\n",
       "      <td>0</td>\n",
       "      <td>155999.806512</td>\n",
       "      <td>сделка с автомобилем</td>\n",
       "    </tr>\n",
       "    <tr>\n",
       "      <td>21522</td>\n",
       "      <td>1</td>\n",
       "      <td>-2113.346888</td>\n",
       "      <td>38</td>\n",
       "      <td>среднее</td>\n",
       "      <td>1</td>\n",
       "      <td>гражданский брак</td>\n",
       "      <td>1</td>\n",
       "      <td>M</td>\n",
       "      <td>сотрудник</td>\n",
       "      <td>1</td>\n",
       "      <td>89672.561153</td>\n",
       "      <td>недвижимость</td>\n",
       "    </tr>\n",
       "    <tr>\n",
       "      <td>21523</td>\n",
       "      <td>3</td>\n",
       "      <td>-3112.481705</td>\n",
       "      <td>38</td>\n",
       "      <td>среднее</td>\n",
       "      <td>1</td>\n",
       "      <td>женат / замужем</td>\n",
       "      <td>0</td>\n",
       "      <td>M</td>\n",
       "      <td>сотрудник</td>\n",
       "      <td>1</td>\n",
       "      <td>244093.050500</td>\n",
       "      <td>на покупку своего автомобиля</td>\n",
       "    </tr>\n",
       "    <tr>\n",
       "      <td>21524</td>\n",
       "      <td>2</td>\n",
       "      <td>-1984.507589</td>\n",
       "      <td>40</td>\n",
       "      <td>среднее</td>\n",
       "      <td>1</td>\n",
       "      <td>женат / замужем</td>\n",
       "      <td>0</td>\n",
       "      <td>F</td>\n",
       "      <td>сотрудник</td>\n",
       "      <td>0</td>\n",
       "      <td>82047.418899</td>\n",
       "      <td>на покупку автомобиля</td>\n",
       "    </tr>\n",
       "  </tbody>\n",
       "</table>\n",
       "<p>21525 rows × 12 columns</p>\n",
       "</div>"
      ],
      "text/plain": [
       "       children  days_employed  dob_years education  education_id  \\\n",
       "0             1   -8437.673028         42    высшее             0   \n",
       "1             1   -4024.803754         36   среднее             1   \n",
       "2             0   -5623.422610         33   Среднее             1   \n",
       "3             3   -4124.747207         32   среднее             1   \n",
       "4             0  340266.072047         53   среднее             1   \n",
       "...         ...            ...        ...       ...           ...   \n",
       "21520         1   -4529.316663         43   среднее             1   \n",
       "21521         0  343937.404131         67   среднее             1   \n",
       "21522         1   -2113.346888         38   среднее             1   \n",
       "21523         3   -3112.481705         38   среднее             1   \n",
       "21524         2   -1984.507589         40   среднее             1   \n",
       "\n",
       "          family_status  family_status_id gender income_type  debt  \\\n",
       "0       женат / замужем                 0      F   сотрудник     0   \n",
       "1       женат / замужем                 0      F   сотрудник     0   \n",
       "2       женат / замужем                 0      M   сотрудник     0   \n",
       "3       женат / замужем                 0      M   сотрудник     0   \n",
       "4      гражданский брак                 1      F   пенсионер     0   \n",
       "...                 ...               ...    ...         ...   ...   \n",
       "21520  гражданский брак                 1      F   компаньон     0   \n",
       "21521   женат / замужем                 0      F   пенсионер     0   \n",
       "21522  гражданский брак                 1      M   сотрудник     1   \n",
       "21523   женат / замужем                 0      M   сотрудник     1   \n",
       "21524   женат / замужем                 0      F   сотрудник     0   \n",
       "\n",
       "        total_income                       purpose  \n",
       "0      253875.639453                 покупка жилья  \n",
       "1      112080.014102       приобретение автомобиля  \n",
       "2      145885.952297                 покупка жилья  \n",
       "3      267628.550329    дополнительное образование  \n",
       "4      158616.077870               сыграть свадьбу  \n",
       "...              ...                           ...  \n",
       "21520  224791.862382             операции с жильем  \n",
       "21521  155999.806512          сделка с автомобилем  \n",
       "21522   89672.561153                  недвижимость  \n",
       "21523  244093.050500  на покупку своего автомобиля  \n",
       "21524   82047.418899         на покупку автомобиля  \n",
       "\n",
       "[21525 rows x 12 columns]"
      ]
     },
     "metadata": {},
     "output_type": "display_data"
    }
   ],
   "source": [
    "display(df)"
   ]
  },
  {
   "cell_type": "markdown",
   "id": "71c90731",
   "metadata": {},
   "source": [
    "    Анализируя приведенные табличные данные, сразу бросаются в глаза значения в столбце с общим трудовым стажем в днях. Во-первых, большинство значений отрицательные. Отрицательный стаж не может быть. Возможно, при внесении данных что-то пошло не так. Отрицательные данные мы сохраним, но запишем их с положительным знаком. \n",
    "    \n",
    "    Так же есть данные, значения которых во много превышают реальность. Например, 4ая строка - 340266 дней, это примерно 970 лет. Это тоже невозможно. Возможно, опять таки, допущена ошибка при вводе данных. Попробуем в таких случаях рассчитать максимально возможное количество трудовых дней за жизнь каждого заёмщика, по формуле: (возраст заёмщика - 16) * 247, где 16 - допустим, что заёмщик официально устроился работать с 16 лет, и 247 - это среднее количество рабочих дней в России за последние 5 лет (при 5 дневке). То есть, если значение будет превышать значение, рассчитанное по данной формуле, то мы его будем заменять на значение, рассчитанное по данной формуле.\n",
    "    \n",
    "    П.с. надеюсь ни один заемщик не обидется, что, возможно, я таким образом занижу их реальный трудовой стаж.\n",
    "    И как будто бы логично: сначала поправить знак и слишком превосходящие значения, а потом уже заполнять пропуски медианным значением.."
   ]
  },
  {
   "cell_type": "code",
   "execution_count": 8,
   "id": "8049019c",
   "metadata": {},
   "outputs": [
    {
     "data": {
      "text/html": [
       "<div>\n",
       "<style scoped>\n",
       "    .dataframe tbody tr th:only-of-type {\n",
       "        vertical-align: middle;\n",
       "    }\n",
       "\n",
       "    .dataframe tbody tr th {\n",
       "        vertical-align: top;\n",
       "    }\n",
       "\n",
       "    .dataframe thead th {\n",
       "        text-align: right;\n",
       "    }\n",
       "</style>\n",
       "<table border=\"1\" class=\"dataframe\">\n",
       "  <thead>\n",
       "    <tr style=\"text-align: right;\">\n",
       "      <th></th>\n",
       "      <th>children</th>\n",
       "      <th>days_employed</th>\n",
       "      <th>dob_years</th>\n",
       "      <th>education</th>\n",
       "      <th>education_id</th>\n",
       "      <th>family_status</th>\n",
       "      <th>family_status_id</th>\n",
       "      <th>gender</th>\n",
       "      <th>income_type</th>\n",
       "      <th>debt</th>\n",
       "      <th>total_income</th>\n",
       "      <th>purpose</th>\n",
       "    </tr>\n",
       "  </thead>\n",
       "  <tbody>\n",
       "    <tr>\n",
       "      <td>0</td>\n",
       "      <td>1</td>\n",
       "      <td>8437</td>\n",
       "      <td>42</td>\n",
       "      <td>высшее</td>\n",
       "      <td>0</td>\n",
       "      <td>женат / замужем</td>\n",
       "      <td>0</td>\n",
       "      <td>F</td>\n",
       "      <td>сотрудник</td>\n",
       "      <td>0</td>\n",
       "      <td>253875.639453</td>\n",
       "      <td>покупка жилья</td>\n",
       "    </tr>\n",
       "    <tr>\n",
       "      <td>1</td>\n",
       "      <td>1</td>\n",
       "      <td>4024</td>\n",
       "      <td>36</td>\n",
       "      <td>среднее</td>\n",
       "      <td>1</td>\n",
       "      <td>женат / замужем</td>\n",
       "      <td>0</td>\n",
       "      <td>F</td>\n",
       "      <td>сотрудник</td>\n",
       "      <td>0</td>\n",
       "      <td>112080.014102</td>\n",
       "      <td>приобретение автомобиля</td>\n",
       "    </tr>\n",
       "    <tr>\n",
       "      <td>2</td>\n",
       "      <td>0</td>\n",
       "      <td>5623</td>\n",
       "      <td>33</td>\n",
       "      <td>Среднее</td>\n",
       "      <td>1</td>\n",
       "      <td>женат / замужем</td>\n",
       "      <td>0</td>\n",
       "      <td>M</td>\n",
       "      <td>сотрудник</td>\n",
       "      <td>0</td>\n",
       "      <td>145885.952297</td>\n",
       "      <td>покупка жилья</td>\n",
       "    </tr>\n",
       "    <tr>\n",
       "      <td>3</td>\n",
       "      <td>3</td>\n",
       "      <td>4124</td>\n",
       "      <td>32</td>\n",
       "      <td>среднее</td>\n",
       "      <td>1</td>\n",
       "      <td>женат / замужем</td>\n",
       "      <td>0</td>\n",
       "      <td>M</td>\n",
       "      <td>сотрудник</td>\n",
       "      <td>0</td>\n",
       "      <td>267628.550329</td>\n",
       "      <td>дополнительное образование</td>\n",
       "    </tr>\n",
       "    <tr>\n",
       "      <td>4</td>\n",
       "      <td>0</td>\n",
       "      <td>13505</td>\n",
       "      <td>53</td>\n",
       "      <td>среднее</td>\n",
       "      <td>1</td>\n",
       "      <td>гражданский брак</td>\n",
       "      <td>1</td>\n",
       "      <td>F</td>\n",
       "      <td>пенсионер</td>\n",
       "      <td>0</td>\n",
       "      <td>158616.077870</td>\n",
       "      <td>сыграть свадьбу</td>\n",
       "    </tr>\n",
       "    <tr>\n",
       "      <td>...</td>\n",
       "      <td>...</td>\n",
       "      <td>...</td>\n",
       "      <td>...</td>\n",
       "      <td>...</td>\n",
       "      <td>...</td>\n",
       "      <td>...</td>\n",
       "      <td>...</td>\n",
       "      <td>...</td>\n",
       "      <td>...</td>\n",
       "      <td>...</td>\n",
       "      <td>...</td>\n",
       "      <td>...</td>\n",
       "    </tr>\n",
       "    <tr>\n",
       "      <td>21520</td>\n",
       "      <td>1</td>\n",
       "      <td>4529</td>\n",
       "      <td>43</td>\n",
       "      <td>среднее</td>\n",
       "      <td>1</td>\n",
       "      <td>гражданский брак</td>\n",
       "      <td>1</td>\n",
       "      <td>F</td>\n",
       "      <td>компаньон</td>\n",
       "      <td>0</td>\n",
       "      <td>224791.862382</td>\n",
       "      <td>операции с жильем</td>\n",
       "    </tr>\n",
       "    <tr>\n",
       "      <td>21521</td>\n",
       "      <td>0</td>\n",
       "      <td>18615</td>\n",
       "      <td>67</td>\n",
       "      <td>среднее</td>\n",
       "      <td>1</td>\n",
       "      <td>женат / замужем</td>\n",
       "      <td>0</td>\n",
       "      <td>F</td>\n",
       "      <td>пенсионер</td>\n",
       "      <td>0</td>\n",
       "      <td>155999.806512</td>\n",
       "      <td>сделка с автомобилем</td>\n",
       "    </tr>\n",
       "    <tr>\n",
       "      <td>21522</td>\n",
       "      <td>1</td>\n",
       "      <td>2113</td>\n",
       "      <td>38</td>\n",
       "      <td>среднее</td>\n",
       "      <td>1</td>\n",
       "      <td>гражданский брак</td>\n",
       "      <td>1</td>\n",
       "      <td>M</td>\n",
       "      <td>сотрудник</td>\n",
       "      <td>1</td>\n",
       "      <td>89672.561153</td>\n",
       "      <td>недвижимость</td>\n",
       "    </tr>\n",
       "    <tr>\n",
       "      <td>21523</td>\n",
       "      <td>3</td>\n",
       "      <td>3112</td>\n",
       "      <td>38</td>\n",
       "      <td>среднее</td>\n",
       "      <td>1</td>\n",
       "      <td>женат / замужем</td>\n",
       "      <td>0</td>\n",
       "      <td>M</td>\n",
       "      <td>сотрудник</td>\n",
       "      <td>1</td>\n",
       "      <td>244093.050500</td>\n",
       "      <td>на покупку своего автомобиля</td>\n",
       "    </tr>\n",
       "    <tr>\n",
       "      <td>21524</td>\n",
       "      <td>2</td>\n",
       "      <td>1984</td>\n",
       "      <td>40</td>\n",
       "      <td>среднее</td>\n",
       "      <td>1</td>\n",
       "      <td>женат / замужем</td>\n",
       "      <td>0</td>\n",
       "      <td>F</td>\n",
       "      <td>сотрудник</td>\n",
       "      <td>0</td>\n",
       "      <td>82047.418899</td>\n",
       "      <td>на покупку автомобиля</td>\n",
       "    </tr>\n",
       "  </tbody>\n",
       "</table>\n",
       "<p>21525 rows × 12 columns</p>\n",
       "</div>"
      ],
      "text/plain": [
       "       children  days_employed  dob_years education  education_id  \\\n",
       "0             1           8437         42    высшее             0   \n",
       "1             1           4024         36   среднее             1   \n",
       "2             0           5623         33   Среднее             1   \n",
       "3             3           4124         32   среднее             1   \n",
       "4             0          13505         53   среднее             1   \n",
       "...         ...            ...        ...       ...           ...   \n",
       "21520         1           4529         43   среднее             1   \n",
       "21521         0          18615         67   среднее             1   \n",
       "21522         1           2113         38   среднее             1   \n",
       "21523         3           3112         38   среднее             1   \n",
       "21524         2           1984         40   среднее             1   \n",
       "\n",
       "          family_status  family_status_id gender income_type  debt  \\\n",
       "0       женат / замужем                 0      F   сотрудник     0   \n",
       "1       женат / замужем                 0      F   сотрудник     0   \n",
       "2       женат / замужем                 0      M   сотрудник     0   \n",
       "3       женат / замужем                 0      M   сотрудник     0   \n",
       "4      гражданский брак                 1      F   пенсионер     0   \n",
       "...                 ...               ...    ...         ...   ...   \n",
       "21520  гражданский брак                 1      F   компаньон     0   \n",
       "21521   женат / замужем                 0      F   пенсионер     0   \n",
       "21522  гражданский брак                 1      M   сотрудник     1   \n",
       "21523   женат / замужем                 0      M   сотрудник     1   \n",
       "21524   женат / замужем                 0      F   сотрудник     0   \n",
       "\n",
       "        total_income                       purpose  \n",
       "0      253875.639453                 покупка жилья  \n",
       "1      112080.014102       приобретение автомобиля  \n",
       "2      145885.952297                 покупка жилья  \n",
       "3      267628.550329    дополнительное образование  \n",
       "4      158616.077870               сыграть свадьбу  \n",
       "...              ...                           ...  \n",
       "21520  224791.862382             операции с жильем  \n",
       "21521  155999.806512          сделка с автомобилем  \n",
       "21522   89672.561153                  недвижимость  \n",
       "21523  244093.050500  на покупку своего автомобиля  \n",
       "21524   82047.418899         на покупку автомобиля  \n",
       "\n",
       "[21525 rows x 12 columns]"
      ]
     },
     "metadata": {},
     "output_type": "display_data"
    },
    {
     "data": {
      "text/plain": [
       "-1203.369528770489"
      ]
     },
     "metadata": {},
     "output_type": "display_data"
    },
    {
     "data": {
      "text/plain": [
       "1795.0"
      ]
     },
     "metadata": {},
     "output_type": "display_data"
    }
   ],
   "source": [
    "# Берём по модулю все значения столбца\n",
    "df['days_employed'] = df['days_employed'].abs()\n",
    "df['days_employed'] = df['days_employed'].astype('int')\n",
    "\n",
    "def new_days_value(row):\n",
    "    days = row['days_employed']\n",
    "    years_old = row['dob_years']\n",
    "    \n",
    "    if days > (years_old - 16) * 365:\n",
    "        days = (years_old - 16) * 365\n",
    "    return days\n",
    "\n",
    "df['days_employed'] = df.apply(new_days_value, axis=1)\n",
    "l = df['days_employed'].median()\n",
    "\n",
    "display(df)\n",
    "display(k, l)"
   ]
  },
  {
   "cell_type": "markdown",
   "id": "dcbf0256",
   "metadata": {},
   "source": [
    "Сравнив медианное значение до всех преобразований со столбцом \"days_employed\" (k = -1203.36...) и после (l = 1795.0), то видим, что медианное значение cтало, во-первых, положительным (что и планировалось получить), а во-вторых, более похожим на реальность"
   ]
  },
  {
   "cell_type": "markdown",
   "id": "aa44a549",
   "metadata": {},
   "source": [
    "### Шаг 2.3. Изменение типов данных."
   ]
  },
  {
   "cell_type": "code",
   "execution_count": 9,
   "id": "b0e26424",
   "metadata": {},
   "outputs": [
    {
     "name": "stdout",
     "output_type": "stream",
     "text": [
      "<class 'pandas.core.frame.DataFrame'>\n",
      "RangeIndex: 21525 entries, 0 to 21524\n",
      "Data columns (total 12 columns):\n",
      "children            21525 non-null int64\n",
      "days_employed       21525 non-null int64\n",
      "dob_years           21525 non-null int64\n",
      "education           21525 non-null object\n",
      "education_id        21525 non-null int64\n",
      "family_status       21525 non-null object\n",
      "family_status_id    21525 non-null int64\n",
      "gender              21525 non-null object\n",
      "income_type         21525 non-null object\n",
      "debt                21525 non-null int64\n",
      "total_income        21525 non-null int64\n",
      "purpose             21525 non-null object\n",
      "dtypes: int64(7), object(5)\n",
      "memory usage: 2.0+ MB\n"
     ]
    }
   ],
   "source": [
    "# Заменим тип столбца total_income с float на int:\n",
    "df['total_income'] = df['total_income'].astype('int')\n",
    "\n",
    "# И проверим сразу\n",
    "df.info()"
   ]
  },
  {
   "cell_type": "markdown",
   "id": "a75d215c",
   "metadata": {},
   "source": [
    "    Успешно заменили вещественный тип данных в столбце total_income на целочисленный."
   ]
  },
  {
   "cell_type": "markdown",
   "id": "fcc4a89b",
   "metadata": {},
   "source": [
    "### Шаг 2.4. Удаление дубликатов."
   ]
  },
  {
   "cell_type": "markdown",
   "id": "b7fbb5fa",
   "metadata": {},
   "source": [
    "    Рассмотрим столбцы, у которых тип данных - строка. Первым под проверку попадает столбец \"education\". Используем метод value_counts(), чтобы увидеть все уникальные значения в этом столбце."
   ]
  },
  {
   "cell_type": "code",
   "execution_count": 10,
   "id": "7ab113d5",
   "metadata": {},
   "outputs": [
    {
     "data": {
      "text/plain": [
       "среднее                13750\n",
       "высшее                  4718\n",
       "СРЕДНЕЕ                  772\n",
       "Среднее                  711\n",
       "неоконченное высшее      668\n",
       "ВЫСШЕЕ                   274\n",
       "Высшее                   268\n",
       "начальное                250\n",
       "Неоконченное высшее       47\n",
       "НЕОКОНЧЕННОЕ ВЫСШЕЕ       29\n",
       "НАЧАЛЬНОЕ                 17\n",
       "Начальное                 15\n",
       "ученая степень             4\n",
       "Ученая степень             1\n",
       "УЧЕНАЯ СТЕПЕНЬ             1\n",
       "Name: education, dtype: int64"
      ]
     },
     "metadata": {},
     "output_type": "display_data"
    }
   ],
   "source": [
    "display(df['education'].value_counts())"
   ]
  },
  {
   "cell_type": "markdown",
   "id": "94e9d8d8",
   "metadata": {},
   "source": [
    "    Если посчитать \"ручками\", то у нас должно получится только 5 уникальных значений, исходя из данной таблицы. Все остальные отличаются от этих 5 только регистром. Значит нужно все данные привести к какому-то одному общему регистру и параллельно проверим остальные столбцы со строковыми данными на наличие неявных дубликатов:"
   ]
  },
  {
   "cell_type": "code",
   "execution_count": 11,
   "id": "ceba4780",
   "metadata": {},
   "outputs": [
    {
     "data": {
      "text/plain": [
       "среднее                15233\n",
       "высшее                  5260\n",
       "неоконченное высшее      744\n",
       "начальное                282\n",
       "ученая степень             6\n",
       "Name: education, dtype: int64"
      ]
     },
     "metadata": {},
     "output_type": "display_data"
    },
    {
     "data": {
      "text/plain": [
       "женат / замужем          12380\n",
       "гражданский брак          4177\n",
       "Не женат / не замужем     2813\n",
       "в разводе                 1195\n",
       "вдовец / вдова             960\n",
       "Name: family_status, dtype: int64"
      ]
     },
     "metadata": {},
     "output_type": "display_data"
    },
    {
     "data": {
      "text/plain": [
       "F      14236\n",
       "M       7288\n",
       "XNA        1\n",
       "Name: gender, dtype: int64"
      ]
     },
     "metadata": {},
     "output_type": "display_data"
    },
    {
     "data": {
      "text/plain": [
       "сотрудник          11119\n",
       "компаньон           5085\n",
       "пенсионер           3856\n",
       "госслужащий         1459\n",
       "предприниматель        2\n",
       "безработный            2\n",
       "студент                1\n",
       "в декрете              1\n",
       "Name: income_type, dtype: int64"
      ]
     },
     "metadata": {},
     "output_type": "display_data"
    },
    {
     "data": {
      "text/plain": [
       "свадьба                                   797\n",
       "на проведение свадьбы                     777\n",
       "сыграть свадьбу                           774\n",
       "операции с недвижимостью                  676\n",
       "покупка коммерческой недвижимости         664\n",
       "операции с жильем                         653\n",
       "покупка жилья для сдачи                   653\n",
       "операции с коммерческой недвижимостью     651\n",
       "жилье                                     647\n",
       "покупка жилья                             647\n",
       "покупка жилья для семьи                   641\n",
       "строительство собственной недвижимости    635\n",
       "недвижимость                              634\n",
       "операции со своей недвижимостью           630\n",
       "строительство жилой недвижимости          626\n",
       "покупка недвижимости                      624\n",
       "строительство недвижимости                620\n",
       "покупка своего жилья                      620\n",
       "ремонт жилью                              612\n",
       "покупка жилой недвижимости                607\n",
       "на покупку своего автомобиля              505\n",
       "заняться высшим образованием              496\n",
       "автомобиль                                495\n",
       "сделка с подержанным автомобилем          489\n",
       "свой автомобиль                           480\n",
       "на покупку подержанного автомобиля        479\n",
       "автомобили                                478\n",
       "на покупку автомобиля                     472\n",
       "дополнительное образование                462\n",
       "приобретение автомобиля                   462\n",
       "сделка с автомобилем                      455\n",
       "высшее образование                        453\n",
       "получение дополнительного образования     447\n",
       "образование                               447\n",
       "получение образования                     443\n",
       "профильное образование                    436\n",
       "получение высшего образования             426\n",
       "заняться образованием                     412\n",
       "Name: purpose, dtype: int64"
      ]
     },
     "metadata": {},
     "output_type": "display_data"
    }
   ],
   "source": [
    "df['education'] = df['education'].str.lower()\n",
    "# Проверка\n",
    "display(df['education'].value_counts())\n",
    "\n",
    "# Поиск неявных дубликатов в других столбцах\n",
    "display(df['family_status'].value_counts())\n",
    "\n",
    "display(df['gender'].value_counts())\n",
    "\n",
    "display(df['income_type'].value_counts())\n",
    "\n",
    "display(df['purpose'].value_counts())\n",
    "# display(df)\n",
    "# df.duplicated().sum()"
   ]
  },
  {
   "cell_type": "markdown",
   "id": "fa46e635",
   "metadata": {},
   "source": [
    "Неявных дубликатов в других столбцах нет. Единственное, в столбце с гендером есть неопознаное значение XNA. С ним нужно что-то придумать и в столбце \"цель\" придется потом поиграться, чтобы немного объединить по смысловым группам."
   ]
  },
  {
   "cell_type": "code",
   "execution_count": 12,
   "id": "bf4c2548",
   "metadata": {},
   "outputs": [
    {
     "data": {
      "text/html": [
       "<div>\n",
       "<style scoped>\n",
       "    .dataframe tbody tr th:only-of-type {\n",
       "        vertical-align: middle;\n",
       "    }\n",
       "\n",
       "    .dataframe tbody tr th {\n",
       "        vertical-align: top;\n",
       "    }\n",
       "\n",
       "    .dataframe thead th {\n",
       "        text-align: right;\n",
       "    }\n",
       "</style>\n",
       "<table border=\"1\" class=\"dataframe\">\n",
       "  <thead>\n",
       "    <tr style=\"text-align: right;\">\n",
       "      <th></th>\n",
       "      <th>children</th>\n",
       "      <th>days_employed</th>\n",
       "      <th>dob_years</th>\n",
       "      <th>education</th>\n",
       "      <th>education_id</th>\n",
       "      <th>family_status</th>\n",
       "      <th>family_status_id</th>\n",
       "      <th>gender</th>\n",
       "      <th>income_type</th>\n",
       "      <th>debt</th>\n",
       "      <th>total_income</th>\n",
       "      <th>purpose</th>\n",
       "    </tr>\n",
       "  </thead>\n",
       "  <tbody>\n",
       "    <tr>\n",
       "      <td>10701</td>\n",
       "      <td>0</td>\n",
       "      <td>2358</td>\n",
       "      <td>24</td>\n",
       "      <td>неоконченное высшее</td>\n",
       "      <td>2</td>\n",
       "      <td>гражданский брак</td>\n",
       "      <td>1</td>\n",
       "      <td>XNA</td>\n",
       "      <td>компаньон</td>\n",
       "      <td>0</td>\n",
       "      <td>203905</td>\n",
       "      <td>покупка недвижимости</td>\n",
       "    </tr>\n",
       "  </tbody>\n",
       "</table>\n",
       "</div>"
      ],
      "text/plain": [
       "       children  days_employed  dob_years            education  education_id  \\\n",
       "10701         0           2358         24  неоконченное высшее             2   \n",
       "\n",
       "          family_status  family_status_id gender income_type  debt  \\\n",
       "10701  гражданский брак                 1    XNA   компаньон     0   \n",
       "\n",
       "       total_income               purpose  \n",
       "10701        203905  покупка недвижимости  "
      ]
     },
     "metadata": {},
     "output_type": "display_data"
    }
   ],
   "source": [
    "# Определим индекс строки, где указано значени XNA и потом используем его, чтобы удалить данную строку\n",
    "display(df[df['gender'] == 'XNA'])"
   ]
  },
  {
   "cell_type": "code",
   "execution_count": 13,
   "id": "ca89f841",
   "metadata": {},
   "outputs": [],
   "source": [
    "# Удаляем строку с нужным индексом\n",
    "df.drop(labels = [10701],axis = 0, inplace = True)\n",
    "\n",
    "# Сбрасываем порядок индексов\n",
    "df = pd.concat([df], ignore_index=0)\n",
    "# Проверяем, что строка удалена\n",
    "# df.info()"
   ]
  },
  {
   "cell_type": "markdown",
   "id": "99ea4da5",
   "metadata": {},
   "source": [
    "Было принято решение: принебречь строкой со значением гендера XNA и удалить её. Теперь, когда ручной поиск явных дубликатов окончен, то сделаем проверку на наличие неявных дубликатов."
   ]
  },
  {
   "cell_type": "code",
   "execution_count": 14,
   "id": "ed7f9333",
   "metadata": {},
   "outputs": [
    {
     "data": {
      "text/plain": [
       "71"
      ]
     },
     "execution_count": 14,
     "metadata": {},
     "output_type": "execute_result"
    }
   ],
   "source": [
    "df.duplicated().sum()"
   ]
  },
  {
   "cell_type": "markdown",
   "id": "8d8b1516",
   "metadata": {},
   "source": [
    "71 явных дубликатов после наших некоторых преобразований. Думаю можно ими тоже принибречь и удалить"
   ]
  },
  {
   "cell_type": "code",
   "execution_count": 15,
   "id": "c340bfde",
   "metadata": {},
   "outputs": [
    {
     "data": {
      "text/plain": [
       "0"
      ]
     },
     "execution_count": 15,
     "metadata": {},
     "output_type": "execute_result"
    }
   ],
   "source": [
    "# Удалим сначала явные дубликаты и \"сбросим\" индексы\n",
    "df = df.drop_duplicates().reset_index(drop=True)\n",
    "# Проверка\n",
    "df.duplicated().sum()"
   ]
  },
  {
   "cell_type": "markdown",
   "id": "482d6b01",
   "metadata": {},
   "source": [
    "Первоначально я сделал поиск явных дубликатов и сразу удалил их. Затем начал поиск неявных дубликатов вручную (с проверкой на регистр). Привёл к общему регистру, сделал проверку на наличие явных дубликатов и снова появились новые. Тогда пересмотрел тактику, решив, что это излишний повтор одних и тех же действий (дважды удалять явные дубликаты). Тогда сначала поискал все неявные дубликаты, разобрался с ними и только потом сделал поиск явных дубликатов и удалил их."
   ]
  },
  {
   "cell_type": "markdown",
   "id": "f749cc9f",
   "metadata": {},
   "source": [
    "### Шаг 2.5. Формирование дополнительных датафреймов словарей, декомпозиция исходного датафрейма."
   ]
  },
  {
   "cell_type": "code",
   "execution_count": 16,
   "id": "960dd70c",
   "metadata": {},
   "outputs": [
    {
     "data": {
      "text/html": [
       "<div>\n",
       "<style scoped>\n",
       "    .dataframe tbody tr th:only-of-type {\n",
       "        vertical-align: middle;\n",
       "    }\n",
       "\n",
       "    .dataframe tbody tr th {\n",
       "        vertical-align: top;\n",
       "    }\n",
       "\n",
       "    .dataframe thead th {\n",
       "        text-align: right;\n",
       "    }\n",
       "</style>\n",
       "<table border=\"1\" class=\"dataframe\">\n",
       "  <thead>\n",
       "    <tr style=\"text-align: right;\">\n",
       "      <th></th>\n",
       "      <th>family_status_id</th>\n",
       "      <th>family_status</th>\n",
       "    </tr>\n",
       "  </thead>\n",
       "  <tbody>\n",
       "    <tr>\n",
       "      <td>0</td>\n",
       "      <td>0</td>\n",
       "      <td>женат / замужем</td>\n",
       "    </tr>\n",
       "    <tr>\n",
       "      <td>1</td>\n",
       "      <td>0</td>\n",
       "      <td>женат / замужем</td>\n",
       "    </tr>\n",
       "    <tr>\n",
       "      <td>2</td>\n",
       "      <td>0</td>\n",
       "      <td>женат / замужем</td>\n",
       "    </tr>\n",
       "    <tr>\n",
       "      <td>3</td>\n",
       "      <td>0</td>\n",
       "      <td>женат / замужем</td>\n",
       "    </tr>\n",
       "    <tr>\n",
       "      <td>4</td>\n",
       "      <td>1</td>\n",
       "      <td>гражданский брак</td>\n",
       "    </tr>\n",
       "    <tr>\n",
       "      <td>...</td>\n",
       "      <td>...</td>\n",
       "      <td>...</td>\n",
       "    </tr>\n",
       "    <tr>\n",
       "      <td>21448</td>\n",
       "      <td>1</td>\n",
       "      <td>гражданский брак</td>\n",
       "    </tr>\n",
       "    <tr>\n",
       "      <td>21449</td>\n",
       "      <td>0</td>\n",
       "      <td>женат / замужем</td>\n",
       "    </tr>\n",
       "    <tr>\n",
       "      <td>21450</td>\n",
       "      <td>1</td>\n",
       "      <td>гражданский брак</td>\n",
       "    </tr>\n",
       "    <tr>\n",
       "      <td>21451</td>\n",
       "      <td>0</td>\n",
       "      <td>женат / замужем</td>\n",
       "    </tr>\n",
       "    <tr>\n",
       "      <td>21452</td>\n",
       "      <td>0</td>\n",
       "      <td>женат / замужем</td>\n",
       "    </tr>\n",
       "  </tbody>\n",
       "</table>\n",
       "<p>21453 rows × 2 columns</p>\n",
       "</div>"
      ],
      "text/plain": [
       "       family_status_id     family_status\n",
       "0                     0   женат / замужем\n",
       "1                     0   женат / замужем\n",
       "2                     0   женат / замужем\n",
       "3                     0   женат / замужем\n",
       "4                     1  гражданский брак\n",
       "...                 ...               ...\n",
       "21448                 1  гражданский брак\n",
       "21449                 0   женат / замужем\n",
       "21450                 1  гражданский брак\n",
       "21451                 0   женат / замужем\n",
       "21452                 0   женат / замужем\n",
       "\n",
       "[21453 rows x 2 columns]"
      ]
     },
     "metadata": {},
     "output_type": "display_data"
    }
   ],
   "source": [
    "# Создадим два датафрейма из исходного\n",
    "df_education = df[['education_id', 'education']]\n",
    "df_family = df[['family_status_id', 'family_status']]\n",
    "\n",
    "# Проверка\n",
    "# display(df_education)\n",
    "display(df_family)\n",
    "\n",
    "# Удаляем уже лишние столбцы из исходного датафрейма\n",
    "df.drop(columns = ['education', 'family_status'],axis = 1, inplace=True)"
   ]
  },
  {
   "cell_type": "markdown",
   "id": "3e145c64",
   "metadata": {},
   "source": [
    "### Шаг 2.6. Категоризация дохода."
   ]
  },
  {
   "cell_type": "markdown",
   "id": "980a5715",
   "metadata": {},
   "source": [
    "Напишем собственную функцию для категоризации заёмщиков, в зависимости от их дохода. И создадим новый столбец с категорией доходности, использовав новую функцию."
   ]
  },
  {
   "cell_type": "code",
   "execution_count": 17,
   "id": "4a95c0ac",
   "metadata": {},
   "outputs": [
    {
     "data": {
      "text/plain": [
       "C    16016\n",
       "B     5040\n",
       "D      350\n",
       "A       25\n",
       "E       22\n",
       "Name: total_income_category, dtype: int64"
      ]
     },
     "metadata": {},
     "output_type": "display_data"
    }
   ],
   "source": [
    "def income_category(income):\n",
    "    if income <= 30000:\n",
    "        return 'E'\n",
    "    elif 30001 <= income <= 50000:\n",
    "        return 'D'\n",
    "    elif 50001 <= income <= 200000:\n",
    "        return 'C'\n",
    "    elif 200001 <= income <= 1000000:\n",
    "        return 'B'\n",
    "    elif income > 1000000:\n",
    "        return 'A'\n",
    "    \n",
    "df['total_income_category'] = df['total_income'].apply(income_category)\n",
    "\n",
    "#Проверка\n",
    "display(df['total_income_category'].value_counts())"
   ]
  },
  {
   "cell_type": "markdown",
   "id": "420e7abe",
   "metadata": {},
   "source": [
    "Категории присвоены верно и успешно"
   ]
  },
  {
   "cell_type": "markdown",
   "id": "81904e64",
   "metadata": {},
   "source": [
    "### Шаг 2.7. Категоризация целей кредита."
   ]
  },
  {
   "cell_type": "markdown",
   "id": "1c54bf89",
   "metadata": {},
   "source": [
    "Взглянем еще раз на уникальные значения в столбце \"цель\" займа. На оснвоании этих уникальных значений будет проще понять, как записать функцию с применением лемматизации."
   ]
  },
  {
   "cell_type": "code",
   "execution_count": 18,
   "id": "37c031be",
   "metadata": {},
   "outputs": [
    {
     "data": {
      "text/plain": [
       "свадьба                                   791\n",
       "на проведение свадьбы                     768\n",
       "сыграть свадьбу                           765\n",
       "операции с недвижимостью                  675\n",
       "покупка коммерческой недвижимости         661\n",
       "операции с жильем                         652\n",
       "покупка жилья для сдачи                   651\n",
       "операции с коммерческой недвижимостью     650\n",
       "жилье                                     646\n",
       "покупка жилья                             646\n",
       "покупка жилья для семьи                   638\n",
       "строительство собственной недвижимости    635\n",
       "недвижимость                              633\n",
       "операции со своей недвижимостью           627\n",
       "строительство жилой недвижимости          624\n",
       "покупка недвижимости                      620\n",
       "покупка своего жилья                      620\n",
       "строительство недвижимости                619\n",
       "ремонт жилью                              607\n",
       "покупка жилой недвижимости                606\n",
       "на покупку своего автомобиля              505\n",
       "заняться высшим образованием              496\n",
       "автомобиль                                494\n",
       "сделка с подержанным автомобилем          486\n",
       "свой автомобиль                           478\n",
       "на покупку подержанного автомобиля        478\n",
       "автомобили                                478\n",
       "на покупку автомобиля                     471\n",
       "приобретение автомобиля                   461\n",
       "дополнительное образование                460\n",
       "сделка с автомобилем                      455\n",
       "высшее образование                        452\n",
       "образование                               447\n",
       "получение дополнительного образования     446\n",
       "получение образования                     442\n",
       "профильное образование                    436\n",
       "получение высшего образования             426\n",
       "заняться образованием                     408\n",
       "Name: purpose, dtype: int64"
      ]
     },
     "metadata": {},
     "output_type": "display_data"
    }
   ],
   "source": [
    "display(df['purpose'].value_counts())"
   ]
  },
  {
   "cell_type": "code",
   "execution_count": 19,
   "id": "a881b7d8",
   "metadata": {},
   "outputs": [
    {
     "data": {
      "text/plain": [
       "операции с недвижимостью    10810\n",
       "операции с автомобилем       4306\n",
       "получение образования        4013\n",
       "проведение свадьбы           2324\n",
       "Name: purpose_category, dtype: int64"
      ]
     },
     "metadata": {},
     "output_type": "display_data"
    }
   ],
   "source": [
    "from pymystem3 import Mystem\n",
    "m = Mystem()\n",
    "\n",
    "def purpose_lemmer(row):\n",
    "    try:\n",
    "        purpose_list = m.lemmatize(row['purpose'])\n",
    "        if 'свадьба' in purpose_list:\n",
    "            return 'проведение свадьбы'\n",
    "        elif 'автомобиль' in purpose_list:\n",
    "            return 'операции с автомобилем'\n",
    "        elif 'образование' in purpose_list:\n",
    "            return 'получение образования'\n",
    "        elif 'недвижимость' in purpose_list or 'жилье' in purpose_list:\n",
    "            return 'операции с недвижимостью'\n",
    "    except:\n",
    "        return 'нет информации'\n",
    "    \n",
    "df['purpose_category'] = df.apply(purpose_lemmer, axis=1)    \n",
    "\n",
    "# Посмотрим на что больше всего люди хотят взять кредит\n",
    "display(df['purpose_category'].value_counts())       \n"
   ]
  },
  {
   "cell_type": "markdown",
   "id": "004ce982",
   "metadata": {},
   "source": [
    "Из вывода виден \"топ целей\" для взятия кредита. На первом месте это все, что связано с недвижимостью и жильем (покупка, ремонт..), на втором месте - все, что связано с автомобилем (так же покупка, ремонт..), третье - образование (получение высшего образования, дополнительного...), и на последнем месте это займ для проведения свадебных мероприятий."
   ]
  },
  {
   "cell_type": "markdown",
   "id": "e5006809",
   "metadata": {},
   "source": [
    "### Ответы на вопросы."
   ]
  },
  {
   "cell_type": "markdown",
   "id": "0688435c",
   "metadata": {},
   "source": [
    "##### Вопрос 1: Есть ли зависимость между количеством детей и возвратом кредита в срок?"
   ]
  },
  {
   "cell_type": "code",
   "execution_count": 20,
   "id": "f85a923d",
   "metadata": {},
   "outputs": [
    {
     "data": {
      "text/html": [
       "<div>\n",
       "<style scoped>\n",
       "    .dataframe tbody tr th:only-of-type {\n",
       "        vertical-align: middle;\n",
       "    }\n",
       "\n",
       "    .dataframe tbody tr th {\n",
       "        vertical-align: top;\n",
       "    }\n",
       "\n",
       "    .dataframe thead tr th {\n",
       "        text-align: left;\n",
       "    }\n",
       "\n",
       "    .dataframe thead tr:last-of-type th {\n",
       "        text-align: right;\n",
       "    }\n",
       "</style>\n",
       "<table border=\"1\" class=\"dataframe\">\n",
       "  <thead>\n",
       "    <tr>\n",
       "      <th></th>\n",
       "      <th colspan=\"2\" halign=\"left\">debt</th>\n",
       "      <th>percent</th>\n",
       "    </tr>\n",
       "    <tr>\n",
       "      <th></th>\n",
       "      <th>sum</th>\n",
       "      <th>count</th>\n",
       "      <th></th>\n",
       "    </tr>\n",
       "    <tr>\n",
       "      <th>children</th>\n",
       "      <th></th>\n",
       "      <th></th>\n",
       "      <th></th>\n",
       "    </tr>\n",
       "  </thead>\n",
       "  <tbody>\n",
       "    <tr>\n",
       "      <td>0</td>\n",
       "      <td>1064</td>\n",
       "      <td>14137</td>\n",
       "      <td>7.526349</td>\n",
       "    </tr>\n",
       "    <tr>\n",
       "      <td>1</td>\n",
       "      <td>444</td>\n",
       "      <td>4808</td>\n",
       "      <td>9.234609</td>\n",
       "    </tr>\n",
       "    <tr>\n",
       "      <td>2</td>\n",
       "      <td>202</td>\n",
       "      <td>2128</td>\n",
       "      <td>9.492481</td>\n",
       "    </tr>\n",
       "    <tr>\n",
       "      <td>3</td>\n",
       "      <td>27</td>\n",
       "      <td>330</td>\n",
       "      <td>8.181818</td>\n",
       "    </tr>\n",
       "    <tr>\n",
       "      <td>4</td>\n",
       "      <td>4</td>\n",
       "      <td>41</td>\n",
       "      <td>9.756098</td>\n",
       "    </tr>\n",
       "    <tr>\n",
       "      <td>5</td>\n",
       "      <td>0</td>\n",
       "      <td>9</td>\n",
       "      <td>0.000000</td>\n",
       "    </tr>\n",
       "  </tbody>\n",
       "</table>\n",
       "</div>"
      ],
      "text/plain": [
       "          debt          percent\n",
       "           sum  count          \n",
       "children                       \n",
       "0         1064  14137  7.526349\n",
       "1          444   4808  9.234609\n",
       "2          202   2128  9.492481\n",
       "3           27    330  8.181818\n",
       "4            4     41  9.756098\n",
       "5            0      9  0.000000"
      ]
     },
     "metadata": {},
     "output_type": "display_data"
    },
    {
     "data": {
      "text/plain": [
       "children\n",
       "5    0.000000\n",
       "0    7.526349\n",
       "3    8.181818\n",
       "1    9.234609\n",
       "2    9.492481\n",
       "4    9.756098\n",
       "Name: percent, dtype: float64"
      ]
     },
     "metadata": {},
     "output_type": "display_data"
    }
   ],
   "source": [
    "#display(df)\n",
    "\n",
    "#def check_children(row):\n",
    "    #how_much = row['children']\n",
    "    #if how_much < 0:\n",
    "       # how_much = 0\n",
    "       # return how_much\n",
    "   # elif how_much == 20:\n",
    "       # how_much = 2\n",
    "      #  return how_much\n",
    "\n",
    "#df[df['children'] < 0] = 0\n",
    "#df[df['children'] == 20] = 2\n",
    "#display(df[df['children'] >= 5].count())\n",
    "#df.apply(check_children, axis=1)\n",
    "\n",
    "\n",
    "df.loc[(df.children < 0), 'children'] = 0\n",
    "df.loc[(df.children == 20), 'children'] = 2\n",
    "#display(df['children'].value_counts())\n",
    "\n",
    "\n",
    "df1 = df.groupby(['children']).agg({'debt':['sum', 'count']})\n",
    "df1['percent'] = df1['debt']['sum'] / df1['debt']['count'] * 100\n",
    "\n",
    "display(df1)\n",
    "display(df1['percent'].sort_values())"
   ]
  },
  {
   "cell_type": "markdown",
   "id": "dfeb4cb3",
   "metadata": {},
   "source": [
    "##### Вывод 1: Есть ли зависимость между количеством детей и возвратом кредита в срок?"
   ]
  },
  {
   "cell_type": "markdown",
   "id": "ffaa9137",
   "metadata": {},
   "source": [
    "    В ходе изучения данных в столбце 'children', было обнаружено 47 значений равных \"-1\". Было принято решение таким значениям присоить значение 0, ссылаясь на то, что это возможно опять-таки \"ошибка\". Так же есть строки, где количество детей равно 20. Опираясь на то, что больше никаких других значений выше 5 в данных нет, то предположим, что это снова ошибка. И посчитаем, что люди с 2 детьми.\n",
    "\n",
    "    Далее сгруппировали всех заемщиков по количеству детей, так же добавили столбцы с количеством невернувших кредит в срок и общего столбца заемщиков. И в отдельном столбце рассчитали отношение \"невернувших\" займ к общему количеству заемщиков в процентах. Из полученной таблицы видно, что кредит берут в основном те люди, у которых нет детей, на втором месте те, у кого 1 ребенок в семье, потом двое и так далее. То есть количество заёмщиков уменьшается пропрционально с увеличением количества детей в семье. \n",
    "\n",
    "    Если рассмтаривать по \"успешности\" кредитной истории, то люди с 5ью детьми в 100/100 случаев погашают кредит без задолжности, но при этом они почти и не берут кредит. Второе и третье место разделяют люди не имюещие детей и с 3 детьми соотвественно. Самый худший показатель у людей с 2мя детьми, практически каждый 6ой заемщик не возвращает кредит в срок."
   ]
  },
  {
   "cell_type": "markdown",
   "id": "36b54edd",
   "metadata": {},
   "source": [
    "##### Вопрос 2: Есть ли зависимость между семейным положением и возвратом кредита в срок?"
   ]
  },
  {
   "cell_type": "markdown",
   "id": "271b7f85",
   "metadata": {},
   "source": [
    "Почему-то merge() у меня не работает. Юпитер пишет что ядро умерает, либо выдается ошибка, что не существует якобы датафрейма, хотя все ячейки до этого прекрасно работают. Перезагрузка тоже не помогла. Поэтому попробую ответить на вопросы, немного по-глупому пока что"
   ]
  },
  {
   "cell_type": "code",
   "execution_count": 21,
   "id": "9d2257ff",
   "metadata": {},
   "outputs": [
    {
     "name": "stderr",
     "output_type": "stream",
     "text": [
      "/opt/conda/lib/python3.7/site-packages/ipykernel_launcher.py:6: SettingWithCopyWarning: \n",
      "A value is trying to be set on a copy of a slice from a DataFrame.\n",
      "Try using .loc[row_indexer,col_indexer] = value instead\n",
      "\n",
      "See the caveats in the documentation: http://pandas.pydata.org/pandas-docs/stable/user_guide/indexing.html#returning-a-view-versus-a-copy\n",
      "  \n"
     ]
    },
    {
     "data": {
      "text/html": [
       "<div>\n",
       "<style scoped>\n",
       "    .dataframe tbody tr th:only-of-type {\n",
       "        vertical-align: middle;\n",
       "    }\n",
       "\n",
       "    .dataframe tbody tr th {\n",
       "        vertical-align: top;\n",
       "    }\n",
       "\n",
       "    .dataframe thead tr th {\n",
       "        text-align: left;\n",
       "    }\n",
       "\n",
       "    .dataframe thead tr:last-of-type th {\n",
       "        text-align: right;\n",
       "    }\n",
       "</style>\n",
       "<table border=\"1\" class=\"dataframe\">\n",
       "  <thead>\n",
       "    <tr>\n",
       "      <th></th>\n",
       "      <th colspan=\"2\" halign=\"left\">debt</th>\n",
       "      <th>percent</th>\n",
       "    </tr>\n",
       "    <tr>\n",
       "      <th></th>\n",
       "      <th>sum</th>\n",
       "      <th>count</th>\n",
       "      <th></th>\n",
       "    </tr>\n",
       "    <tr>\n",
       "      <th>family_status</th>\n",
       "      <th></th>\n",
       "      <th></th>\n",
       "      <th></th>\n",
       "    </tr>\n",
       "  </thead>\n",
       "  <tbody>\n",
       "    <tr>\n",
       "      <td>Не женат / не замужем</td>\n",
       "      <td>274</td>\n",
       "      <td>2810</td>\n",
       "      <td>9.750890</td>\n",
       "    </tr>\n",
       "    <tr>\n",
       "      <td>в разводе</td>\n",
       "      <td>85</td>\n",
       "      <td>1195</td>\n",
       "      <td>7.112971</td>\n",
       "    </tr>\n",
       "    <tr>\n",
       "      <td>вдовец / вдова</td>\n",
       "      <td>63</td>\n",
       "      <td>959</td>\n",
       "      <td>6.569343</td>\n",
       "    </tr>\n",
       "    <tr>\n",
       "      <td>гражданский брак</td>\n",
       "      <td>388</td>\n",
       "      <td>4150</td>\n",
       "      <td>9.349398</td>\n",
       "    </tr>\n",
       "    <tr>\n",
       "      <td>женат / замужем</td>\n",
       "      <td>931</td>\n",
       "      <td>12339</td>\n",
       "      <td>7.545182</td>\n",
       "    </tr>\n",
       "  </tbody>\n",
       "</table>\n",
       "</div>"
      ],
      "text/plain": [
       "                      debt          percent\n",
       "                       sum  count          \n",
       "family_status                              \n",
       "Не женат / не замужем  274   2810  9.750890\n",
       "в разводе               85   1195  7.112971\n",
       "вдовец / вдова          63    959  6.569343\n",
       "гражданский брак       388   4150  9.349398\n",
       "женат / замужем        931  12339  7.545182"
      ]
     },
     "metadata": {},
     "output_type": "display_data"
    },
    {
     "data": {
      "text/plain": [
       "family_status\n",
       "вдовец / вдова           6.569343\n",
       "в разводе                7.112971\n",
       "женат / замужем          7.545182\n",
       "гражданский брак         9.349398\n",
       "Не женат / не замужем    9.750890\n",
       "Name: percent, dtype: float64"
      ]
     },
     "metadata": {},
     "output_type": "display_data"
    }
   ],
   "source": [
    "# df_family_debt = df[['family_status_id', 'debt']]\n",
    "# df2 = df_family.merge(df_family_debt, on='family_status_id',how='right')\n",
    "# display(df2.head())\n",
    "\n",
    "\n",
    "df_family['debt'] = df['debt']\n",
    "df2 = df_family.groupby(['family_status']).agg({'debt':['sum', 'count']})\n",
    "df2['percent'] = df2['debt']['sum'] / df2['debt']['count'] * 100\n",
    "display(df2)\n",
    "display(df2['percent'].sort_values())"
   ]
  },
  {
   "cell_type": "markdown",
   "id": "3a748d1c",
   "metadata": {},
   "source": [
    "##### Вывод 2: Есть ли зависимость между семейным положением и возвратом кредита в срок?"
   ]
  },
  {
   "cell_type": "markdown",
   "id": "0829d267",
   "metadata": {},
   "source": [
    "    Из полученных данных, видим, что заемщики вдовы и вдовцы имеют самую успешную кредитную историю 6,5%. Но и берут кредит они, в целом, в разы меньше, чем женатые и замужние. Чей показатель по задолженсти расположился на 3ьем месте - 7,5%. Самый худший показатель задолжности у не женатых и не замужних - каждый 10% практически выплачивает кредит не в срок."
   ]
  },
  {
   "cell_type": "markdown",
   "id": "da04e19e",
   "metadata": {},
   "source": [
    "##### Вопрос 3: Есть ли зависимость между уровнем дохода и возвратом кредита в срок?"
   ]
  },
  {
   "cell_type": "code",
   "execution_count": 22,
   "id": "7ac1d363",
   "metadata": {},
   "outputs": [
    {
     "data": {
      "text/html": [
       "<div>\n",
       "<style scoped>\n",
       "    .dataframe tbody tr th:only-of-type {\n",
       "        vertical-align: middle;\n",
       "    }\n",
       "\n",
       "    .dataframe tbody tr th {\n",
       "        vertical-align: top;\n",
       "    }\n",
       "\n",
       "    .dataframe thead th {\n",
       "        text-align: right;\n",
       "    }\n",
       "</style>\n",
       "<table border=\"1\" class=\"dataframe\">\n",
       "  <thead>\n",
       "    <tr style=\"text-align: right;\">\n",
       "      <th></th>\n",
       "      <th>sum</th>\n",
       "      <th>count</th>\n",
       "      <th>mean</th>\n",
       "    </tr>\n",
       "    <tr>\n",
       "      <th>total_income_category</th>\n",
       "      <th></th>\n",
       "      <th></th>\n",
       "      <th></th>\n",
       "    </tr>\n",
       "  </thead>\n",
       "  <tbody>\n",
       "    <tr>\n",
       "      <td>A</td>\n",
       "      <td>2</td>\n",
       "      <td>25</td>\n",
       "      <td>0.080000</td>\n",
       "    </tr>\n",
       "    <tr>\n",
       "      <td>B</td>\n",
       "      <td>356</td>\n",
       "      <td>5040</td>\n",
       "      <td>0.070635</td>\n",
       "    </tr>\n",
       "    <tr>\n",
       "      <td>C</td>\n",
       "      <td>1360</td>\n",
       "      <td>16016</td>\n",
       "      <td>0.084915</td>\n",
       "    </tr>\n",
       "    <tr>\n",
       "      <td>D</td>\n",
       "      <td>21</td>\n",
       "      <td>350</td>\n",
       "      <td>0.060000</td>\n",
       "    </tr>\n",
       "    <tr>\n",
       "      <td>E</td>\n",
       "      <td>2</td>\n",
       "      <td>22</td>\n",
       "      <td>0.090909</td>\n",
       "    </tr>\n",
       "  </tbody>\n",
       "</table>\n",
       "</div>"
      ],
      "text/plain": [
       "                        sum  count      mean\n",
       "total_income_category                       \n",
       "A                         2     25  0.080000\n",
       "B                       356   5040  0.070635\n",
       "C                      1360  16016  0.084915\n",
       "D                        21    350  0.060000\n",
       "E                         2     22  0.090909"
      ]
     },
     "metadata": {},
     "output_type": "display_data"
    }
   ],
   "source": [
    "# df3 = df.groupby(['total_income_category']).agg({'debt':['sum', 'count']})\n",
    "# df3['percent'] = df3['debt']['sum'] / df3['debt']['count'] * 100\n",
    "# display(df3)\n",
    "# display(df3['percent'].sort_values())\n",
    "\n",
    "df3 = df.pivot_table(index='total_income_category', values = 'debt', aggfunc=['sum', 'count', 'mean'])\n",
    "df3.columns = ['sum', 'count', 'mean']\n",
    "#df3.sort_values(by='mean')\n",
    "display(df3)\n",
    "# 0–30000 — 'E';\n",
    "# 30001–50000 — 'D';\n",
    "# 50001–200000 — 'C';\n",
    "# 200001–1000000 — 'B';\n",
    "# 1000001 и выше — 'A'"
   ]
  },
  {
   "cell_type": "markdown",
   "id": "23e64c5c",
   "metadata": {},
   "source": [
    "##### Вывод 3: Есть ли зависимость между уровнем дохода и возвратом кредита в срок?"
   ]
  },
  {
   "cell_type": "markdown",
   "id": "d4a70335",
   "metadata": {},
   "source": [
    "    Из таблицы видим, что люди из категории D (с доходом от 30к-50к) редко берут кредит и с большей долей погашают его в срок.\n",
    "    Хуже всех погашают кредит в срок люди, чей доход составляет меньше 30к рублей, но при этом они и берут кредит крайне редко.\n",
    "    Чаще всего кредит берут люди из категории С (доход 50к-200к) и при этом занимают 4е место по количеству не должников в топ5"
   ]
  },
  {
   "cell_type": "markdown",
   "id": "30908cdd",
   "metadata": {},
   "source": [
    "##### Вопрос 4: Как разные цели кредита влияют на его возврат в срок?"
   ]
  },
  {
   "cell_type": "code",
   "execution_count": 23,
   "id": "5bcfc5e1",
   "metadata": {},
   "outputs": [
    {
     "data": {
      "text/html": [
       "<div>\n",
       "<style scoped>\n",
       "    .dataframe tbody tr th:only-of-type {\n",
       "        vertical-align: middle;\n",
       "    }\n",
       "\n",
       "    .dataframe tbody tr th {\n",
       "        vertical-align: top;\n",
       "    }\n",
       "\n",
       "    .dataframe thead tr th {\n",
       "        text-align: left;\n",
       "    }\n",
       "\n",
       "    .dataframe thead tr:last-of-type th {\n",
       "        text-align: right;\n",
       "    }\n",
       "</style>\n",
       "<table border=\"1\" class=\"dataframe\">\n",
       "  <thead>\n",
       "    <tr>\n",
       "      <th></th>\n",
       "      <th colspan=\"2\" halign=\"left\">debt</th>\n",
       "      <th>percent</th>\n",
       "    </tr>\n",
       "    <tr>\n",
       "      <th></th>\n",
       "      <th>sum</th>\n",
       "      <th>count</th>\n",
       "      <th></th>\n",
       "    </tr>\n",
       "    <tr>\n",
       "      <th>purpose_category</th>\n",
       "      <th></th>\n",
       "      <th></th>\n",
       "      <th></th>\n",
       "    </tr>\n",
       "  </thead>\n",
       "  <tbody>\n",
       "    <tr>\n",
       "      <td>операции с автомобилем</td>\n",
       "      <td>403</td>\n",
       "      <td>4306</td>\n",
       "      <td>9.359034</td>\n",
       "    </tr>\n",
       "    <tr>\n",
       "      <td>операции с недвижимостью</td>\n",
       "      <td>782</td>\n",
       "      <td>10810</td>\n",
       "      <td>7.234043</td>\n",
       "    </tr>\n",
       "    <tr>\n",
       "      <td>получение образования</td>\n",
       "      <td>370</td>\n",
       "      <td>4013</td>\n",
       "      <td>9.220035</td>\n",
       "    </tr>\n",
       "    <tr>\n",
       "      <td>проведение свадьбы</td>\n",
       "      <td>186</td>\n",
       "      <td>2324</td>\n",
       "      <td>8.003442</td>\n",
       "    </tr>\n",
       "  </tbody>\n",
       "</table>\n",
       "</div>"
      ],
      "text/plain": [
       "                         debt          percent\n",
       "                          sum  count          \n",
       "purpose_category                              \n",
       "операции с автомобилем    403   4306  9.359034\n",
       "операции с недвижимостью  782  10810  7.234043\n",
       "получение образования     370   4013  9.220035\n",
       "проведение свадьбы        186   2324  8.003442"
      ]
     },
     "metadata": {},
     "output_type": "display_data"
    },
    {
     "data": {
      "text/plain": [
       "purpose_category\n",
       "операции с недвижимостью    7.234043\n",
       "проведение свадьбы          8.003442\n",
       "получение образования       9.220035\n",
       "операции с автомобилем      9.359034\n",
       "Name: percent, dtype: float64"
      ]
     },
     "metadata": {},
     "output_type": "display_data"
    }
   ],
   "source": [
    "df4 = df.groupby(['purpose_category']).agg({'debt':['sum', 'count']})\n",
    "df4['percent'] = df4['debt']['sum'] / df4['debt']['count'] * 100\n",
    "display(df4)\n",
    "display(df4['percent'].sort_values())"
   ]
  },
  {
   "cell_type": "markdown",
   "id": "2e6c9647",
   "metadata": {},
   "source": [
    "##### Вывод 4: Как разные цели кредита влияют на его возврат в срок?"
   ]
  },
  {
   "cell_type": "markdown",
   "id": "5eca79dc",
   "metadata": {},
   "source": [
    "    Из полученного топ4 видим, что чаще всего в срок кредит возвращают люди, которую берут его для покупки недвижимости, ремонта и так далее. И при этом такая категория людей чаще всего, в целом, и обращаются в банк за кредитом.\n",
    "    Самой худшей кредитной историей обладают люди, которые берут кредит для операций с автомобилем (покупка, ремнот..)\n"
   ]
  },
  {
   "cell_type": "markdown",
   "id": "f44625de",
   "metadata": {},
   "source": [
    "## Общий вывод:"
   ]
  },
  {
   "cell_type": "markdown",
   "id": "606322fd",
   "metadata": {},
   "source": [
    "В ходе данного исследования можно сделать следующие выводы. Мы провели 4 сравнительных анализа о том, как влияет разная категория заемщиков на их успешную кредитную историю. Таким образом выяснили, что чаще всего погашают кредит в срок люди: \n",
    " + многодетные заемщики и те, у кого нет детей вовсе (~0-7.5);\n",
    " + вдовы/ вдовцы или те, кто в разводе (~6,5-7,1%);\n",
    " + люди с ежемесячным доходом от 30к-50к рублей или люди с доходом 200к-1млн (~6.0-7.0%);\n",
    " + заещики, чья цель взятия кредита связана с недвижимостью или свадьбой (~7.2-8.0%).\n",
    "Все оставшиеся категории в каждом пункте соотвественно имеют более низкие показатели.\n",
    "\n",
    "Таким образом, можно составить примерно описать и тип клиента, которой с наибольшей вероятностью просрочет выплату кредита:\n",
    "   - клиент, у кого 2е и больше детей, не состоит в браке, доход до 30к рублей и цель кредита связана с автомобилем."
   ]
  }
 ],
 "metadata": {
  "ExecuteTimeLog": [
   {
    "duration": 759,
    "start_time": "2022-02-07T15:39:29.577Z"
   },
   {
    "duration": 104,
    "start_time": "2022-02-07T15:39:30.338Z"
   },
   {
    "duration": 108,
    "start_time": "2022-02-07T15:42:04.804Z"
   },
   {
    "duration": 787,
    "start_time": "2022-02-09T09:47:20.081Z"
   },
   {
    "duration": 86,
    "start_time": "2022-02-09T09:47:20.871Z"
   },
   {
    "duration": 86,
    "start_time": "2022-02-09T09:53:05.176Z"
   },
   {
    "duration": 96,
    "start_time": "2022-02-09T09:53:16.182Z"
   },
   {
    "duration": 65,
    "start_time": "2022-02-09T09:53:39.020Z"
   },
   {
    "duration": 3,
    "start_time": "2022-02-09T10:38:53.555Z"
   },
   {
    "duration": 74,
    "start_time": "2022-02-09T10:38:53.561Z"
   },
   {
    "duration": 14,
    "start_time": "2022-02-09T10:38:53.639Z"
   },
   {
    "duration": 4,
    "start_time": "2022-02-09T10:48:52.224Z"
   },
   {
    "duration": 7,
    "start_time": "2022-02-09T10:54:01.884Z"
   },
   {
    "duration": 8,
    "start_time": "2022-02-09T10:54:12.536Z"
   },
   {
    "duration": 4123,
    "start_time": "2022-02-09T11:09:58.702Z"
   },
   {
    "duration": 4348,
    "start_time": "2022-02-09T11:10:15.976Z"
   },
   {
    "duration": 4644,
    "start_time": "2022-02-09T11:11:23.351Z"
   },
   {
    "duration": 5258,
    "start_time": "2022-02-09T11:13:44.979Z"
   },
   {
    "duration": 4226,
    "start_time": "2022-02-09T11:14:13.377Z"
   },
   {
    "duration": 98,
    "start_time": "2022-02-09T11:17:35.702Z"
   },
   {
    "duration": 289,
    "start_time": "2022-02-09T11:17:40.760Z"
   },
   {
    "duration": 76,
    "start_time": "2022-02-09T11:18:16.071Z"
   },
   {
    "duration": 4,
    "start_time": "2022-02-09T11:18:26.510Z"
   },
   {
    "duration": 77,
    "start_time": "2022-02-09T11:18:26.516Z"
   },
   {
    "duration": 13,
    "start_time": "2022-02-09T11:18:26.635Z"
   },
   {
    "duration": 5,
    "start_time": "2022-02-09T11:18:26.651Z"
   },
   {
    "duration": 14,
    "start_time": "2022-02-09T11:18:26.742Z"
   },
   {
    "duration": 4,
    "start_time": "2022-02-09T11:18:47.980Z"
   },
   {
    "duration": 92,
    "start_time": "2022-02-09T11:18:47.986Z"
   },
   {
    "duration": 15,
    "start_time": "2022-02-09T11:18:48.082Z"
   },
   {
    "duration": 27,
    "start_time": "2022-02-09T11:18:48.100Z"
   },
   {
    "duration": 3820,
    "start_time": "2022-02-09T11:18:48.130Z"
   },
   {
    "duration": 4558,
    "start_time": "2022-02-09T11:25:39.193Z"
   },
   {
    "duration": 3,
    "start_time": "2022-02-09T11:25:57.208Z"
   },
   {
    "duration": 119,
    "start_time": "2022-02-09T11:25:57.214Z"
   },
   {
    "duration": 21,
    "start_time": "2022-02-09T11:25:57.336Z"
   },
   {
    "duration": 6,
    "start_time": "2022-02-09T11:25:57.360Z"
   },
   {
    "duration": 24,
    "start_time": "2022-02-09T11:25:57.369Z"
   },
   {
    "duration": 4,
    "start_time": "2022-02-09T11:26:29.037Z"
   },
   {
    "duration": 71,
    "start_time": "2022-02-09T11:26:29.043Z"
   },
   {
    "duration": 12,
    "start_time": "2022-02-09T11:26:29.117Z"
   },
   {
    "duration": 31,
    "start_time": "2022-02-09T11:26:29.132Z"
   },
   {
    "duration": 398,
    "start_time": "2022-02-09T11:26:29.166Z"
   },
   {
    "duration": 3,
    "start_time": "2022-02-09T11:26:52.751Z"
   },
   {
    "duration": 81,
    "start_time": "2022-02-09T11:26:52.757Z"
   },
   {
    "duration": 13,
    "start_time": "2022-02-09T11:26:52.842Z"
   },
   {
    "duration": 6,
    "start_time": "2022-02-09T11:26:52.857Z"
   },
   {
    "duration": 17,
    "start_time": "2022-02-09T11:26:52.865Z"
   },
   {
    "duration": 19,
    "start_time": "2022-02-09T11:43:24.853Z"
   },
   {
    "duration": 601,
    "start_time": "2022-02-16T20:21:10.645Z"
   },
   {
    "duration": 64,
    "start_time": "2022-02-16T20:21:11.248Z"
   },
   {
    "duration": 9,
    "start_time": "2022-02-16T20:21:11.314Z"
   },
   {
    "duration": 16,
    "start_time": "2022-02-16T20:21:11.325Z"
   },
   {
    "duration": 40,
    "start_time": "2022-02-16T20:21:11.343Z"
   },
   {
    "duration": 6,
    "start_time": "2022-02-16T20:40:29.480Z"
   },
   {
    "duration": -589,
    "start_time": "2022-02-16T21:05:24.787Z"
   },
   {
    "duration": 2,
    "start_time": "2022-02-16T21:05:27.723Z"
   },
   {
    "duration": 56,
    "start_time": "2022-02-16T21:05:27.745Z"
   },
   {
    "duration": 8,
    "start_time": "2022-02-16T21:05:27.803Z"
   },
   {
    "duration": 15,
    "start_time": "2022-02-16T21:05:27.812Z"
   },
   {
    "duration": 30,
    "start_time": "2022-02-16T21:05:27.829Z"
   },
   {
    "duration": 5,
    "start_time": "2022-02-16T21:05:27.860Z"
   },
   {
    "duration": 4362,
    "start_time": "2022-02-16T21:05:27.866Z"
   },
   {
    "duration": 11,
    "start_time": "2022-02-16T21:05:42.121Z"
   },
   {
    "duration": 11,
    "start_time": "2022-02-16T21:06:02.652Z"
   },
   {
    "duration": 11,
    "start_time": "2022-02-16T21:06:23.939Z"
   },
   {
    "duration": 8,
    "start_time": "2022-02-16T21:11:03.081Z"
   },
   {
    "duration": 170,
    "start_time": "2022-02-16T21:11:35.377Z"
   },
   {
    "duration": 6,
    "start_time": "2022-02-16T21:12:37.658Z"
   },
   {
    "duration": 5,
    "start_time": "2022-02-16T21:12:53.702Z"
   },
   {
    "duration": 28,
    "start_time": "2022-02-16T21:13:37.301Z"
   },
   {
    "duration": 2,
    "start_time": "2022-02-16T21:14:02.602Z"
   },
   {
    "duration": 56,
    "start_time": "2022-02-16T21:14:02.606Z"
   },
   {
    "duration": 9,
    "start_time": "2022-02-16T21:14:02.664Z"
   },
   {
    "duration": 13,
    "start_time": "2022-02-16T21:14:02.675Z"
   },
   {
    "duration": 15,
    "start_time": "2022-02-16T21:14:02.690Z"
   },
   {
    "duration": 5,
    "start_time": "2022-02-16T21:14:02.706Z"
   },
   {
    "duration": 55,
    "start_time": "2022-02-16T21:14:02.712Z"
   },
   {
    "duration": 3,
    "start_time": "2022-02-16T21:14:16.118Z"
   },
   {
    "duration": 54,
    "start_time": "2022-02-16T21:14:16.123Z"
   },
   {
    "duration": 12,
    "start_time": "2022-02-16T21:14:16.179Z"
   },
   {
    "duration": 12,
    "start_time": "2022-02-16T21:14:16.193Z"
   },
   {
    "duration": 16,
    "start_time": "2022-02-16T21:14:16.207Z"
   },
   {
    "duration": 4,
    "start_time": "2022-02-16T21:14:16.225Z"
   },
   {
    "duration": 37,
    "start_time": "2022-02-16T21:14:16.231Z"
   },
   {
    "duration": 11,
    "start_time": "2022-02-16T21:16:24.384Z"
   },
   {
    "duration": 13,
    "start_time": "2022-02-16T21:16:52.565Z"
   },
   {
    "duration": 56,
    "start_time": "2022-02-16T21:20:32.452Z"
   },
   {
    "duration": 73,
    "start_time": "2022-02-16T21:20:42.646Z"
   },
   {
    "duration": 59,
    "start_time": "2022-02-16T21:21:02.910Z"
   },
   {
    "duration": 184,
    "start_time": "2022-02-16T21:21:20.331Z"
   },
   {
    "duration": 11,
    "start_time": "2022-02-16T21:21:31.250Z"
   },
   {
    "duration": 12,
    "start_time": "2022-02-16T21:22:30.357Z"
   },
   {
    "duration": 10,
    "start_time": "2022-02-16T21:23:14.713Z"
   },
   {
    "duration": 15,
    "start_time": "2022-02-16T21:28:51.603Z"
   },
   {
    "duration": 29,
    "start_time": "2022-02-16T21:31:26.108Z"
   },
   {
    "duration": 581,
    "start_time": "2022-02-17T16:57:19.834Z"
   },
   {
    "duration": 74,
    "start_time": "2022-02-17T16:57:20.416Z"
   },
   {
    "duration": 9,
    "start_time": "2022-02-17T16:57:20.492Z"
   },
   {
    "duration": 7,
    "start_time": "2022-02-17T16:57:20.503Z"
   },
   {
    "duration": 27,
    "start_time": "2022-02-17T16:57:20.512Z"
   },
   {
    "duration": 6,
    "start_time": "2022-02-17T16:57:20.541Z"
   },
   {
    "duration": 12,
    "start_time": "2022-02-17T16:57:20.549Z"
   },
   {
    "duration": 31,
    "start_time": "2022-02-17T16:57:20.563Z"
   },
   {
    "duration": 27,
    "start_time": "2022-02-17T17:02:52.083Z"
   },
   {
    "duration": 18,
    "start_time": "2022-02-17T17:26:23.282Z"
   },
   {
    "duration": 17,
    "start_time": "2022-02-17T17:31:31.386Z"
   },
   {
    "duration": 17,
    "start_time": "2022-02-17T17:31:47.689Z"
   },
   {
    "duration": 27,
    "start_time": "2022-02-17T17:31:57.692Z"
   },
   {
    "duration": 29,
    "start_time": "2022-02-17T17:32:05.709Z"
   },
   {
    "duration": 26,
    "start_time": "2022-02-17T17:32:17.296Z"
   },
   {
    "duration": 23,
    "start_time": "2022-02-17T17:39:10.895Z"
   },
   {
    "duration": 1076,
    "start_time": "2022-02-17T17:40:32.794Z"
   },
   {
    "duration": 28,
    "start_time": "2022-02-17T17:44:26.308Z"
   },
   {
    "duration": 354,
    "start_time": "2022-02-17T17:45:27.090Z"
   },
   {
    "duration": 343,
    "start_time": "2022-02-17T17:47:31.643Z"
   },
   {
    "duration": 317,
    "start_time": "2022-02-17T17:48:42.363Z"
   },
   {
    "duration": 49,
    "start_time": "2022-02-17T17:50:41.907Z"
   },
   {
    "duration": 38,
    "start_time": "2022-02-17T17:51:56.576Z"
   },
   {
    "duration": 35,
    "start_time": "2022-02-17T17:52:19.873Z"
   },
   {
    "duration": 66,
    "start_time": "2022-02-17T17:54:02.164Z"
   },
   {
    "duration": 1042,
    "start_time": "2022-02-17T17:54:22.322Z"
   },
   {
    "duration": 314,
    "start_time": "2022-02-17T17:55:02.309Z"
   },
   {
    "duration": 20,
    "start_time": "2022-02-17T17:55:15.610Z"
   },
   {
    "duration": 3,
    "start_time": "2022-02-17T17:55:22.672Z"
   },
   {
    "duration": 51,
    "start_time": "2022-02-17T17:55:22.677Z"
   },
   {
    "duration": 7,
    "start_time": "2022-02-17T17:55:22.730Z"
   },
   {
    "duration": 5,
    "start_time": "2022-02-17T17:55:22.739Z"
   },
   {
    "duration": 11,
    "start_time": "2022-02-17T17:55:22.745Z"
   },
   {
    "duration": 19,
    "start_time": "2022-02-17T17:55:22.758Z"
   },
   {
    "duration": 19,
    "start_time": "2022-02-17T17:55:22.778Z"
   },
   {
    "duration": 36,
    "start_time": "2022-02-17T17:55:22.798Z"
   },
   {
    "duration": 39,
    "start_time": "2022-02-17T17:55:22.836Z"
   },
   {
    "duration": 357,
    "start_time": "2022-02-17T17:55:42.329Z"
   },
   {
    "duration": 307,
    "start_time": "2022-02-17T17:55:58.671Z"
   },
   {
    "duration": 19,
    "start_time": "2022-02-17T18:00:53.273Z"
   },
   {
    "duration": 1424,
    "start_time": "2022-02-17T18:06:01.448Z"
   },
   {
    "duration": 1513,
    "start_time": "2022-02-17T18:06:54.902Z"
   },
   {
    "duration": 1256,
    "start_time": "2022-02-17T18:07:49.224Z"
   },
   {
    "duration": 533,
    "start_time": "2022-02-17T18:08:51.344Z"
   },
   {
    "duration": 516,
    "start_time": "2022-02-17T18:09:07.270Z"
   },
   {
    "duration": 558,
    "start_time": "2022-02-17T18:09:19.349Z"
   },
   {
    "duration": 542,
    "start_time": "2022-02-17T18:13:01.705Z"
   },
   {
    "duration": 305,
    "start_time": "2022-02-17T18:16:26.320Z"
   },
   {
    "duration": 3,
    "start_time": "2022-02-17T18:16:34.347Z"
   },
   {
    "duration": 55,
    "start_time": "2022-02-17T18:16:34.352Z"
   },
   {
    "duration": 11,
    "start_time": "2022-02-17T18:16:34.409Z"
   },
   {
    "duration": 6,
    "start_time": "2022-02-17T18:16:34.422Z"
   },
   {
    "duration": 12,
    "start_time": "2022-02-17T18:16:34.429Z"
   },
   {
    "duration": 18,
    "start_time": "2022-02-17T18:16:34.442Z"
   },
   {
    "duration": 331,
    "start_time": "2022-02-17T18:16:34.462Z"
   },
   {
    "duration": -804,
    "start_time": "2022-02-17T18:16:35.599Z"
   },
   {
    "duration": -804,
    "start_time": "2022-02-17T18:16:35.601Z"
   },
   {
    "duration": 24,
    "start_time": "2022-02-17T18:17:11.988Z"
   },
   {
    "duration": 33,
    "start_time": "2022-02-17T18:17:30.339Z"
   },
   {
    "duration": 32,
    "start_time": "2022-02-17T18:17:46.674Z"
   },
   {
    "duration": 536,
    "start_time": "2022-02-18T13:25:06.529Z"
   },
   {
    "duration": 60,
    "start_time": "2022-02-18T13:25:07.067Z"
   },
   {
    "duration": 8,
    "start_time": "2022-02-18T13:25:07.129Z"
   },
   {
    "duration": 4,
    "start_time": "2022-02-18T13:25:07.139Z"
   },
   {
    "duration": 11,
    "start_time": "2022-02-18T13:25:07.144Z"
   },
   {
    "duration": 19,
    "start_time": "2022-02-18T13:25:07.157Z"
   },
   {
    "duration": 57,
    "start_time": "2022-02-18T13:25:07.178Z"
   },
   {
    "duration": 11,
    "start_time": "2022-02-18T13:25:07.237Z"
   },
   {
    "duration": 27,
    "start_time": "2022-02-18T13:25:07.249Z"
   },
   {
    "duration": 61,
    "start_time": "2022-02-18T13:31:28.350Z"
   },
   {
    "duration": 7,
    "start_time": "2022-02-18T13:31:34.064Z"
   },
   {
    "duration": 62,
    "start_time": "2022-02-18T13:41:03.639Z"
   },
   {
    "duration": 15,
    "start_time": "2022-02-18T13:41:07.144Z"
   },
   {
    "duration": 31,
    "start_time": "2022-02-18T13:41:22.034Z"
   },
   {
    "duration": 29,
    "start_time": "2022-02-18T13:41:47.604Z"
   },
   {
    "duration": 3,
    "start_time": "2022-02-18T13:42:19.567Z"
   },
   {
    "duration": 57,
    "start_time": "2022-02-18T13:42:19.571Z"
   },
   {
    "duration": 8,
    "start_time": "2022-02-18T13:42:19.630Z"
   },
   {
    "duration": 5,
    "start_time": "2022-02-18T13:42:19.640Z"
   },
   {
    "duration": 12,
    "start_time": "2022-02-18T13:42:19.647Z"
   },
   {
    "duration": 19,
    "start_time": "2022-02-18T13:42:19.661Z"
   },
   {
    "duration": 55,
    "start_time": "2022-02-18T13:42:19.683Z"
   },
   {
    "duration": 12,
    "start_time": "2022-02-18T13:42:19.740Z"
   },
   {
    "duration": 2,
    "start_time": "2022-02-18T13:42:19.754Z"
   },
   {
    "duration": 8,
    "start_time": "2022-02-18T13:42:19.758Z"
   },
   {
    "duration": 58,
    "start_time": "2022-02-18T13:42:19.768Z"
   },
   {
    "duration": 56,
    "start_time": "2022-02-18T13:44:47.486Z"
   },
   {
    "duration": 31,
    "start_time": "2022-02-18T13:44:52.046Z"
   },
   {
    "duration": 34,
    "start_time": "2022-02-18T13:48:01.351Z"
   },
   {
    "duration": 35,
    "start_time": "2022-02-18T13:51:59.479Z"
   },
   {
    "duration": 3,
    "start_time": "2022-02-18T13:57:58.716Z"
   },
   {
    "duration": 66,
    "start_time": "2022-02-18T13:57:58.721Z"
   },
   {
    "duration": 9,
    "start_time": "2022-02-18T13:57:58.789Z"
   },
   {
    "duration": 5,
    "start_time": "2022-02-18T13:57:58.800Z"
   },
   {
    "duration": 21,
    "start_time": "2022-02-18T13:57:58.807Z"
   },
   {
    "duration": 23,
    "start_time": "2022-02-18T13:57:58.829Z"
   },
   {
    "duration": 24,
    "start_time": "2022-02-18T13:57:58.854Z"
   },
   {
    "duration": 41,
    "start_time": "2022-02-18T13:57:58.880Z"
   },
   {
    "duration": 2,
    "start_time": "2022-02-18T13:57:58.923Z"
   },
   {
    "duration": 9,
    "start_time": "2022-02-18T13:57:58.927Z"
   },
   {
    "duration": 33,
    "start_time": "2022-02-18T13:57:58.938Z"
   },
   {
    "duration": 12,
    "start_time": "2022-02-18T14:00:04.864Z"
   },
   {
    "duration": 19,
    "start_time": "2022-02-18T14:08:42.696Z"
   },
   {
    "duration": 27,
    "start_time": "2022-02-18T14:09:38.697Z"
   },
   {
    "duration": 1372,
    "start_time": "2022-02-18T14:35:58.642Z"
   },
   {
    "duration": 19,
    "start_time": "2022-02-18T14:36:30.172Z"
   },
   {
    "duration": 3,
    "start_time": "2022-02-18T14:36:47.175Z"
   },
   {
    "duration": 60,
    "start_time": "2022-02-18T14:36:47.179Z"
   },
   {
    "duration": 9,
    "start_time": "2022-02-18T14:36:47.241Z"
   },
   {
    "duration": 4,
    "start_time": "2022-02-18T14:36:47.252Z"
   },
   {
    "duration": 13,
    "start_time": "2022-02-18T14:36:47.258Z"
   },
   {
    "duration": 47,
    "start_time": "2022-02-18T14:36:47.273Z"
   },
   {
    "duration": 20,
    "start_time": "2022-02-18T14:36:47.322Z"
   },
   {
    "duration": 11,
    "start_time": "2022-02-18T14:36:47.344Z"
   },
   {
    "duration": 2,
    "start_time": "2022-02-18T14:36:47.358Z"
   },
   {
    "duration": 7,
    "start_time": "2022-02-18T14:36:47.363Z"
   },
   {
    "duration": 64,
    "start_time": "2022-02-18T14:36:47.371Z"
   },
   {
    "duration": 11,
    "start_time": "2022-02-18T14:36:47.437Z"
   },
   {
    "duration": 17,
    "start_time": "2022-02-18T14:36:47.450Z"
   },
   {
    "duration": 62,
    "start_time": "2022-02-18T14:36:47.469Z"
   },
   {
    "duration": 1346,
    "start_time": "2022-02-18T14:36:58.231Z"
   },
   {
    "duration": 1492,
    "start_time": "2022-02-18T14:37:17.756Z"
   },
   {
    "duration": 17,
    "start_time": "2022-02-18T14:40:33.809Z"
   },
   {
    "duration": 230,
    "start_time": "2022-02-18T14:52:58.446Z"
   },
   {
    "duration": 346,
    "start_time": "2022-02-18T14:54:52.587Z"
   },
   {
    "duration": 29,
    "start_time": "2022-02-18T14:56:54.827Z"
   },
   {
    "duration": 5,
    "start_time": "2022-02-18T14:56:59.261Z"
   },
   {
    "duration": 4,
    "start_time": "2022-02-18T15:11:03.143Z"
   },
   {
    "duration": -168,
    "start_time": "2022-02-18T15:11:18.023Z"
   },
   {
    "duration": 11,
    "start_time": "2022-02-18T15:11:36.560Z"
   },
   {
    "duration": 11,
    "start_time": "2022-02-18T15:11:51.925Z"
   },
   {
    "duration": 18,
    "start_time": "2022-02-18T15:14:35.239Z"
   },
   {
    "duration": 252,
    "start_time": "2022-02-18T15:14:53.301Z"
   },
   {
    "duration": 230,
    "start_time": "2022-02-18T15:15:09.108Z"
   },
   {
    "duration": 3,
    "start_time": "2022-02-18T15:15:15.114Z"
   },
   {
    "duration": 59,
    "start_time": "2022-02-18T15:15:15.119Z"
   },
   {
    "duration": 10,
    "start_time": "2022-02-18T15:15:15.180Z"
   },
   {
    "duration": 13,
    "start_time": "2022-02-18T15:15:15.192Z"
   },
   {
    "duration": 22,
    "start_time": "2022-02-18T15:15:15.207Z"
   },
   {
    "duration": 22,
    "start_time": "2022-02-18T15:15:15.230Z"
   },
   {
    "duration": 14,
    "start_time": "2022-02-18T15:15:15.254Z"
   },
   {
    "duration": 22,
    "start_time": "2022-02-18T15:15:15.270Z"
   },
   {
    "duration": 6,
    "start_time": "2022-02-18T15:15:15.294Z"
   },
   {
    "duration": 20,
    "start_time": "2022-02-18T15:15:15.301Z"
   },
   {
    "duration": 37,
    "start_time": "2022-02-18T15:15:15.323Z"
   },
   {
    "duration": 13,
    "start_time": "2022-02-18T15:15:15.362Z"
   },
   {
    "duration": 21,
    "start_time": "2022-02-18T15:15:15.376Z"
   },
   {
    "duration": 41,
    "start_time": "2022-02-18T15:15:15.398Z"
   },
   {
    "duration": 18,
    "start_time": "2022-02-18T15:15:15.440Z"
   },
   {
    "duration": 218,
    "start_time": "2022-02-18T15:15:23.387Z"
   },
   {
    "duration": 2,
    "start_time": "2022-02-18T15:15:31.038Z"
   },
   {
    "duration": 55,
    "start_time": "2022-02-18T15:15:31.042Z"
   },
   {
    "duration": 8,
    "start_time": "2022-02-18T15:15:31.099Z"
   },
   {
    "duration": 9,
    "start_time": "2022-02-18T15:15:31.109Z"
   },
   {
    "duration": 12,
    "start_time": "2022-02-18T15:15:31.119Z"
   },
   {
    "duration": 19,
    "start_time": "2022-02-18T15:15:31.133Z"
   },
   {
    "duration": 8,
    "start_time": "2022-02-18T15:15:31.154Z"
   },
   {
    "duration": 20,
    "start_time": "2022-02-18T15:15:31.164Z"
   },
   {
    "duration": 2,
    "start_time": "2022-02-18T15:15:31.185Z"
   },
   {
    "duration": 10,
    "start_time": "2022-02-18T15:15:31.189Z"
   },
   {
    "duration": 51,
    "start_time": "2022-02-18T15:15:31.201Z"
   },
   {
    "duration": 11,
    "start_time": "2022-02-18T15:15:31.254Z"
   },
   {
    "duration": 17,
    "start_time": "2022-02-18T15:15:31.267Z"
   },
   {
    "duration": 29,
    "start_time": "2022-02-18T15:15:31.318Z"
   },
   {
    "duration": 8,
    "start_time": "2022-02-18T15:15:31.349Z"
   },
   {
    "duration": 219,
    "start_time": "2022-02-18T15:22:10.337Z"
   },
   {
    "duration": 25,
    "start_time": "2022-02-18T15:22:20.840Z"
   },
   {
    "duration": 220,
    "start_time": "2022-02-18T18:43:02.938Z"
   },
   {
    "duration": 605,
    "start_time": "2022-02-18T18:43:07.763Z"
   },
   {
    "duration": 61,
    "start_time": "2022-02-18T18:43:08.370Z"
   },
   {
    "duration": 9,
    "start_time": "2022-02-18T18:43:08.434Z"
   },
   {
    "duration": 5,
    "start_time": "2022-02-18T18:43:08.445Z"
   },
   {
    "duration": 14,
    "start_time": "2022-02-18T18:43:08.452Z"
   },
   {
    "duration": 22,
    "start_time": "2022-02-18T18:43:08.468Z"
   },
   {
    "duration": 5,
    "start_time": "2022-02-18T18:43:08.491Z"
   },
   {
    "duration": 13,
    "start_time": "2022-02-18T18:43:08.531Z"
   },
   {
    "duration": 2,
    "start_time": "2022-02-18T18:43:08.546Z"
   },
   {
    "duration": 9,
    "start_time": "2022-02-18T18:43:08.550Z"
   },
   {
    "duration": 34,
    "start_time": "2022-02-18T18:43:08.560Z"
   },
   {
    "duration": 264,
    "start_time": "2022-02-18T18:43:08.595Z"
   },
   {
    "duration": -573,
    "start_time": "2022-02-18T18:43:09.433Z"
   },
   {
    "duration": -581,
    "start_time": "2022-02-18T18:43:09.442Z"
   },
   {
    "duration": -581,
    "start_time": "2022-02-18T18:43:09.444Z"
   },
   {
    "duration": -583,
    "start_time": "2022-02-18T18:43:09.447Z"
   },
   {
    "duration": 174,
    "start_time": "2022-02-18T18:44:11.108Z"
   },
   {
    "duration": 165,
    "start_time": "2022-02-18T18:47:27.639Z"
   },
   {
    "duration": 12,
    "start_time": "2022-02-18T18:47:41.362Z"
   },
   {
    "duration": 180,
    "start_time": "2022-02-18T18:47:55.389Z"
   },
   {
    "duration": 181,
    "start_time": "2022-02-18T18:48:46.751Z"
   },
   {
    "duration": 8,
    "start_time": "2022-02-18T18:49:23.246Z"
   },
   {
    "duration": 3,
    "start_time": "2022-02-18T18:49:30.446Z"
   },
   {
    "duration": 60,
    "start_time": "2022-02-18T18:49:30.450Z"
   },
   {
    "duration": 9,
    "start_time": "2022-02-18T18:49:30.512Z"
   },
   {
    "duration": 13,
    "start_time": "2022-02-18T18:49:30.523Z"
   },
   {
    "duration": 26,
    "start_time": "2022-02-18T18:49:30.538Z"
   },
   {
    "duration": 19,
    "start_time": "2022-02-18T18:49:30.566Z"
   },
   {
    "duration": 10,
    "start_time": "2022-02-18T18:49:30.587Z"
   },
   {
    "duration": 21,
    "start_time": "2022-02-18T18:49:30.599Z"
   },
   {
    "duration": 2,
    "start_time": "2022-02-18T18:49:30.621Z"
   },
   {
    "duration": 13,
    "start_time": "2022-02-18T18:49:30.625Z"
   },
   {
    "duration": 48,
    "start_time": "2022-02-18T18:49:30.639Z"
   },
   {
    "duration": 10,
    "start_time": "2022-02-18T18:49:30.689Z"
   },
   {
    "duration": 19,
    "start_time": "2022-02-18T18:49:30.701Z"
   },
   {
    "duration": 30,
    "start_time": "2022-02-18T18:49:30.729Z"
   },
   {
    "duration": 7,
    "start_time": "2022-02-18T18:49:30.760Z"
   },
   {
    "duration": 30,
    "start_time": "2022-02-18T18:49:30.768Z"
   },
   {
    "duration": 22,
    "start_time": "2022-02-18T18:54:12.608Z"
   },
   {
    "duration": 190,
    "start_time": "2022-02-18T18:54:31.650Z"
   },
   {
    "duration": 30,
    "start_time": "2022-02-18T18:54:41.075Z"
   },
   {
    "duration": 3,
    "start_time": "2022-02-18T18:54:48.805Z"
   },
   {
    "duration": 54,
    "start_time": "2022-02-18T18:54:48.812Z"
   },
   {
    "duration": 8,
    "start_time": "2022-02-18T18:54:48.868Z"
   },
   {
    "duration": 4,
    "start_time": "2022-02-18T18:54:48.878Z"
   },
   {
    "duration": 15,
    "start_time": "2022-02-18T18:54:48.885Z"
   },
   {
    "duration": 45,
    "start_time": "2022-02-18T18:54:48.902Z"
   },
   {
    "duration": 5,
    "start_time": "2022-02-18T18:54:48.949Z"
   },
   {
    "duration": 14,
    "start_time": "2022-02-18T18:54:48.956Z"
   },
   {
    "duration": 2,
    "start_time": "2022-02-18T18:54:48.971Z"
   },
   {
    "duration": 16,
    "start_time": "2022-02-18T18:54:48.975Z"
   },
   {
    "duration": 54,
    "start_time": "2022-02-18T18:54:48.993Z"
   },
   {
    "duration": 21,
    "start_time": "2022-02-18T18:54:49.049Z"
   },
   {
    "duration": 18,
    "start_time": "2022-02-18T18:54:49.071Z"
   },
   {
    "duration": 61,
    "start_time": "2022-02-18T18:54:49.090Z"
   },
   {
    "duration": 8,
    "start_time": "2022-02-18T18:54:49.153Z"
   },
   {
    "duration": 27,
    "start_time": "2022-02-18T18:54:49.163Z"
   },
   {
    "duration": 2,
    "start_time": "2022-02-18T18:55:12.825Z"
   },
   {
    "duration": 58,
    "start_time": "2022-02-18T18:55:12.829Z"
   },
   {
    "duration": 8,
    "start_time": "2022-02-18T18:55:12.889Z"
   },
   {
    "duration": 10,
    "start_time": "2022-02-18T18:55:12.899Z"
   },
   {
    "duration": 22,
    "start_time": "2022-02-18T18:55:12.910Z"
   },
   {
    "duration": 22,
    "start_time": "2022-02-18T18:55:12.933Z"
   },
   {
    "duration": 5,
    "start_time": "2022-02-18T18:55:12.957Z"
   },
   {
    "duration": 12,
    "start_time": "2022-02-18T18:55:12.963Z"
   },
   {
    "duration": 2,
    "start_time": "2022-02-18T18:55:12.977Z"
   },
   {
    "duration": 10,
    "start_time": "2022-02-18T18:55:12.980Z"
   },
   {
    "duration": 67,
    "start_time": "2022-02-18T18:55:12.991Z"
   },
   {
    "duration": 21,
    "start_time": "2022-02-18T18:55:13.059Z"
   },
   {
    "duration": 16,
    "start_time": "2022-02-18T18:55:13.082Z"
   },
   {
    "duration": 56,
    "start_time": "2022-02-18T18:55:13.099Z"
   },
   {
    "duration": 8,
    "start_time": "2022-02-18T18:55:13.156Z"
   },
   {
    "duration": 24,
    "start_time": "2022-02-18T18:55:13.166Z"
   },
   {
    "duration": 3,
    "start_time": "2022-02-18T18:55:27.307Z"
   },
   {
    "duration": 67,
    "start_time": "2022-02-18T18:55:27.312Z"
   },
   {
    "duration": 9,
    "start_time": "2022-02-18T18:55:27.381Z"
   },
   {
    "duration": 5,
    "start_time": "2022-02-18T18:55:27.392Z"
   },
   {
    "duration": 13,
    "start_time": "2022-02-18T18:55:27.399Z"
   },
   {
    "duration": 20,
    "start_time": "2022-02-18T18:55:27.431Z"
   },
   {
    "duration": 4,
    "start_time": "2022-02-18T18:55:27.453Z"
   },
   {
    "duration": 15,
    "start_time": "2022-02-18T18:55:27.460Z"
   },
   {
    "duration": 2,
    "start_time": "2022-02-18T18:55:27.476Z"
   },
   {
    "duration": 9,
    "start_time": "2022-02-18T18:55:27.480Z"
   },
   {
    "duration": 63,
    "start_time": "2022-02-18T18:55:27.490Z"
   },
   {
    "duration": 20,
    "start_time": "2022-02-18T18:55:27.555Z"
   },
   {
    "duration": 17,
    "start_time": "2022-02-18T18:55:27.576Z"
   },
   {
    "duration": 57,
    "start_time": "2022-02-18T18:55:27.595Z"
   },
   {
    "duration": 9,
    "start_time": "2022-02-18T18:55:27.654Z"
   },
   {
    "duration": 26,
    "start_time": "2022-02-18T18:55:27.664Z"
   },
   {
    "duration": 3,
    "start_time": "2022-02-18T18:56:56.326Z"
   },
   {
    "duration": 52,
    "start_time": "2022-02-18T18:56:56.331Z"
   },
   {
    "duration": 9,
    "start_time": "2022-02-18T18:56:56.385Z"
   },
   {
    "duration": 5,
    "start_time": "2022-02-18T18:56:56.395Z"
   },
   {
    "duration": 38,
    "start_time": "2022-02-18T18:56:56.402Z"
   },
   {
    "duration": 22,
    "start_time": "2022-02-18T18:56:56.442Z"
   },
   {
    "duration": 5,
    "start_time": "2022-02-18T18:56:56.467Z"
   },
   {
    "duration": 15,
    "start_time": "2022-02-18T18:56:56.474Z"
   },
   {
    "duration": 2,
    "start_time": "2022-02-18T18:56:56.490Z"
   },
   {
    "duration": 37,
    "start_time": "2022-02-18T18:56:56.494Z"
   },
   {
    "duration": 33,
    "start_time": "2022-02-18T18:56:56.533Z"
   },
   {
    "duration": 28,
    "start_time": "2022-02-18T18:56:56.568Z"
   },
   {
    "duration": 44,
    "start_time": "2022-02-18T18:56:56.598Z"
   },
   {
    "duration": 28,
    "start_time": "2022-02-18T18:56:56.644Z"
   },
   {
    "duration": 7,
    "start_time": "2022-02-18T18:56:56.674Z"
   },
   {
    "duration": 27,
    "start_time": "2022-02-18T18:56:56.683Z"
   },
   {
    "duration": 3,
    "start_time": "2022-02-18T18:59:23.388Z"
   },
   {
    "duration": 56,
    "start_time": "2022-02-18T18:59:23.394Z"
   },
   {
    "duration": 9,
    "start_time": "2022-02-18T18:59:23.452Z"
   },
   {
    "duration": 4,
    "start_time": "2022-02-18T18:59:23.464Z"
   },
   {
    "duration": 12,
    "start_time": "2022-02-18T18:59:23.470Z"
   },
   {
    "duration": 47,
    "start_time": "2022-02-18T18:59:23.484Z"
   },
   {
    "duration": 4,
    "start_time": "2022-02-18T18:59:23.533Z"
   },
   {
    "duration": 18,
    "start_time": "2022-02-18T18:59:23.538Z"
   },
   {
    "duration": 2,
    "start_time": "2022-02-18T18:59:23.558Z"
   },
   {
    "duration": 12,
    "start_time": "2022-02-18T18:59:23.562Z"
   },
   {
    "duration": 55,
    "start_time": "2022-02-18T18:59:23.576Z"
   },
   {
    "duration": 11,
    "start_time": "2022-02-18T18:59:23.633Z"
   },
   {
    "duration": 20,
    "start_time": "2022-02-18T18:59:23.645Z"
   },
   {
    "duration": 14,
    "start_time": "2022-02-18T18:59:23.667Z"
   },
   {
    "duration": 52,
    "start_time": "2022-02-18T18:59:23.682Z"
   },
   {
    "duration": 8,
    "start_time": "2022-02-18T18:59:23.735Z"
   },
   {
    "duration": 25,
    "start_time": "2022-02-18T18:59:23.745Z"
   },
   {
    "duration": 3,
    "start_time": "2022-02-18T18:59:54.605Z"
   },
   {
    "duration": 54,
    "start_time": "2022-02-18T18:59:54.610Z"
   },
   {
    "duration": 9,
    "start_time": "2022-02-18T18:59:54.666Z"
   },
   {
    "duration": 6,
    "start_time": "2022-02-18T18:59:54.677Z"
   },
   {
    "duration": 16,
    "start_time": "2022-02-18T18:59:54.685Z"
   },
   {
    "duration": 42,
    "start_time": "2022-02-18T18:59:54.703Z"
   },
   {
    "duration": 4,
    "start_time": "2022-02-18T18:59:54.748Z"
   },
   {
    "duration": 17,
    "start_time": "2022-02-18T18:59:54.754Z"
   },
   {
    "duration": 2,
    "start_time": "2022-02-18T18:59:54.773Z"
   },
   {
    "duration": 9,
    "start_time": "2022-02-18T18:59:54.777Z"
   },
   {
    "duration": 82,
    "start_time": "2022-02-18T18:59:54.788Z"
   },
   {
    "duration": 17,
    "start_time": "2022-02-18T18:59:54.872Z"
   },
   {
    "duration": 12,
    "start_time": "2022-02-18T18:59:54.891Z"
   },
   {
    "duration": 47,
    "start_time": "2022-02-18T18:59:54.905Z"
   },
   {
    "duration": 43,
    "start_time": "2022-02-18T18:59:54.954Z"
   },
   {
    "duration": 9,
    "start_time": "2022-02-18T18:59:54.998Z"
   },
   {
    "duration": 36,
    "start_time": "2022-02-18T18:59:55.030Z"
   },
   {
    "duration": 8,
    "start_time": "2022-02-18T19:14:20.211Z"
   },
   {
    "duration": 236,
    "start_time": "2022-02-18T19:24:10.478Z"
   },
   {
    "duration": 65,
    "start_time": "2022-02-18T19:24:16.107Z"
   },
   {
    "duration": -547,
    "start_time": "2022-02-18T19:24:16.722Z"
   },
   {
    "duration": -550,
    "start_time": "2022-02-18T19:24:16.726Z"
   },
   {
    "duration": -554,
    "start_time": "2022-02-18T19:24:16.731Z"
   },
   {
    "duration": -596,
    "start_time": "2022-02-18T19:24:16.774Z"
   },
   {
    "duration": -598,
    "start_time": "2022-02-18T19:24:16.777Z"
   },
   {
    "duration": -599,
    "start_time": "2022-02-18T19:24:16.779Z"
   },
   {
    "duration": -600,
    "start_time": "2022-02-18T19:24:16.781Z"
   },
   {
    "duration": -603,
    "start_time": "2022-02-18T19:24:16.785Z"
   },
   {
    "duration": -604,
    "start_time": "2022-02-18T19:24:16.787Z"
   },
   {
    "duration": -605,
    "start_time": "2022-02-18T19:24:16.789Z"
   },
   {
    "duration": -605,
    "start_time": "2022-02-18T19:24:16.790Z"
   },
   {
    "duration": -606,
    "start_time": "2022-02-18T19:24:16.793Z"
   },
   {
    "duration": -606,
    "start_time": "2022-02-18T19:24:16.794Z"
   },
   {
    "duration": -608,
    "start_time": "2022-02-18T19:24:16.797Z"
   },
   {
    "duration": -610,
    "start_time": "2022-02-18T19:24:16.800Z"
   },
   {
    "duration": -611,
    "start_time": "2022-02-18T19:24:16.802Z"
   },
   {
    "duration": -612,
    "start_time": "2022-02-18T19:24:16.804Z"
   },
   {
    "duration": -613,
    "start_time": "2022-02-18T19:24:16.806Z"
   },
   {
    "duration": 814,
    "start_time": "2022-02-18T19:24:59.799Z"
   },
   {
    "duration": -546,
    "start_time": "2022-02-18T19:25:01.162Z"
   },
   {
    "duration": -581,
    "start_time": "2022-02-18T19:25:01.198Z"
   },
   {
    "duration": -587,
    "start_time": "2022-02-18T19:25:01.205Z"
   },
   {
    "duration": -588,
    "start_time": "2022-02-18T19:25:01.207Z"
   },
   {
    "duration": -589,
    "start_time": "2022-02-18T19:25:01.209Z"
   },
   {
    "duration": -593,
    "start_time": "2022-02-18T19:25:01.214Z"
   },
   {
    "duration": -594,
    "start_time": "2022-02-18T19:25:01.216Z"
   },
   {
    "duration": -596,
    "start_time": "2022-02-18T19:25:01.219Z"
   },
   {
    "duration": -597,
    "start_time": "2022-02-18T19:25:01.221Z"
   },
   {
    "duration": -599,
    "start_time": "2022-02-18T19:25:01.224Z"
   },
   {
    "duration": -598,
    "start_time": "2022-02-18T19:25:01.225Z"
   },
   {
    "duration": -599,
    "start_time": "2022-02-18T19:25:01.227Z"
   },
   {
    "duration": -600,
    "start_time": "2022-02-18T19:25:01.229Z"
   },
   {
    "duration": -601,
    "start_time": "2022-02-18T19:25:01.231Z"
   },
   {
    "duration": -602,
    "start_time": "2022-02-18T19:25:01.233Z"
   },
   {
    "duration": -617,
    "start_time": "2022-02-18T19:25:01.249Z"
   },
   {
    "duration": -619,
    "start_time": "2022-02-18T19:25:01.252Z"
   },
   {
    "duration": -619,
    "start_time": "2022-02-18T19:25:01.254Z"
   },
   {
    "duration": 2,
    "start_time": "2022-02-18T19:25:40.923Z"
   },
   {
    "duration": 66,
    "start_time": "2022-02-18T19:25:40.927Z"
   },
   {
    "duration": 9,
    "start_time": "2022-02-18T19:25:40.995Z"
   },
   {
    "duration": 5,
    "start_time": "2022-02-18T19:25:41.005Z"
   },
   {
    "duration": 30,
    "start_time": "2022-02-18T19:25:41.012Z"
   },
   {
    "duration": 26,
    "start_time": "2022-02-18T19:25:41.044Z"
   },
   {
    "duration": 4,
    "start_time": "2022-02-18T19:25:41.073Z"
   },
   {
    "duration": 19,
    "start_time": "2022-02-18T19:25:41.079Z"
   },
   {
    "duration": 2,
    "start_time": "2022-02-18T19:25:41.100Z"
   },
   {
    "duration": 39,
    "start_time": "2022-02-18T19:25:41.104Z"
   },
   {
    "duration": 35,
    "start_time": "2022-02-18T19:25:41.145Z"
   },
   {
    "duration": 11,
    "start_time": "2022-02-18T19:25:41.182Z"
   },
   {
    "duration": 10,
    "start_time": "2022-02-18T19:25:41.195Z"
   },
   {
    "duration": 45,
    "start_time": "2022-02-18T19:25:41.206Z"
   },
   {
    "duration": 30,
    "start_time": "2022-02-18T19:25:41.252Z"
   },
   {
    "duration": 8,
    "start_time": "2022-02-18T19:25:41.283Z"
   },
   {
    "duration": 44,
    "start_time": "2022-02-18T19:25:41.292Z"
   },
   {
    "duration": 7,
    "start_time": "2022-02-18T19:25:41.342Z"
   },
   {
    "duration": 175,
    "start_time": "2022-02-18T19:25:41.352Z"
   },
   {
    "duration": 2,
    "start_time": "2022-02-18T19:25:49.644Z"
   },
   {
    "duration": 53,
    "start_time": "2022-02-18T19:25:49.648Z"
   },
   {
    "duration": 9,
    "start_time": "2022-02-18T19:25:49.703Z"
   },
   {
    "duration": 4,
    "start_time": "2022-02-18T19:25:49.714Z"
   },
   {
    "duration": 25,
    "start_time": "2022-02-18T19:25:49.719Z"
   },
   {
    "duration": 20,
    "start_time": "2022-02-18T19:25:49.746Z"
   },
   {
    "duration": 4,
    "start_time": "2022-02-18T19:25:49.768Z"
   },
   {
    "duration": 15,
    "start_time": "2022-02-18T19:25:49.773Z"
   },
   {
    "duration": 2,
    "start_time": "2022-02-18T19:25:49.790Z"
   },
   {
    "duration": 43,
    "start_time": "2022-02-18T19:25:49.794Z"
   },
   {
    "duration": 37,
    "start_time": "2022-02-18T19:25:49.839Z"
   },
   {
    "duration": 11,
    "start_time": "2022-02-18T19:25:49.877Z"
   },
   {
    "duration": 11,
    "start_time": "2022-02-18T19:25:49.890Z"
   },
   {
    "duration": 44,
    "start_time": "2022-02-18T19:25:49.902Z"
   },
   {
    "duration": 31,
    "start_time": "2022-02-18T19:25:49.948Z"
   },
   {
    "duration": 6,
    "start_time": "2022-02-18T19:25:49.981Z"
   },
   {
    "duration": 22,
    "start_time": "2022-02-18T19:25:49.989Z"
   },
   {
    "duration": 13,
    "start_time": "2022-02-18T19:25:50.030Z"
   },
   {
    "duration": 917,
    "start_time": "2022-02-18T19:25:50.045Z"
   },
   {
    "duration": 23,
    "start_time": "2022-02-18T19:33:26.619Z"
   },
   {
    "duration": 877,
    "start_time": "2022-02-18T19:33:36.438Z"
   },
   {
    "duration": 864,
    "start_time": "2022-02-18T19:35:34.503Z"
   },
   {
    "duration": 1096,
    "start_time": "2022-02-18T19:35:46.283Z"
   },
   {
    "duration": 2,
    "start_time": "2022-02-18T19:36:26.798Z"
   },
   {
    "duration": 57,
    "start_time": "2022-02-18T19:36:26.802Z"
   },
   {
    "duration": 9,
    "start_time": "2022-02-18T19:36:26.861Z"
   },
   {
    "duration": 4,
    "start_time": "2022-02-18T19:36:26.872Z"
   },
   {
    "duration": 14,
    "start_time": "2022-02-18T19:36:26.878Z"
   },
   {
    "duration": 47,
    "start_time": "2022-02-18T19:36:26.894Z"
   },
   {
    "duration": 5,
    "start_time": "2022-02-18T19:36:26.944Z"
   },
   {
    "duration": 16,
    "start_time": "2022-02-18T19:36:26.951Z"
   },
   {
    "duration": 2,
    "start_time": "2022-02-18T19:36:26.969Z"
   },
   {
    "duration": 10,
    "start_time": "2022-02-18T19:36:26.972Z"
   },
   {
    "duration": 62,
    "start_time": "2022-02-18T19:36:26.983Z"
   },
   {
    "duration": 11,
    "start_time": "2022-02-18T19:36:27.046Z"
   },
   {
    "duration": 10,
    "start_time": "2022-02-18T19:36:27.059Z"
   },
   {
    "duration": 18,
    "start_time": "2022-02-18T19:36:27.070Z"
   },
   {
    "duration": 65,
    "start_time": "2022-02-18T19:36:27.090Z"
   },
   {
    "duration": 10,
    "start_time": "2022-02-18T19:36:27.157Z"
   },
   {
    "duration": 24,
    "start_time": "2022-02-18T19:36:27.168Z"
   },
   {
    "duration": 37,
    "start_time": "2022-02-18T19:36:27.194Z"
   },
   {
    "duration": 895,
    "start_time": "2022-02-18T19:36:27.234Z"
   },
   {
    "duration": 847,
    "start_time": "2022-02-18T19:40:57.600Z"
   },
   {
    "duration": 1001,
    "start_time": "2022-02-18T19:51:15.158Z"
   },
   {
    "duration": 4194,
    "start_time": "2022-02-18T19:51:32.614Z"
   },
   {
    "duration": 2905,
    "start_time": "2022-02-18T19:52:00.946Z"
   },
   {
    "duration": 9421,
    "start_time": "2022-02-18T19:53:23.492Z"
   },
   {
    "duration": 8520,
    "start_time": "2022-02-18T19:54:21.541Z"
   },
   {
    "duration": 8856,
    "start_time": "2022-02-18T19:55:16.621Z"
   },
   {
    "duration": 4263,
    "start_time": "2022-02-18T19:55:54.209Z"
   },
   {
    "duration": 4268,
    "start_time": "2022-02-18T19:56:23.097Z"
   },
   {
    "duration": 1158,
    "start_time": "2022-02-21T12:48:35.136Z"
   },
   {
    "duration": 60,
    "start_time": "2022-02-21T12:48:36.296Z"
   },
   {
    "duration": 9,
    "start_time": "2022-02-21T12:48:36.358Z"
   },
   {
    "duration": 6,
    "start_time": "2022-02-21T12:48:36.368Z"
   },
   {
    "duration": 11,
    "start_time": "2022-02-21T12:48:36.375Z"
   },
   {
    "duration": 20,
    "start_time": "2022-02-21T12:48:36.388Z"
   },
   {
    "duration": 4,
    "start_time": "2022-02-21T12:48:36.432Z"
   },
   {
    "duration": 13,
    "start_time": "2022-02-21T12:48:36.438Z"
   },
   {
    "duration": 2,
    "start_time": "2022-02-21T12:48:36.453Z"
   },
   {
    "duration": 8,
    "start_time": "2022-02-21T12:48:36.456Z"
   },
   {
    "duration": 35,
    "start_time": "2022-02-21T12:48:36.465Z"
   },
   {
    "duration": 12,
    "start_time": "2022-02-21T12:48:36.531Z"
   },
   {
    "duration": 10,
    "start_time": "2022-02-21T12:48:36.544Z"
   },
   {
    "duration": 17,
    "start_time": "2022-02-21T12:48:36.555Z"
   },
   {
    "duration": 29,
    "start_time": "2022-02-21T12:48:36.573Z"
   },
   {
    "duration": 32,
    "start_time": "2022-02-21T12:48:36.604Z"
   },
   {
    "duration": 22,
    "start_time": "2022-02-21T12:48:36.638Z"
   },
   {
    "duration": 6,
    "start_time": "2022-02-21T12:48:36.661Z"
   },
   {
    "duration": 4139,
    "start_time": "2022-02-21T12:48:36.668Z"
   },
   {
    "duration": 1103,
    "start_time": "2022-02-21T12:53:22.252Z"
   },
   {
    "duration": 545,
    "start_time": "2022-02-21T12:58:51.880Z"
   },
   {
    "duration": 594,
    "start_time": "2022-02-21T12:59:45.409Z"
   },
   {
    "duration": 652,
    "start_time": "2022-02-21T12:59:59.379Z"
   },
   {
    "duration": 336,
    "start_time": "2022-02-21T13:04:24.773Z"
   },
   {
    "duration": 346,
    "start_time": "2022-02-21T13:04:34.233Z"
   },
   {
    "duration": 336,
    "start_time": "2022-02-21T13:04:42.677Z"
   },
   {
    "duration": 2,
    "start_time": "2022-02-21T13:04:50.358Z"
   },
   {
    "duration": 58,
    "start_time": "2022-02-21T13:04:50.362Z"
   },
   {
    "duration": 8,
    "start_time": "2022-02-21T13:04:50.422Z"
   },
   {
    "duration": 6,
    "start_time": "2022-02-21T13:04:50.431Z"
   },
   {
    "duration": 11,
    "start_time": "2022-02-21T13:04:50.439Z"
   },
   {
    "duration": 18,
    "start_time": "2022-02-21T13:04:50.452Z"
   },
   {
    "duration": 379,
    "start_time": "2022-02-21T13:04:50.471Z"
   },
   {
    "duration": 10,
    "start_time": "2022-02-21T13:04:50.852Z"
   },
   {
    "duration": 2,
    "start_time": "2022-02-21T13:04:50.864Z"
   },
   {
    "duration": 12,
    "start_time": "2022-02-21T13:04:50.867Z"
   },
   {
    "duration": 54,
    "start_time": "2022-02-21T13:04:50.880Z"
   },
   {
    "duration": 11,
    "start_time": "2022-02-21T13:04:50.936Z"
   },
   {
    "duration": 9,
    "start_time": "2022-02-21T13:04:50.948Z"
   },
   {
    "duration": 16,
    "start_time": "2022-02-21T13:04:50.958Z"
   },
   {
    "duration": 57,
    "start_time": "2022-02-21T13:04:50.976Z"
   },
   {
    "duration": 10,
    "start_time": "2022-02-21T13:04:51.034Z"
   },
   {
    "duration": 23,
    "start_time": "2022-02-21T13:04:51.046Z"
   },
   {
    "duration": 7,
    "start_time": "2022-02-21T13:04:51.071Z"
   },
   {
    "duration": 3926,
    "start_time": "2022-02-21T13:04:51.080Z"
   },
   {
    "duration": 15,
    "start_time": "2022-02-21T13:07:32.088Z"
   },
   {
    "duration": 352,
    "start_time": "2022-02-21T13:07:50.664Z"
   },
   {
    "duration": 11,
    "start_time": "2022-02-21T13:09:06.953Z"
   },
   {
    "duration": 337,
    "start_time": "2022-02-21T13:09:10.369Z"
   },
   {
    "duration": 2,
    "start_time": "2022-02-21T13:09:21.392Z"
   },
   {
    "duration": 75,
    "start_time": "2022-02-21T13:09:21.395Z"
   },
   {
    "duration": 8,
    "start_time": "2022-02-21T13:09:21.472Z"
   },
   {
    "duration": 15,
    "start_time": "2022-02-21T13:09:21.481Z"
   },
   {
    "duration": 41,
    "start_time": "2022-02-21T13:09:21.498Z"
   },
   {
    "duration": 18,
    "start_time": "2022-02-21T13:09:21.540Z"
   },
   {
    "duration": 379,
    "start_time": "2022-02-21T13:09:21.561Z"
   },
   {
    "duration": 11,
    "start_time": "2022-02-21T13:09:21.941Z"
   },
   {
    "duration": 2,
    "start_time": "2022-02-21T13:09:21.953Z"
   },
   {
    "duration": 75,
    "start_time": "2022-02-21T13:09:21.957Z"
   },
   {
    "duration": 71,
    "start_time": "2022-02-21T13:09:22.034Z"
   },
   {
    "duration": 18,
    "start_time": "2022-02-21T13:09:22.106Z"
   },
   {
    "duration": 32,
    "start_time": "2022-02-21T13:09:22.126Z"
   },
   {
    "duration": 64,
    "start_time": "2022-02-21T13:09:22.160Z"
   },
   {
    "duration": 51,
    "start_time": "2022-02-21T13:09:22.226Z"
   },
   {
    "duration": 13,
    "start_time": "2022-02-21T13:09:22.279Z"
   },
   {
    "duration": 38,
    "start_time": "2022-02-21T13:09:22.293Z"
   },
   {
    "duration": 35,
    "start_time": "2022-02-21T13:09:22.332Z"
   },
   {
    "duration": 4038,
    "start_time": "2022-02-21T13:09:22.369Z"
   },
   {
    "duration": 23,
    "start_time": "2022-02-21T13:18:57.785Z"
   },
   {
    "duration": 3900,
    "start_time": "2022-02-21T13:21:39.799Z"
   },
   {
    "duration": 3902,
    "start_time": "2022-02-21T13:21:44.515Z"
   },
   {
    "duration": 4028,
    "start_time": "2022-02-21T13:22:43.692Z"
   },
   {
    "duration": 3,
    "start_time": "2022-02-21T13:29:24.763Z"
   },
   {
    "duration": 68,
    "start_time": "2022-02-21T13:29:24.768Z"
   },
   {
    "duration": 11,
    "start_time": "2022-02-21T13:29:24.838Z"
   },
   {
    "duration": 12,
    "start_time": "2022-02-21T13:29:24.850Z"
   },
   {
    "duration": 31,
    "start_time": "2022-02-21T13:29:24.863Z"
   },
   {
    "duration": 24,
    "start_time": "2022-02-21T13:29:24.896Z"
   },
   {
    "duration": 378,
    "start_time": "2022-02-21T13:29:24.923Z"
   },
   {
    "duration": 29,
    "start_time": "2022-02-21T13:29:25.303Z"
   },
   {
    "duration": 6,
    "start_time": "2022-02-21T13:29:25.334Z"
   },
   {
    "duration": 36,
    "start_time": "2022-02-21T13:29:25.342Z"
   },
   {
    "duration": 10,
    "start_time": "2022-02-21T13:29:25.380Z"
   },
   {
    "duration": 12,
    "start_time": "2022-02-21T13:29:25.391Z"
   },
   {
    "duration": 46,
    "start_time": "2022-02-21T13:29:25.404Z"
   },
   {
    "duration": 32,
    "start_time": "2022-02-21T13:29:25.452Z"
   },
   {
    "duration": 9,
    "start_time": "2022-02-21T13:29:25.486Z"
   },
   {
    "duration": 43,
    "start_time": "2022-02-21T13:29:25.496Z"
   },
   {
    "duration": 7,
    "start_time": "2022-02-21T13:29:25.541Z"
   },
   {
    "duration": 4271,
    "start_time": "2022-02-21T13:29:25.549Z"
   },
   {
    "duration": 1342,
    "start_time": "2022-02-21T18:17:52.497Z"
   },
   {
    "duration": 68,
    "start_time": "2022-02-21T18:17:53.841Z"
   },
   {
    "duration": 11,
    "start_time": "2022-02-21T18:17:53.912Z"
   },
   {
    "duration": 6,
    "start_time": "2022-02-21T18:17:53.925Z"
   },
   {
    "duration": 17,
    "start_time": "2022-02-21T18:17:53.933Z"
   },
   {
    "duration": 55,
    "start_time": "2022-02-21T18:17:53.952Z"
   },
   {
    "duration": 436,
    "start_time": "2022-02-21T18:17:54.009Z"
   },
   {
    "duration": 15,
    "start_time": "2022-02-21T18:17:54.448Z"
   },
   {
    "duration": 9,
    "start_time": "2022-02-21T18:17:54.465Z"
   },
   {
    "duration": 66,
    "start_time": "2022-02-21T18:17:54.475Z"
   },
   {
    "duration": 12,
    "start_time": "2022-02-21T18:17:54.543Z"
   },
   {
    "duration": 15,
    "start_time": "2022-02-21T18:17:54.557Z"
   },
   {
    "duration": 48,
    "start_time": "2022-02-21T18:17:54.574Z"
   },
   {
    "duration": 36,
    "start_time": "2022-02-21T18:17:54.624Z"
   },
   {
    "duration": 10,
    "start_time": "2022-02-21T18:17:54.662Z"
   },
   {
    "duration": 49,
    "start_time": "2022-02-21T18:17:54.674Z"
   },
   {
    "duration": 9,
    "start_time": "2022-02-21T18:17:54.725Z"
   },
   {
    "duration": 4915,
    "start_time": "2022-02-21T18:17:54.736Z"
   },
   {
    "duration": 20,
    "start_time": "2022-02-21T18:20:46.938Z"
   },
   {
    "duration": 12,
    "start_time": "2022-02-21T18:24:13.856Z"
   },
   {
    "duration": 17,
    "start_time": "2022-02-21T18:25:37.621Z"
   },
   {
    "duration": 22,
    "start_time": "2022-02-21T18:25:54.016Z"
   },
   {
    "duration": 15,
    "start_time": "2022-02-21T18:26:20.950Z"
   },
   {
    "duration": 27,
    "start_time": "2022-02-21T18:26:40.061Z"
   },
   {
    "duration": 46,
    "start_time": "2022-02-21T18:27:03.920Z"
   },
   {
    "duration": 32,
    "start_time": "2022-02-21T18:28:13.655Z"
   },
   {
    "duration": 31,
    "start_time": "2022-02-21T18:30:55.017Z"
   },
   {
    "duration": 22,
    "start_time": "2022-02-21T18:31:09.560Z"
   },
   {
    "duration": 370,
    "start_time": "2022-02-21T18:42:30.769Z"
   },
   {
    "duration": 28,
    "start_time": "2022-02-21T18:44:47.753Z"
   },
   {
    "duration": 5732,
    "start_time": "2022-02-21T18:45:57.282Z"
   },
   {
    "duration": 6264,
    "start_time": "2022-02-21T18:46:06.274Z"
   },
   {
    "duration": 37,
    "start_time": "2022-02-21T18:46:44.903Z"
   },
   {
    "duration": 30,
    "start_time": "2022-02-21T18:49:37.867Z"
   },
   {
    "duration": 35,
    "start_time": "2022-02-21T18:49:46.454Z"
   },
   {
    "duration": 28,
    "start_time": "2022-02-21T18:49:50.550Z"
   },
   {
    "duration": 33,
    "start_time": "2022-02-21T18:55:08.564Z"
   },
   {
    "duration": 284,
    "start_time": "2022-02-21T18:55:40.011Z"
   },
   {
    "duration": 29,
    "start_time": "2022-02-21T18:55:45.271Z"
   },
   {
    "duration": 36,
    "start_time": "2022-02-21T18:57:38.532Z"
   },
   {
    "duration": 34,
    "start_time": "2022-02-21T18:59:07.888Z"
   },
   {
    "duration": 1480,
    "start_time": "2022-02-21T19:06:38.120Z"
   },
   {
    "duration": 114,
    "start_time": "2022-02-21T19:06:39.604Z"
   },
   {
    "duration": 14,
    "start_time": "2022-02-21T19:06:39.721Z"
   },
   {
    "duration": 17,
    "start_time": "2022-02-21T19:06:39.737Z"
   },
   {
    "duration": 17,
    "start_time": "2022-02-21T19:06:39.757Z"
   },
   {
    "duration": 51,
    "start_time": "2022-02-21T19:06:39.776Z"
   },
   {
    "duration": 462,
    "start_time": "2022-02-21T19:06:39.829Z"
   },
   {
    "duration": 23,
    "start_time": "2022-02-21T19:06:40.293Z"
   },
   {
    "duration": 9,
    "start_time": "2022-02-21T19:06:40.320Z"
   },
   {
    "duration": 51,
    "start_time": "2022-02-21T19:06:40.331Z"
   },
   {
    "duration": 15,
    "start_time": "2022-02-21T19:06:40.406Z"
   },
   {
    "duration": 13,
    "start_time": "2022-02-21T19:06:40.423Z"
   },
   {
    "duration": 21,
    "start_time": "2022-02-21T19:06:40.438Z"
   },
   {
    "duration": 72,
    "start_time": "2022-02-21T19:06:40.461Z"
   },
   {
    "duration": 10,
    "start_time": "2022-02-21T19:06:40.536Z"
   },
   {
    "duration": 36,
    "start_time": "2022-02-21T19:06:40.548Z"
   },
   {
    "duration": 28,
    "start_time": "2022-02-21T19:06:40.586Z"
   },
   {
    "duration": 4861,
    "start_time": "2022-02-21T19:06:40.616Z"
   },
   {
    "duration": 57,
    "start_time": "2022-02-21T19:06:45.480Z"
   },
   {
    "duration": 1329,
    "start_time": "2022-02-21T19:07:15.538Z"
   },
   {
    "duration": 105,
    "start_time": "2022-02-21T19:07:16.870Z"
   },
   {
    "duration": 12,
    "start_time": "2022-02-21T19:07:16.977Z"
   },
   {
    "duration": 7,
    "start_time": "2022-02-21T19:07:16.991Z"
   },
   {
    "duration": 16,
    "start_time": "2022-02-21T19:07:17.000Z"
   },
   {
    "duration": 25,
    "start_time": "2022-02-21T19:07:17.018Z"
   },
   {
    "duration": 463,
    "start_time": "2022-02-21T19:07:17.045Z"
   },
   {
    "duration": 15,
    "start_time": "2022-02-21T19:07:17.511Z"
   },
   {
    "duration": 8,
    "start_time": "2022-02-21T19:07:17.528Z"
   },
   {
    "duration": 75,
    "start_time": "2022-02-21T19:07:17.539Z"
   },
   {
    "duration": 14,
    "start_time": "2022-02-21T19:07:17.616Z"
   },
   {
    "duration": 17,
    "start_time": "2022-02-21T19:07:17.632Z"
   },
   {
    "duration": 20,
    "start_time": "2022-02-21T19:07:17.651Z"
   },
   {
    "duration": 65,
    "start_time": "2022-02-21T19:07:17.673Z"
   },
   {
    "duration": 10,
    "start_time": "2022-02-21T19:07:17.740Z"
   },
   {
    "duration": 32,
    "start_time": "2022-02-21T19:07:17.752Z"
   },
   {
    "duration": 26,
    "start_time": "2022-02-21T19:07:17.786Z"
   },
   {
    "duration": 5193,
    "start_time": "2022-02-21T19:07:17.814Z"
   },
   {
    "duration": 42,
    "start_time": "2022-02-21T19:07:23.010Z"
   },
   {
    "duration": 272,
    "start_time": "2022-02-21T19:08:01.220Z"
   },
   {
    "duration": 1289,
    "start_time": "2022-02-21T19:08:07.462Z"
   },
   {
    "duration": 102,
    "start_time": "2022-02-21T19:08:08.753Z"
   },
   {
    "duration": 10,
    "start_time": "2022-02-21T19:08:08.857Z"
   },
   {
    "duration": 14,
    "start_time": "2022-02-21T19:08:08.869Z"
   },
   {
    "duration": 32,
    "start_time": "2022-02-21T19:08:08.885Z"
   },
   {
    "duration": 31,
    "start_time": "2022-02-21T19:08:08.920Z"
   },
   {
    "duration": 437,
    "start_time": "2022-02-21T19:08:08.953Z"
   },
   {
    "duration": 23,
    "start_time": "2022-02-21T19:08:09.392Z"
   },
   {
    "duration": 8,
    "start_time": "2022-02-21T19:08:09.417Z"
   },
   {
    "duration": 54,
    "start_time": "2022-02-21T19:08:09.427Z"
   },
   {
    "duration": 30,
    "start_time": "2022-02-21T19:08:09.483Z"
   },
   {
    "duration": 37,
    "start_time": "2022-02-21T19:08:09.515Z"
   },
   {
    "duration": 28,
    "start_time": "2022-02-21T19:08:09.554Z"
   },
   {
    "duration": 38,
    "start_time": "2022-02-21T19:08:09.584Z"
   },
   {
    "duration": 9,
    "start_time": "2022-02-21T19:08:09.624Z"
   },
   {
    "duration": 48,
    "start_time": "2022-02-21T19:08:09.634Z"
   },
   {
    "duration": 10,
    "start_time": "2022-02-21T19:08:09.684Z"
   },
   {
    "duration": 4987,
    "start_time": "2022-02-21T19:08:09.695Z"
   },
   {
    "duration": 58,
    "start_time": "2022-02-21T19:08:14.684Z"
   },
   {
    "duration": 322,
    "start_time": "2022-02-21T19:08:43.859Z"
   },
   {
    "duration": 1288,
    "start_time": "2022-02-21T19:09:10.253Z"
   },
   {
    "duration": 100,
    "start_time": "2022-02-21T19:09:11.544Z"
   },
   {
    "duration": 11,
    "start_time": "2022-02-21T19:09:11.647Z"
   },
   {
    "duration": 5,
    "start_time": "2022-02-21T19:09:11.661Z"
   },
   {
    "duration": 16,
    "start_time": "2022-02-21T19:09:11.668Z"
   },
   {
    "duration": 38,
    "start_time": "2022-02-21T19:09:11.686Z"
   },
   {
    "duration": 437,
    "start_time": "2022-02-21T19:09:11.726Z"
   },
   {
    "duration": 14,
    "start_time": "2022-02-21T19:09:12.165Z"
   },
   {
    "duration": 33,
    "start_time": "2022-02-21T19:09:12.182Z"
   },
   {
    "duration": 47,
    "start_time": "2022-02-21T19:09:12.217Z"
   },
   {
    "duration": 13,
    "start_time": "2022-02-21T19:09:12.265Z"
   },
   {
    "duration": 35,
    "start_time": "2022-02-21T19:09:12.280Z"
   },
   {
    "duration": 20,
    "start_time": "2022-02-21T19:09:12.317Z"
   },
   {
    "duration": 35,
    "start_time": "2022-02-21T19:09:12.338Z"
   },
   {
    "duration": 40,
    "start_time": "2022-02-21T19:09:12.375Z"
   },
   {
    "duration": 26,
    "start_time": "2022-02-21T19:09:12.417Z"
   },
   {
    "duration": 14,
    "start_time": "2022-02-21T19:09:12.445Z"
   },
   {
    "duration": 5000,
    "start_time": "2022-02-21T19:09:12.461Z"
   },
   {
    "duration": 57,
    "start_time": "2022-02-21T19:09:17.464Z"
   },
   {
    "duration": 2,
    "start_time": "2022-02-21T19:09:17.523Z"
   },
   {
    "duration": 297,
    "start_time": "2022-02-21T19:09:56.918Z"
   },
   {
    "duration": 1403,
    "start_time": "2022-02-21T19:10:01.079Z"
   },
   {
    "duration": 75,
    "start_time": "2022-02-21T19:10:02.485Z"
   },
   {
    "duration": 17,
    "start_time": "2022-02-21T19:10:02.572Z"
   },
   {
    "duration": 89,
    "start_time": "2022-02-21T19:10:02.591Z"
   },
   {
    "duration": 45,
    "start_time": "2022-02-21T19:10:02.682Z"
   },
   {
    "duration": 76,
    "start_time": "2022-02-21T19:10:02.730Z"
   },
   {
    "duration": 464,
    "start_time": "2022-02-21T19:10:02.808Z"
   },
   {
    "duration": 14,
    "start_time": "2022-02-21T19:10:03.275Z"
   },
   {
    "duration": 11,
    "start_time": "2022-02-21T19:10:03.306Z"
   },
   {
    "duration": 52,
    "start_time": "2022-02-21T19:10:03.319Z"
   },
   {
    "duration": 34,
    "start_time": "2022-02-21T19:10:03.373Z"
   },
   {
    "duration": 12,
    "start_time": "2022-02-21T19:10:03.410Z"
   },
   {
    "duration": 20,
    "start_time": "2022-02-21T19:10:03.425Z"
   },
   {
    "duration": 64,
    "start_time": "2022-02-21T19:10:03.447Z"
   },
   {
    "duration": 19,
    "start_time": "2022-02-21T19:10:03.513Z"
   },
   {
    "duration": 31,
    "start_time": "2022-02-21T19:10:03.534Z"
   },
   {
    "duration": 11,
    "start_time": "2022-02-21T19:10:03.567Z"
   },
   {
    "duration": 4961,
    "start_time": "2022-02-21T19:10:03.607Z"
   },
   {
    "duration": 56,
    "start_time": "2022-02-21T19:10:08.571Z"
   },
   {
    "duration": 293,
    "start_time": "2022-02-21T19:10:39.464Z"
   },
   {
    "duration": 215,
    "start_time": "2022-02-21T19:10:48.652Z"
   },
   {
    "duration": 1298,
    "start_time": "2022-02-21T19:10:51.957Z"
   },
   {
    "duration": 67,
    "start_time": "2022-02-21T19:10:54.153Z"
   },
   {
    "duration": 3,
    "start_time": "2022-02-21T19:11:01.770Z"
   },
   {
    "duration": 61,
    "start_time": "2022-02-21T19:11:01.870Z"
   },
   {
    "duration": 11,
    "start_time": "2022-02-21T19:11:02.037Z"
   },
   {
    "duration": 23,
    "start_time": "2022-02-21T19:11:02.050Z"
   },
   {
    "duration": 55,
    "start_time": "2022-02-21T19:11:02.076Z"
   },
   {
    "duration": 43,
    "start_time": "2022-02-21T19:11:02.133Z"
   },
   {
    "duration": 436,
    "start_time": "2022-02-21T19:11:02.178Z"
   },
   {
    "duration": 13,
    "start_time": "2022-02-21T19:11:02.616Z"
   },
   {
    "duration": 34,
    "start_time": "2022-02-21T19:11:02.632Z"
   },
   {
    "duration": 65,
    "start_time": "2022-02-21T19:11:02.669Z"
   },
   {
    "duration": 22,
    "start_time": "2022-02-21T19:11:02.736Z"
   },
   {
    "duration": 64,
    "start_time": "2022-02-21T19:11:02.760Z"
   },
   {
    "duration": 43,
    "start_time": "2022-02-21T19:11:02.826Z"
   },
   {
    "duration": 38,
    "start_time": "2022-02-21T19:11:02.870Z"
   },
   {
    "duration": 15,
    "start_time": "2022-02-21T19:11:02.910Z"
   },
   {
    "duration": 88,
    "start_time": "2022-02-21T19:11:02.927Z"
   },
   {
    "duration": 16,
    "start_time": "2022-02-21T19:11:03.017Z"
   },
   {
    "duration": 5174,
    "start_time": "2022-02-21T19:11:03.035Z"
   },
   {
    "duration": 44,
    "start_time": "2022-02-21T19:11:08.212Z"
   },
   {
    "duration": 314,
    "start_time": "2022-02-21T19:11:19.191Z"
   },
   {
    "duration": 244,
    "start_time": "2022-02-21T19:13:33.016Z"
   },
   {
    "duration": 1349,
    "start_time": "2022-02-21T19:13:37.717Z"
   },
   {
    "duration": 73,
    "start_time": "2022-02-21T19:13:39.069Z"
   },
   {
    "duration": 13,
    "start_time": "2022-02-21T19:13:39.144Z"
   },
   {
    "duration": 51,
    "start_time": "2022-02-21T19:13:39.159Z"
   },
   {
    "duration": 31,
    "start_time": "2022-02-21T19:13:39.213Z"
   },
   {
    "duration": 26,
    "start_time": "2022-02-21T19:13:39.246Z"
   },
   {
    "duration": 424,
    "start_time": "2022-02-21T19:13:39.274Z"
   },
   {
    "duration": 20,
    "start_time": "2022-02-21T19:13:39.701Z"
   },
   {
    "duration": 8,
    "start_time": "2022-02-21T19:13:39.724Z"
   },
   {
    "duration": 77,
    "start_time": "2022-02-21T19:13:39.734Z"
   },
   {
    "duration": 14,
    "start_time": "2022-02-21T19:13:39.813Z"
   },
   {
    "duration": 12,
    "start_time": "2022-02-21T19:13:39.828Z"
   },
   {
    "duration": 20,
    "start_time": "2022-02-21T19:13:39.842Z"
   },
   {
    "duration": 69,
    "start_time": "2022-02-21T19:13:39.864Z"
   },
   {
    "duration": 18,
    "start_time": "2022-02-21T19:13:39.935Z"
   },
   {
    "duration": 53,
    "start_time": "2022-02-21T19:13:39.956Z"
   },
   {
    "duration": 10,
    "start_time": "2022-02-21T19:13:40.011Z"
   },
   {
    "duration": 5029,
    "start_time": "2022-02-21T19:13:40.024Z"
   },
   {
    "duration": 53,
    "start_time": "2022-02-21T19:13:45.056Z"
   },
   {
    "duration": 1292,
    "start_time": "2022-02-21T19:21:51.258Z"
   },
   {
    "duration": 65,
    "start_time": "2022-02-21T19:21:52.553Z"
   },
   {
    "duration": 10,
    "start_time": "2022-02-21T19:21:52.621Z"
   },
   {
    "duration": 5,
    "start_time": "2022-02-21T19:21:52.633Z"
   },
   {
    "duration": 21,
    "start_time": "2022-02-21T19:21:52.640Z"
   },
   {
    "duration": 60,
    "start_time": "2022-02-21T19:21:52.663Z"
   },
   {
    "duration": 425,
    "start_time": "2022-02-21T19:21:52.725Z"
   },
   {
    "duration": 15,
    "start_time": "2022-02-21T19:21:53.152Z"
   },
   {
    "duration": 8,
    "start_time": "2022-02-21T19:21:53.171Z"
   },
   {
    "duration": 68,
    "start_time": "2022-02-21T19:21:53.181Z"
   },
   {
    "duration": 14,
    "start_time": "2022-02-21T19:21:53.252Z"
   },
   {
    "duration": 46,
    "start_time": "2022-02-21T19:21:53.269Z"
   },
   {
    "duration": 18,
    "start_time": "2022-02-21T19:21:53.317Z"
   },
   {
    "duration": 35,
    "start_time": "2022-02-21T19:21:53.337Z"
   },
   {
    "duration": 38,
    "start_time": "2022-02-21T19:21:53.374Z"
   },
   {
    "duration": 27,
    "start_time": "2022-02-21T19:21:53.414Z"
   },
   {
    "duration": 16,
    "start_time": "2022-02-21T19:21:53.443Z"
   },
   {
    "duration": 5148,
    "start_time": "2022-02-21T19:21:53.461Z"
   },
   {
    "duration": 41,
    "start_time": "2022-02-21T19:21:58.611Z"
   },
   {
    "duration": 280,
    "start_time": "2022-02-21T19:29:00.257Z"
   },
   {
    "duration": 1315,
    "start_time": "2022-02-21T19:29:04.557Z"
   },
   {
    "duration": 67,
    "start_time": "2022-02-21T19:29:05.875Z"
   },
   {
    "duration": 15,
    "start_time": "2022-02-21T19:29:05.945Z"
   },
   {
    "duration": 18,
    "start_time": "2022-02-21T19:29:05.963Z"
   },
   {
    "duration": 43,
    "start_time": "2022-02-21T19:29:05.984Z"
   },
   {
    "duration": 24,
    "start_time": "2022-02-21T19:29:06.030Z"
   },
   {
    "duration": 425,
    "start_time": "2022-02-21T19:29:06.056Z"
   },
   {
    "duration": 26,
    "start_time": "2022-02-21T19:29:06.484Z"
   },
   {
    "duration": 8,
    "start_time": "2022-02-21T19:29:06.513Z"
   },
   {
    "duration": 47,
    "start_time": "2022-02-21T19:29:06.523Z"
   },
   {
    "duration": 37,
    "start_time": "2022-02-21T19:29:06.572Z"
   },
   {
    "duration": 18,
    "start_time": "2022-02-21T19:29:06.611Z"
   },
   {
    "duration": 17,
    "start_time": "2022-02-21T19:29:06.632Z"
   },
   {
    "duration": 57,
    "start_time": "2022-02-21T19:29:06.652Z"
   },
   {
    "duration": 16,
    "start_time": "2022-02-21T19:29:06.711Z"
   },
   {
    "duration": 28,
    "start_time": "2022-02-21T19:29:06.729Z"
   },
   {
    "duration": 15,
    "start_time": "2022-02-21T19:29:06.759Z"
   },
   {
    "duration": 5030,
    "start_time": "2022-02-21T19:29:06.776Z"
   },
   {
    "duration": 43,
    "start_time": "2022-02-21T19:29:11.809Z"
   },
   {
    "duration": 10,
    "start_time": "2022-02-21T19:29:11.854Z"
   },
   {
    "duration": 11,
    "start_time": "2022-02-21T19:29:47.300Z"
   },
   {
    "duration": 11,
    "start_time": "2022-02-21T19:30:41.380Z"
   },
   {
    "duration": -1920,
    "start_time": "2022-02-21T19:31:24.294Z"
   },
   {
    "duration": -1932,
    "start_time": "2022-02-21T19:31:40.780Z"
   },
   {
    "duration": -1916,
    "start_time": "2022-02-21T19:31:55.790Z"
   },
   {
    "duration": -1917,
    "start_time": "2022-02-21T19:31:55.793Z"
   },
   {
    "duration": -1918,
    "start_time": "2022-02-21T19:31:55.796Z"
   },
   {
    "duration": -1923,
    "start_time": "2022-02-21T19:31:55.803Z"
   },
   {
    "duration": -1929,
    "start_time": "2022-02-21T19:31:55.810Z"
   },
   {
    "duration": -1932,
    "start_time": "2022-02-21T19:31:55.815Z"
   },
   {
    "duration": -1940,
    "start_time": "2022-02-21T19:31:55.824Z"
   },
   {
    "duration": -1940,
    "start_time": "2022-02-21T19:31:55.826Z"
   },
   {
    "duration": -1941,
    "start_time": "2022-02-21T19:31:55.828Z"
   },
   {
    "duration": -1943,
    "start_time": "2022-02-21T19:31:55.831Z"
   },
   {
    "duration": -1945,
    "start_time": "2022-02-21T19:31:55.834Z"
   },
   {
    "duration": -1944,
    "start_time": "2022-02-21T19:31:55.835Z"
   },
   {
    "duration": -1961,
    "start_time": "2022-02-21T19:31:55.853Z"
   },
   {
    "duration": -1968,
    "start_time": "2022-02-21T19:31:55.861Z"
   },
   {
    "duration": -1969,
    "start_time": "2022-02-21T19:31:55.863Z"
   },
   {
    "duration": -1971,
    "start_time": "2022-02-21T19:31:55.866Z"
   },
   {
    "duration": -1971,
    "start_time": "2022-02-21T19:31:55.867Z"
   },
   {
    "duration": -1973,
    "start_time": "2022-02-21T19:31:55.869Z"
   },
   {
    "duration": -2046,
    "start_time": "2022-02-21T19:31:55.943Z"
   },
   {
    "duration": -2047,
    "start_time": "2022-02-21T19:31:55.945Z"
   },
   {
    "duration": 4,
    "start_time": "2022-02-21T19:31:56.492Z"
   },
   {
    "duration": 79,
    "start_time": "2022-02-21T19:31:56.498Z"
   },
   {
    "duration": 11,
    "start_time": "2022-02-21T19:31:56.579Z"
   },
   {
    "duration": 16,
    "start_time": "2022-02-21T19:31:56.592Z"
   },
   {
    "duration": 15,
    "start_time": "2022-02-21T19:31:56.611Z"
   },
   {
    "duration": 25,
    "start_time": "2022-02-21T19:31:56.628Z"
   },
   {
    "duration": 608,
    "start_time": "2022-02-21T19:31:56.656Z"
   },
   {
    "duration": 20,
    "start_time": "2022-02-21T19:31:57.268Z"
   },
   {
    "duration": 21,
    "start_time": "2022-02-21T19:31:57.291Z"
   },
   {
    "duration": 94,
    "start_time": "2022-02-21T19:31:57.314Z"
   },
   {
    "duration": 15,
    "start_time": "2022-02-21T19:31:57.411Z"
   },
   {
    "duration": 19,
    "start_time": "2022-02-21T19:31:57.428Z"
   },
   {
    "duration": 27,
    "start_time": "2022-02-21T19:31:57.449Z"
   },
   {
    "duration": 60,
    "start_time": "2022-02-21T19:31:57.479Z"
   },
   {
    "duration": 19,
    "start_time": "2022-02-21T19:31:57.541Z"
   },
   {
    "duration": 64,
    "start_time": "2022-02-21T19:31:57.563Z"
   },
   {
    "duration": 8,
    "start_time": "2022-02-21T19:31:57.629Z"
   },
   {
    "duration": 5788,
    "start_time": "2022-02-21T19:31:57.640Z"
   },
   {
    "duration": 36,
    "start_time": "2022-02-21T19:32:03.430Z"
   },
   {
    "duration": 6565,
    "start_time": "2022-02-21T19:32:03.468Z"
   },
   {
    "duration": 12,
    "start_time": "2022-02-21T19:32:46.688Z"
   },
   {
    "duration": 15,
    "start_time": "2022-02-21T19:33:45.978Z"
   },
   {
    "duration": 3,
    "start_time": "2022-02-21T19:39:11.565Z"
   },
   {
    "duration": 62,
    "start_time": "2022-02-21T19:39:11.570Z"
   },
   {
    "duration": 10,
    "start_time": "2022-02-21T19:39:11.634Z"
   },
   {
    "duration": 7,
    "start_time": "2022-02-21T19:39:11.647Z"
   },
   {
    "duration": 17,
    "start_time": "2022-02-21T19:39:11.656Z"
   },
   {
    "duration": 54,
    "start_time": "2022-02-21T19:39:11.674Z"
   },
   {
    "duration": 435,
    "start_time": "2022-02-21T19:39:11.731Z"
   },
   {
    "duration": 15,
    "start_time": "2022-02-21T19:39:12.169Z"
   },
   {
    "duration": 25,
    "start_time": "2022-02-21T19:39:12.186Z"
   },
   {
    "duration": 43,
    "start_time": "2022-02-21T19:39:12.213Z"
   },
   {
    "duration": 13,
    "start_time": "2022-02-21T19:39:12.258Z"
   },
   {
    "duration": 44,
    "start_time": "2022-02-21T19:39:12.273Z"
   },
   {
    "duration": 29,
    "start_time": "2022-02-21T19:39:12.320Z"
   },
   {
    "duration": 75,
    "start_time": "2022-02-21T19:39:12.351Z"
   },
   {
    "duration": 17,
    "start_time": "2022-02-21T19:39:12.428Z"
   },
   {
    "duration": 28,
    "start_time": "2022-02-21T19:39:12.447Z"
   },
   {
    "duration": 32,
    "start_time": "2022-02-21T19:39:12.477Z"
   },
   {
    "duration": 5712,
    "start_time": "2022-02-21T19:39:12.511Z"
   },
   {
    "duration": 38,
    "start_time": "2022-02-21T19:39:18.226Z"
   },
   {
    "duration": 15,
    "start_time": "2022-02-21T19:39:18.266Z"
   },
   {
    "duration": 18,
    "start_time": "2022-02-21T19:42:45.880Z"
   },
   {
    "duration": 263,
    "start_time": "2022-02-21T19:43:48.672Z"
   },
   {
    "duration": 274,
    "start_time": "2022-02-21T19:44:02.274Z"
   },
   {
    "duration": 24,
    "start_time": "2022-02-21T19:44:24.427Z"
   },
   {
    "duration": 32,
    "start_time": "2022-02-21T19:57:11.746Z"
   },
   {
    "duration": 25,
    "start_time": "2022-02-21T19:58:00.019Z"
   },
   {
    "duration": 27,
    "start_time": "2022-02-21T19:59:22.614Z"
   },
   {
    "duration": 24,
    "start_time": "2022-02-21T19:59:30.871Z"
   },
   {
    "duration": 23,
    "start_time": "2022-02-21T19:59:53.121Z"
   },
   {
    "duration": 33,
    "start_time": "2022-02-21T20:06:18.674Z"
   },
   {
    "duration": 1369,
    "start_time": "2022-02-21T20:08:36.887Z"
   },
   {
    "duration": 4,
    "start_time": "2022-02-21T20:08:54.038Z"
   },
   {
    "duration": 71,
    "start_time": "2022-02-21T20:08:54.044Z"
   },
   {
    "duration": 10,
    "start_time": "2022-02-21T20:08:54.118Z"
   },
   {
    "duration": 7,
    "start_time": "2022-02-21T20:08:54.131Z"
   },
   {
    "duration": 16,
    "start_time": "2022-02-21T20:08:54.140Z"
   },
   {
    "duration": 54,
    "start_time": "2022-02-21T20:08:54.158Z"
   },
   {
    "duration": 428,
    "start_time": "2022-02-21T20:08:54.214Z"
   },
   {
    "duration": 16,
    "start_time": "2022-02-21T20:08:54.644Z"
   },
   {
    "duration": 9,
    "start_time": "2022-02-21T20:08:54.662Z"
   },
   {
    "duration": 70,
    "start_time": "2022-02-21T20:08:54.673Z"
   },
   {
    "duration": 13,
    "start_time": "2022-02-21T20:08:54.745Z"
   },
   {
    "duration": 12,
    "start_time": "2022-02-21T20:08:54.760Z"
   },
   {
    "duration": 48,
    "start_time": "2022-02-21T20:08:54.774Z"
   },
   {
    "duration": 36,
    "start_time": "2022-02-21T20:08:54.824Z"
   },
   {
    "duration": 18,
    "start_time": "2022-02-21T20:08:54.863Z"
   },
   {
    "duration": 49,
    "start_time": "2022-02-21T20:08:54.883Z"
   },
   {
    "duration": 8,
    "start_time": "2022-02-21T20:08:54.934Z"
   },
   {
    "duration": 5351,
    "start_time": "2022-02-21T20:08:54.944Z"
   },
   {
    "duration": 44,
    "start_time": "2022-02-21T20:09:00.297Z"
   },
   {
    "duration": 25,
    "start_time": "2022-02-21T20:09:00.343Z"
   },
   {
    "duration": 51,
    "start_time": "2022-02-21T20:09:00.370Z"
   },
   {
    "duration": 23,
    "start_time": "2022-02-21T20:09:00.423Z"
   },
   {
    "duration": 9,
    "start_time": "2022-02-21T20:10:31.595Z"
   },
   {
    "duration": 9,
    "start_time": "2022-02-21T20:10:50.421Z"
   },
   {
    "duration": 23,
    "start_time": "2022-02-21T20:11:57.563Z"
   },
   {
    "duration": 26,
    "start_time": "2022-02-21T20:12:12.573Z"
   },
   {
    "duration": 23,
    "start_time": "2022-02-21T20:12:36.169Z"
   },
   {
    "duration": 24,
    "start_time": "2022-02-21T20:12:42.294Z"
   },
   {
    "duration": 1413,
    "start_time": "2022-02-21T20:12:50.904Z"
   },
   {
    "duration": 9,
    "start_time": "2022-02-21T20:13:51.808Z"
   },
   {
    "duration": 35,
    "start_time": "2022-02-21T20:14:11.858Z"
   },
   {
    "duration": 37,
    "start_time": "2022-02-21T20:16:02.894Z"
   },
   {
    "duration": 47,
    "start_time": "2022-02-21T20:16:20.088Z"
   },
   {
    "duration": 46,
    "start_time": "2022-02-21T20:16:33.817Z"
   },
   {
    "duration": 266,
    "start_time": "2022-02-21T20:18:37.092Z"
   },
   {
    "duration": 4,
    "start_time": "2022-02-21T20:18:51.459Z"
   },
   {
    "duration": 74,
    "start_time": "2022-02-21T20:18:51.465Z"
   },
   {
    "duration": 10,
    "start_time": "2022-02-21T20:18:51.542Z"
   },
   {
    "duration": 7,
    "start_time": "2022-02-21T20:18:51.554Z"
   },
   {
    "duration": 17,
    "start_time": "2022-02-21T20:18:51.563Z"
   },
   {
    "duration": 24,
    "start_time": "2022-02-21T20:18:51.608Z"
   },
   {
    "duration": 419,
    "start_time": "2022-02-21T20:18:51.635Z"
   },
   {
    "duration": 13,
    "start_time": "2022-02-21T20:18:52.057Z"
   },
   {
    "duration": 8,
    "start_time": "2022-02-21T20:18:52.073Z"
   },
   {
    "duration": 67,
    "start_time": "2022-02-21T20:18:52.082Z"
   },
   {
    "duration": 12,
    "start_time": "2022-02-21T20:18:52.151Z"
   },
   {
    "duration": 16,
    "start_time": "2022-02-21T20:18:52.166Z"
   },
   {
    "duration": 20,
    "start_time": "2022-02-21T20:18:52.207Z"
   },
   {
    "duration": 37,
    "start_time": "2022-02-21T20:18:52.229Z"
   },
   {
    "duration": 6322,
    "start_time": "2022-02-21T20:18:52.268Z"
   },
   {
    "duration": -1975,
    "start_time": "2022-02-21T20:19:00.567Z"
   },
   {
    "duration": -1977,
    "start_time": "2022-02-21T20:19:00.570Z"
   },
   {
    "duration": -1980,
    "start_time": "2022-02-21T20:19:00.574Z"
   },
   {
    "duration": -1981,
    "start_time": "2022-02-21T20:19:00.576Z"
   },
   {
    "duration": -1983,
    "start_time": "2022-02-21T20:19:00.579Z"
   },
   {
    "duration": -1984,
    "start_time": "2022-02-21T20:19:00.581Z"
   },
   {
    "duration": -1985,
    "start_time": "2022-02-21T20:19:00.584Z"
   },
   {
    "duration": 245,
    "start_time": "2022-02-21T20:19:25.093Z"
   },
   {
    "duration": 3,
    "start_time": "2022-02-21T20:19:31.509Z"
   },
   {
    "duration": 72,
    "start_time": "2022-02-21T20:19:31.514Z"
   },
   {
    "duration": 21,
    "start_time": "2022-02-21T20:19:31.588Z"
   },
   {
    "duration": 15,
    "start_time": "2022-02-21T20:19:31.611Z"
   },
   {
    "duration": 22,
    "start_time": "2022-02-21T20:19:31.628Z"
   },
   {
    "duration": 26,
    "start_time": "2022-02-21T20:19:31.653Z"
   },
   {
    "duration": 415,
    "start_time": "2022-02-21T20:19:31.682Z"
   },
   {
    "duration": 18,
    "start_time": "2022-02-21T20:19:32.100Z"
   },
   {
    "duration": 9,
    "start_time": "2022-02-21T20:19:32.121Z"
   },
   {
    "duration": 48,
    "start_time": "2022-02-21T20:19:32.132Z"
   },
   {
    "duration": 38,
    "start_time": "2022-02-21T20:19:32.181Z"
   },
   {
    "duration": 20,
    "start_time": "2022-02-21T20:19:32.221Z"
   },
   {
    "duration": 34,
    "start_time": "2022-02-21T20:19:32.243Z"
   },
   {
    "duration": 58,
    "start_time": "2022-02-21T20:19:32.279Z"
   },
   {
    "duration": 22,
    "start_time": "2022-02-21T20:19:32.339Z"
   },
   {
    "duration": 53,
    "start_time": "2022-02-21T20:19:32.363Z"
   },
   {
    "duration": 17,
    "start_time": "2022-02-21T20:19:32.418Z"
   },
   {
    "duration": 4901,
    "start_time": "2022-02-21T20:19:32.437Z"
   },
   {
    "duration": 36,
    "start_time": "2022-02-21T20:19:37.342Z"
   },
   {
    "duration": 47,
    "start_time": "2022-02-21T20:19:37.380Z"
   },
   {
    "duration": 24,
    "start_time": "2022-02-21T20:19:37.429Z"
   },
   {
    "duration": 22,
    "start_time": "2022-02-21T20:19:37.455Z"
   },
   {
    "duration": 344,
    "start_time": "2022-02-21T20:19:53.137Z"
   },
   {
    "duration": 4,
    "start_time": "2022-02-21T20:19:58.509Z"
   },
   {
    "duration": 63,
    "start_time": "2022-02-21T20:19:58.515Z"
   },
   {
    "duration": 38,
    "start_time": "2022-02-21T20:19:58.581Z"
   },
   {
    "duration": 6,
    "start_time": "2022-02-21T20:19:58.621Z"
   },
   {
    "duration": 19,
    "start_time": "2022-02-21T20:19:58.629Z"
   },
   {
    "duration": 25,
    "start_time": "2022-02-21T20:19:58.650Z"
   },
   {
    "duration": 457,
    "start_time": "2022-02-21T20:19:58.678Z"
   },
   {
    "duration": 15,
    "start_time": "2022-02-21T20:19:59.137Z"
   },
   {
    "duration": 12,
    "start_time": "2022-02-21T20:19:59.155Z"
   },
   {
    "duration": 75,
    "start_time": "2022-02-21T20:19:59.169Z"
   },
   {
    "duration": 16,
    "start_time": "2022-02-21T20:19:59.245Z"
   },
   {
    "duration": 22,
    "start_time": "2022-02-21T20:19:59.263Z"
   },
   {
    "duration": 36,
    "start_time": "2022-02-21T20:19:59.288Z"
   },
   {
    "duration": 37,
    "start_time": "2022-02-21T20:19:59.326Z"
   },
   {
    "duration": 43,
    "start_time": "2022-02-21T20:19:59.365Z"
   },
   {
    "duration": 46,
    "start_time": "2022-02-21T20:19:59.410Z"
   },
   {
    "duration": 18,
    "start_time": "2022-02-21T20:19:59.458Z"
   },
   {
    "duration": 5142,
    "start_time": "2022-02-21T20:19:59.509Z"
   },
   {
    "duration": 53,
    "start_time": "2022-02-21T20:20:04.656Z"
   },
   {
    "duration": 26,
    "start_time": "2022-02-21T20:20:04.712Z"
   },
   {
    "duration": 24,
    "start_time": "2022-02-21T20:20:04.740Z"
   },
   {
    "duration": 55,
    "start_time": "2022-02-21T20:20:04.767Z"
   },
   {
    "duration": 35,
    "start_time": "2022-02-21T20:25:00.258Z"
   },
   {
    "duration": 28,
    "start_time": "2022-02-21T20:25:53.533Z"
   },
   {
    "duration": 249,
    "start_time": "2022-02-21T20:26:10.082Z"
   },
   {
    "duration": 4,
    "start_time": "2022-02-21T20:26:15.587Z"
   },
   {
    "duration": 67,
    "start_time": "2022-02-21T20:26:15.593Z"
   },
   {
    "duration": 11,
    "start_time": "2022-02-21T20:26:15.662Z"
   },
   {
    "duration": 33,
    "start_time": "2022-02-21T20:26:15.676Z"
   },
   {
    "duration": 50,
    "start_time": "2022-02-21T20:26:15.711Z"
   },
   {
    "duration": 44,
    "start_time": "2022-02-21T20:26:15.763Z"
   },
   {
    "duration": 449,
    "start_time": "2022-02-21T20:26:15.810Z"
   },
   {
    "duration": 14,
    "start_time": "2022-02-21T20:26:16.262Z"
   },
   {
    "duration": 8,
    "start_time": "2022-02-21T20:26:16.278Z"
   },
   {
    "duration": 43,
    "start_time": "2022-02-21T20:26:16.308Z"
   },
   {
    "duration": 14,
    "start_time": "2022-02-21T20:26:16.353Z"
   },
   {
    "duration": 43,
    "start_time": "2022-02-21T20:26:16.369Z"
   },
   {
    "duration": 21,
    "start_time": "2022-02-21T20:26:16.415Z"
   },
   {
    "duration": 36,
    "start_time": "2022-02-21T20:26:16.438Z"
   },
   {
    "duration": 49,
    "start_time": "2022-02-21T20:26:16.476Z"
   },
   {
    "duration": 38,
    "start_time": "2022-02-21T20:26:16.527Z"
   },
   {
    "duration": 41,
    "start_time": "2022-02-21T20:26:16.567Z"
   },
   {
    "duration": 4918,
    "start_time": "2022-02-21T20:26:16.611Z"
   },
   {
    "duration": 38,
    "start_time": "2022-02-21T20:26:21.532Z"
   },
   {
    "duration": 47,
    "start_time": "2022-02-21T20:26:21.573Z"
   },
   {
    "duration": 23,
    "start_time": "2022-02-21T20:26:21.622Z"
   },
   {
    "duration": 40,
    "start_time": "2022-02-21T20:26:21.647Z"
   },
   {
    "duration": 39,
    "start_time": "2022-02-21T20:27:01.811Z"
   },
   {
    "duration": 47,
    "start_time": "2022-02-21T20:27:10.307Z"
   },
   {
    "duration": 41,
    "start_time": "2022-02-21T20:27:22.776Z"
   },
   {
    "duration": 16,
    "start_time": "2022-02-21T20:29:49.332Z"
   },
   {
    "duration": 14,
    "start_time": "2022-02-21T20:30:09.369Z"
   },
   {
    "duration": 8,
    "start_time": "2022-02-21T20:30:23.259Z"
   },
   {
    "duration": 10,
    "start_time": "2022-02-21T20:30:35.094Z"
   },
   {
    "duration": 19,
    "start_time": "2022-02-21T20:31:14.732Z"
   },
   {
    "duration": 5001,
    "start_time": "2022-02-21T20:31:46.774Z"
   },
   {
    "duration": 3,
    "start_time": "2022-02-21T20:31:56.290Z"
   },
   {
    "duration": 69,
    "start_time": "2022-02-21T20:31:56.295Z"
   },
   {
    "duration": 10,
    "start_time": "2022-02-21T20:31:56.367Z"
   },
   {
    "duration": 30,
    "start_time": "2022-02-21T20:31:56.379Z"
   },
   {
    "duration": 17,
    "start_time": "2022-02-21T20:31:56.411Z"
   },
   {
    "duration": 25,
    "start_time": "2022-02-21T20:31:56.429Z"
   },
   {
    "duration": 429,
    "start_time": "2022-02-21T20:31:56.458Z"
   },
   {
    "duration": 22,
    "start_time": "2022-02-21T20:31:56.889Z"
   },
   {
    "duration": 9,
    "start_time": "2022-02-21T20:31:56.913Z"
   },
   {
    "duration": 41,
    "start_time": "2022-02-21T20:31:56.924Z"
   },
   {
    "duration": 43,
    "start_time": "2022-02-21T20:31:56.966Z"
   },
   {
    "duration": 14,
    "start_time": "2022-02-21T20:31:57.011Z"
   },
   {
    "duration": 20,
    "start_time": "2022-02-21T20:31:57.027Z"
   },
   {
    "duration": 60,
    "start_time": "2022-02-21T20:31:57.048Z"
   },
   {
    "duration": 25,
    "start_time": "2022-02-21T20:31:57.110Z"
   },
   {
    "duration": 39,
    "start_time": "2022-02-21T20:31:57.137Z"
   },
   {
    "duration": 31,
    "start_time": "2022-02-21T20:31:57.178Z"
   },
   {
    "duration": 34,
    "start_time": "2022-02-21T20:31:57.211Z"
   },
   {
    "duration": 4913,
    "start_time": "2022-02-21T20:31:57.248Z"
   },
   {
    "duration": 47,
    "start_time": "2022-02-21T20:32:02.163Z"
   },
   {
    "duration": 27,
    "start_time": "2022-02-21T20:32:02.212Z"
   },
   {
    "duration": 23,
    "start_time": "2022-02-21T20:32:02.241Z"
   },
   {
    "duration": 55,
    "start_time": "2022-02-21T20:32:02.266Z"
   },
   {
    "duration": 1468,
    "start_time": "2022-02-21T20:32:16.765Z"
   },
   {
    "duration": 21,
    "start_time": "2022-02-21T20:32:54.105Z"
   },
   {
    "duration": 34,
    "start_time": "2022-02-21T20:33:07.654Z"
   },
   {
    "duration": 15,
    "start_time": "2022-02-21T20:33:38.719Z"
   },
   {
    "duration": 32,
    "start_time": "2022-02-21T20:33:50.317Z"
   },
   {
    "duration": 43,
    "start_time": "2022-02-21T20:34:15.968Z"
   },
   {
    "duration": 32,
    "start_time": "2022-02-21T20:35:57.377Z"
   },
   {
    "duration": 9,
    "start_time": "2022-02-21T20:36:27.273Z"
   },
   {
    "duration": 1170,
    "start_time": "2022-02-21T20:37:08.194Z"
   },
   {
    "duration": 4,
    "start_time": "2022-02-21T20:37:22.937Z"
   },
   {
    "duration": 73,
    "start_time": "2022-02-21T20:37:22.944Z"
   },
   {
    "duration": 15,
    "start_time": "2022-02-21T20:37:23.020Z"
   },
   {
    "duration": 15,
    "start_time": "2022-02-21T20:37:23.038Z"
   },
   {
    "duration": 24,
    "start_time": "2022-02-21T20:37:23.055Z"
   },
   {
    "duration": 42,
    "start_time": "2022-02-21T20:37:23.082Z"
   },
   {
    "duration": 423,
    "start_time": "2022-02-21T20:37:23.126Z"
   },
   {
    "duration": 14,
    "start_time": "2022-02-21T20:37:23.552Z"
   },
   {
    "duration": 9,
    "start_time": "2022-02-21T20:37:23.569Z"
   },
   {
    "duration": 65,
    "start_time": "2022-02-21T20:37:23.580Z"
   },
   {
    "duration": 13,
    "start_time": "2022-02-21T20:37:23.646Z"
   },
   {
    "duration": 14,
    "start_time": "2022-02-21T20:37:23.661Z"
   },
   {
    "duration": 49,
    "start_time": "2022-02-21T20:37:23.678Z"
   },
   {
    "duration": 37,
    "start_time": "2022-02-21T20:37:23.729Z"
   },
   {
    "duration": 47,
    "start_time": "2022-02-21T20:37:23.768Z"
   },
   {
    "duration": 27,
    "start_time": "2022-02-21T20:37:23.817Z"
   },
   {
    "duration": 14,
    "start_time": "2022-02-21T20:37:23.846Z"
   },
   {
    "duration": 5084,
    "start_time": "2022-02-21T20:37:23.862Z"
   },
   {
    "duration": 38,
    "start_time": "2022-02-21T20:37:28.948Z"
   },
   {
    "duration": 31,
    "start_time": "2022-02-21T20:37:29.007Z"
   },
   {
    "duration": 23,
    "start_time": "2022-02-21T20:37:29.040Z"
   },
   {
    "duration": 54,
    "start_time": "2022-02-21T20:37:29.065Z"
   },
   {
    "duration": 248,
    "start_time": "2022-02-21T20:38:17.312Z"
   },
   {
    "duration": 4,
    "start_time": "2022-02-21T20:38:23.077Z"
   },
   {
    "duration": 67,
    "start_time": "2022-02-21T20:38:23.087Z"
   },
   {
    "duration": 11,
    "start_time": "2022-02-21T20:38:23.157Z"
   },
   {
    "duration": 37,
    "start_time": "2022-02-21T20:38:23.170Z"
   },
   {
    "duration": 15,
    "start_time": "2022-02-21T20:38:23.210Z"
   },
   {
    "duration": 23,
    "start_time": "2022-02-21T20:38:23.227Z"
   },
   {
    "duration": 441,
    "start_time": "2022-02-21T20:38:23.252Z"
   },
   {
    "duration": 23,
    "start_time": "2022-02-21T20:38:23.695Z"
   },
   {
    "duration": 9,
    "start_time": "2022-02-21T20:38:23.721Z"
   },
   {
    "duration": 46,
    "start_time": "2022-02-21T20:38:23.734Z"
   },
   {
    "duration": 13,
    "start_time": "2022-02-21T20:38:23.808Z"
   },
   {
    "duration": 12,
    "start_time": "2022-02-21T20:38:23.824Z"
   },
   {
    "duration": 25,
    "start_time": "2022-02-21T20:38:23.838Z"
   },
   {
    "duration": 69,
    "start_time": "2022-02-21T20:38:23.865Z"
   },
   {
    "duration": 18,
    "start_time": "2022-02-21T20:38:23.936Z"
   },
   {
    "duration": 26,
    "start_time": "2022-02-21T20:38:23.955Z"
   },
   {
    "duration": 9,
    "start_time": "2022-02-21T20:38:24.007Z"
   },
   {
    "duration": 4913,
    "start_time": "2022-02-21T20:38:24.018Z"
   },
   {
    "duration": 36,
    "start_time": "2022-02-21T20:38:28.933Z"
   },
   {
    "duration": 43,
    "start_time": "2022-02-21T20:38:28.971Z"
   },
   {
    "duration": 21,
    "start_time": "2022-02-21T20:38:29.016Z"
   },
   {
    "duration": 22,
    "start_time": "2022-02-21T20:38:29.039Z"
   },
   {
    "duration": 3,
    "start_time": "2022-02-21T20:39:15.995Z"
   },
   {
    "duration": 65,
    "start_time": "2022-02-21T20:39:16.003Z"
   },
   {
    "duration": 14,
    "start_time": "2022-02-21T20:39:16.070Z"
   },
   {
    "duration": 22,
    "start_time": "2022-02-21T20:39:16.087Z"
   },
   {
    "duration": 15,
    "start_time": "2022-02-21T20:39:16.111Z"
   },
   {
    "duration": 41,
    "start_time": "2022-02-21T20:39:16.129Z"
   },
   {
    "duration": 435,
    "start_time": "2022-02-21T20:39:16.172Z"
   },
   {
    "duration": 14,
    "start_time": "2022-02-21T20:39:16.609Z"
   },
   {
    "duration": 20,
    "start_time": "2022-02-21T20:39:16.625Z"
   },
   {
    "duration": 68,
    "start_time": "2022-02-21T20:39:16.648Z"
   },
   {
    "duration": 27,
    "start_time": "2022-02-21T20:39:16.718Z"
   },
   {
    "duration": 32,
    "start_time": "2022-02-21T20:39:16.748Z"
   },
   {
    "duration": 33,
    "start_time": "2022-02-21T20:39:16.782Z"
   },
   {
    "duration": 50,
    "start_time": "2022-02-21T20:39:16.817Z"
   },
   {
    "duration": 17,
    "start_time": "2022-02-21T20:39:16.869Z"
   },
   {
    "duration": 36,
    "start_time": "2022-02-21T20:39:16.888Z"
   },
   {
    "duration": 8,
    "start_time": "2022-02-21T20:39:16.926Z"
   },
   {
    "duration": 5420,
    "start_time": "2022-02-21T20:39:16.936Z"
   },
   {
    "duration": 35,
    "start_time": "2022-02-21T20:39:22.358Z"
   },
   {
    "duration": 25,
    "start_time": "2022-02-21T20:39:22.407Z"
   },
   {
    "duration": 24,
    "start_time": "2022-02-21T20:39:22.434Z"
   },
   {
    "duration": 54,
    "start_time": "2022-02-21T20:39:22.460Z"
   },
   {
    "duration": 8,
    "start_time": "2022-02-21T20:40:52.680Z"
   },
   {
    "duration": 8,
    "start_time": "2022-02-21T20:40:58.783Z"
   },
   {
    "duration": 8,
    "start_time": "2022-02-21T20:41:06.194Z"
   },
   {
    "duration": 9,
    "start_time": "2022-02-21T20:41:14.703Z"
   },
   {
    "duration": 3,
    "start_time": "2022-02-21T20:41:19.912Z"
   },
   {
    "duration": 69,
    "start_time": "2022-02-21T20:41:19.917Z"
   },
   {
    "duration": 25,
    "start_time": "2022-02-21T20:41:19.988Z"
   },
   {
    "duration": 12,
    "start_time": "2022-02-21T20:41:20.016Z"
   },
   {
    "duration": 21,
    "start_time": "2022-02-21T20:41:20.031Z"
   },
   {
    "duration": 27,
    "start_time": "2022-02-21T20:41:20.054Z"
   },
   {
    "duration": 446,
    "start_time": "2022-02-21T20:41:20.083Z"
   },
   {
    "duration": 13,
    "start_time": "2022-02-21T20:41:20.531Z"
   },
   {
    "duration": 9,
    "start_time": "2022-02-21T20:41:20.546Z"
   },
   {
    "duration": 77,
    "start_time": "2022-02-21T20:41:20.557Z"
   },
   {
    "duration": 13,
    "start_time": "2022-02-21T20:41:20.636Z"
   },
   {
    "duration": 12,
    "start_time": "2022-02-21T20:41:20.652Z"
   },
   {
    "duration": 50,
    "start_time": "2022-02-21T20:41:20.666Z"
   },
   {
    "duration": 35,
    "start_time": "2022-02-21T20:41:20.718Z"
   },
   {
    "duration": 22,
    "start_time": "2022-02-21T20:41:20.756Z"
   },
   {
    "duration": 61,
    "start_time": "2022-02-21T20:41:20.780Z"
   },
   {
    "duration": 8,
    "start_time": "2022-02-21T20:41:20.844Z"
   },
   {
    "duration": 5345,
    "start_time": "2022-02-21T20:41:20.854Z"
   },
   {
    "duration": 47,
    "start_time": "2022-02-21T20:41:26.209Z"
   },
   {
    "duration": 54,
    "start_time": "2022-02-21T20:41:26.259Z"
   },
   {
    "duration": 44,
    "start_time": "2022-02-21T20:41:26.316Z"
   },
   {
    "duration": 24,
    "start_time": "2022-02-21T20:41:26.362Z"
   },
   {
    "duration": 27,
    "start_time": "2022-02-21T20:41:29.817Z"
   },
   {
    "duration": 30,
    "start_time": "2022-02-21T20:41:32.699Z"
   },
   {
    "duration": 25,
    "start_time": "2022-02-21T20:41:39.332Z"
   },
   {
    "duration": 23,
    "start_time": "2022-02-21T20:41:43.968Z"
   },
   {
    "duration": 7,
    "start_time": "2022-02-21T20:44:24.927Z"
   },
   {
    "duration": 5,
    "start_time": "2022-02-21T20:44:33.180Z"
   },
   {
    "duration": 21,
    "start_time": "2022-02-21T20:45:27.118Z"
   },
   {
    "duration": 20,
    "start_time": "2022-02-21T20:45:45.216Z"
   },
   {
    "duration": 19,
    "start_time": "2022-02-21T20:45:49.219Z"
   },
   {
    "duration": 25,
    "start_time": "2022-02-21T20:45:54.359Z"
   },
   {
    "duration": 24,
    "start_time": "2022-02-21T20:47:35.295Z"
   },
   {
    "duration": 3,
    "start_time": "2022-02-21T20:47:39.431Z"
   },
   {
    "duration": 75,
    "start_time": "2022-02-21T20:47:39.437Z"
   },
   {
    "duration": 12,
    "start_time": "2022-02-21T20:47:39.514Z"
   },
   {
    "duration": 9,
    "start_time": "2022-02-21T20:47:39.529Z"
   },
   {
    "duration": 20,
    "start_time": "2022-02-21T20:47:39.540Z"
   },
   {
    "duration": 53,
    "start_time": "2022-02-21T20:47:39.562Z"
   },
   {
    "duration": 431,
    "start_time": "2022-02-21T20:47:39.618Z"
   },
   {
    "duration": 15,
    "start_time": "2022-02-21T20:47:40.051Z"
   },
   {
    "duration": 10,
    "start_time": "2022-02-21T20:47:40.068Z"
   },
   {
    "duration": 71,
    "start_time": "2022-02-21T20:47:40.080Z"
   },
   {
    "duration": 14,
    "start_time": "2022-02-21T20:47:40.153Z"
   },
   {
    "duration": 42,
    "start_time": "2022-02-21T20:47:40.169Z"
   },
   {
    "duration": 28,
    "start_time": "2022-02-21T20:47:40.213Z"
   },
   {
    "duration": 36,
    "start_time": "2022-02-21T20:47:40.243Z"
   },
   {
    "duration": 31,
    "start_time": "2022-02-21T20:47:40.281Z"
   },
   {
    "duration": 29,
    "start_time": "2022-02-21T20:47:40.314Z"
   },
   {
    "duration": 8,
    "start_time": "2022-02-21T20:47:40.345Z"
   },
   {
    "duration": 4957,
    "start_time": "2022-02-21T20:47:40.355Z"
   },
   {
    "duration": 37,
    "start_time": "2022-02-21T20:47:45.315Z"
   },
   {
    "duration": 25,
    "start_time": "2022-02-21T20:47:45.354Z"
   },
   {
    "duration": 23,
    "start_time": "2022-02-21T20:47:45.408Z"
   },
   {
    "duration": 21,
    "start_time": "2022-02-21T20:47:45.433Z"
   },
   {
    "duration": 1365,
    "start_time": "2022-02-21T20:53:14.782Z"
   },
   {
    "duration": 12,
    "start_time": "2022-02-21T20:53:35.999Z"
   },
   {
    "duration": 31,
    "start_time": "2022-02-21T20:53:48.053Z"
   },
   {
    "duration": 4,
    "start_time": "2022-02-21T20:55:26.630Z"
   },
   {
    "duration": 1496,
    "start_time": "2022-02-21T20:55:39.216Z"
   },
   {
    "duration": 5078,
    "start_time": "2022-02-21T20:56:12.134Z"
   },
   {
    "duration": 28,
    "start_time": "2022-02-21T20:56:48.477Z"
   },
   {
    "duration": 23,
    "start_time": "2022-02-21T20:56:54.449Z"
   },
   {
    "duration": 23,
    "start_time": "2022-02-21T20:57:24.712Z"
   },
   {
    "duration": 3,
    "start_time": "2022-02-21T20:57:34.228Z"
   },
   {
    "duration": 86,
    "start_time": "2022-02-21T20:57:34.233Z"
   },
   {
    "duration": 12,
    "start_time": "2022-02-21T20:57:34.321Z"
   },
   {
    "duration": 8,
    "start_time": "2022-02-21T20:57:34.336Z"
   },
   {
    "duration": 25,
    "start_time": "2022-02-21T20:57:34.346Z"
   },
   {
    "duration": 45,
    "start_time": "2022-02-21T20:57:34.373Z"
   },
   {
    "duration": 427,
    "start_time": "2022-02-21T20:57:34.420Z"
   },
   {
    "duration": 13,
    "start_time": "2022-02-21T20:57:34.849Z"
   },
   {
    "duration": 19,
    "start_time": "2022-02-21T20:57:34.865Z"
   },
   {
    "duration": 61,
    "start_time": "2022-02-21T20:57:34.886Z"
   },
   {
    "duration": 13,
    "start_time": "2022-02-21T20:57:34.950Z"
   },
   {
    "duration": 27,
    "start_time": "2022-02-21T20:57:34.965Z"
   },
   {
    "duration": 21,
    "start_time": "2022-02-21T20:57:35.008Z"
   },
   {
    "duration": 51,
    "start_time": "2022-02-21T20:57:35.032Z"
   },
   {
    "duration": 28,
    "start_time": "2022-02-21T20:57:35.085Z"
   },
   {
    "duration": 31,
    "start_time": "2022-02-21T20:57:35.115Z"
   },
   {
    "duration": 9,
    "start_time": "2022-02-21T20:57:35.149Z"
   },
   {
    "duration": 4980,
    "start_time": "2022-02-21T20:57:35.161Z"
   },
   {
    "duration": 36,
    "start_time": "2022-02-21T20:57:40.145Z"
   },
   {
    "duration": 46,
    "start_time": "2022-02-21T20:57:40.183Z"
   },
   {
    "duration": 23,
    "start_time": "2022-02-21T20:57:40.231Z"
   },
   {
    "duration": 22,
    "start_time": "2022-02-21T20:57:40.256Z"
   },
   {
    "duration": 2098,
    "start_time": "2022-02-22T16:16:01.280Z"
   },
   {
    "duration": 100,
    "start_time": "2022-02-22T16:16:03.381Z"
   },
   {
    "duration": 34,
    "start_time": "2022-02-22T16:16:03.484Z"
   },
   {
    "duration": 6,
    "start_time": "2022-02-22T16:16:03.521Z"
   },
   {
    "duration": 18,
    "start_time": "2022-02-22T16:16:03.530Z"
   },
   {
    "duration": 67,
    "start_time": "2022-02-22T16:16:03.551Z"
   },
   {
    "duration": 629,
    "start_time": "2022-02-22T16:16:03.620Z"
   },
   {
    "duration": 18,
    "start_time": "2022-02-22T16:16:04.253Z"
   },
   {
    "duration": 10,
    "start_time": "2022-02-22T16:16:04.274Z"
   },
   {
    "duration": 50,
    "start_time": "2022-02-22T16:16:04.311Z"
   },
   {
    "duration": 17,
    "start_time": "2022-02-22T16:16:04.363Z"
   },
   {
    "duration": 13,
    "start_time": "2022-02-22T16:16:04.411Z"
   },
   {
    "duration": 25,
    "start_time": "2022-02-22T16:16:04.426Z"
   },
   {
    "duration": 80,
    "start_time": "2022-02-22T16:16:04.453Z"
   },
   {
    "duration": 21,
    "start_time": "2022-02-22T16:16:04.535Z"
   },
   {
    "duration": 58,
    "start_time": "2022-02-22T16:16:04.558Z"
   },
   {
    "duration": 11,
    "start_time": "2022-02-22T16:16:04.618Z"
   },
   {
    "duration": 6522,
    "start_time": "2022-02-22T16:16:04.631Z"
   },
   {
    "duration": 65,
    "start_time": "2022-02-22T16:16:11.156Z"
   },
   {
    "duration": 32,
    "start_time": "2022-02-22T16:16:11.224Z"
   },
   {
    "duration": 58,
    "start_time": "2022-02-22T16:16:11.259Z"
   },
   {
    "duration": 28,
    "start_time": "2022-02-22T16:16:11.320Z"
   },
   {
    "duration": 23,
    "start_time": "2022-02-22T16:24:21.490Z"
   },
   {
    "duration": 6150,
    "start_time": "2022-02-22T16:25:35.213Z"
   },
   {
    "duration": 32,
    "start_time": "2022-02-22T16:25:53.170Z"
   },
   {
    "duration": 33,
    "start_time": "2022-02-22T16:28:45.705Z"
   },
   {
    "duration": 1170,
    "start_time": "2022-03-04T16:33:51.836Z"
   },
   {
    "duration": 62,
    "start_time": "2022-03-04T16:33:53.008Z"
   },
   {
    "duration": 9,
    "start_time": "2022-03-04T16:33:53.074Z"
   },
   {
    "duration": 5,
    "start_time": "2022-03-04T16:33:53.085Z"
   },
   {
    "duration": 14,
    "start_time": "2022-03-04T16:33:53.092Z"
   },
   {
    "duration": 22,
    "start_time": "2022-03-04T16:33:53.108Z"
   },
   {
    "duration": 377,
    "start_time": "2022-03-04T16:33:53.161Z"
   },
   {
    "duration": 26,
    "start_time": "2022-03-04T16:33:53.540Z"
   },
   {
    "duration": 8,
    "start_time": "2022-03-04T16:33:53.567Z"
   },
   {
    "duration": 36,
    "start_time": "2022-03-04T16:33:53.576Z"
   },
   {
    "duration": 10,
    "start_time": "2022-03-04T16:33:53.614Z"
   },
   {
    "duration": 10,
    "start_time": "2022-03-04T16:33:53.658Z"
   },
   {
    "duration": 16,
    "start_time": "2022-03-04T16:33:53.670Z"
   },
   {
    "duration": 31,
    "start_time": "2022-03-04T16:33:53.688Z"
   },
   {
    "duration": 44,
    "start_time": "2022-03-04T16:33:53.721Z"
   },
   {
    "duration": 14,
    "start_time": "2022-03-04T16:33:53.766Z"
   },
   {
    "duration": 6,
    "start_time": "2022-03-04T16:33:53.782Z"
   },
   {
    "duration": 4018,
    "start_time": "2022-03-04T16:33:53.789Z"
   },
   {
    "duration": 34,
    "start_time": "2022-03-04T16:33:57.809Z"
   },
   {
    "duration": 33,
    "start_time": "2022-03-04T16:33:57.845Z"
   },
   {
    "duration": 19,
    "start_time": "2022-03-04T16:33:57.880Z"
   },
   {
    "duration": 18,
    "start_time": "2022-03-04T16:33:57.902Z"
   },
   {
    "duration": 33,
    "start_time": "2022-03-04T16:36:05.430Z"
   },
   {
    "duration": 76,
    "start_time": "2022-03-05T07:15:02.907Z"
   },
   {
    "duration": 84,
    "start_time": "2022-03-05T07:15:12.660Z"
   },
   {
    "duration": 94,
    "start_time": "2022-03-05T07:15:20.271Z"
   },
   {
    "duration": 84,
    "start_time": "2022-03-05T07:15:36.474Z"
   },
   {
    "duration": 331,
    "start_time": "2022-03-05T07:18:10.446Z"
   },
   {
    "duration": 2029,
    "start_time": "2022-03-05T07:18:17.821Z"
   },
   {
    "duration": 116,
    "start_time": "2022-03-05T07:18:19.854Z"
   },
   {
    "duration": 23,
    "start_time": "2022-03-05T07:18:19.974Z"
   },
   {
    "duration": 9,
    "start_time": "2022-03-05T07:18:20.000Z"
   },
   {
    "duration": 18,
    "start_time": "2022-03-05T07:18:20.012Z"
   },
   {
    "duration": 15,
    "start_time": "2022-03-05T07:19:15.761Z"
   },
   {
    "duration": 21,
    "start_time": "2022-03-05T07:24:32.830Z"
   },
   {
    "duration": 20,
    "start_time": "2022-03-05T07:25:04.332Z"
   },
   {
    "duration": 612,
    "start_time": "2022-03-05T07:26:28.055Z"
   },
   {
    "duration": 589,
    "start_time": "2022-03-05T07:27:29.778Z"
   },
   {
    "duration": 580,
    "start_time": "2022-03-05T07:29:08.724Z"
   },
   {
    "duration": 4,
    "start_time": "2022-03-05T07:29:32.173Z"
   },
   {
    "duration": 80,
    "start_time": "2022-03-05T07:29:32.180Z"
   },
   {
    "duration": 12,
    "start_time": "2022-03-05T07:29:32.263Z"
   },
   {
    "duration": 2,
    "start_time": "2022-03-05T07:29:32.283Z"
   },
   {
    "duration": 16,
    "start_time": "2022-03-05T07:29:32.288Z"
   },
   {
    "duration": 19,
    "start_time": "2022-03-05T07:29:32.306Z"
   },
   {
    "duration": 61,
    "start_time": "2022-03-05T07:29:32.327Z"
   },
   {
    "duration": 604,
    "start_time": "2022-03-05T07:29:35.365Z"
   },
   {
    "duration": 3,
    "start_time": "2022-03-05T07:31:54.314Z"
   },
   {
    "duration": 68,
    "start_time": "2022-03-05T07:31:54.320Z"
   },
   {
    "duration": 14,
    "start_time": "2022-03-05T07:31:54.392Z"
   },
   {
    "duration": 3,
    "start_time": "2022-03-05T07:31:54.409Z"
   },
   {
    "duration": 16,
    "start_time": "2022-03-05T07:31:54.415Z"
   },
   {
    "duration": 51,
    "start_time": "2022-03-05T07:31:54.434Z"
   },
   {
    "duration": 31,
    "start_time": "2022-03-05T07:31:54.487Z"
   },
   {
    "duration": 610,
    "start_time": "2022-03-05T07:31:54.521Z"
   },
   {
    "duration": 15,
    "start_time": "2022-03-05T07:31:55.135Z"
   },
   {
    "duration": 32,
    "start_time": "2022-03-05T07:31:55.153Z"
   },
   {
    "duration": 48,
    "start_time": "2022-03-05T07:31:55.188Z"
   },
   {
    "duration": 53,
    "start_time": "2022-03-05T07:31:55.239Z"
   },
   {
    "duration": 12,
    "start_time": "2022-03-05T07:31:55.295Z"
   },
   {
    "duration": 22,
    "start_time": "2022-03-05T07:31:55.310Z"
   },
   {
    "duration": 74,
    "start_time": "2022-03-05T07:31:55.335Z"
   },
   {
    "duration": 19,
    "start_time": "2022-03-05T07:31:55.411Z"
   },
   {
    "duration": 23,
    "start_time": "2022-03-05T07:31:55.433Z"
   },
   {
    "duration": 10,
    "start_time": "2022-03-05T07:31:55.483Z"
   },
   {
    "duration": 6175,
    "start_time": "2022-03-05T07:31:55.496Z"
   },
   {
    "duration": 54,
    "start_time": "2022-03-05T07:32:21.008Z"
   },
   {
    "duration": 55,
    "start_time": "2022-03-05T07:34:08.355Z"
   },
   {
    "duration": 91,
    "start_time": "2022-03-05T07:41:50.492Z"
   },
   {
    "duration": 3,
    "start_time": "2022-03-05T07:41:58.539Z"
   },
   {
    "duration": 67,
    "start_time": "2022-03-05T07:41:58.610Z"
   },
   {
    "duration": 13,
    "start_time": "2022-03-05T07:41:58.679Z"
   },
   {
    "duration": 2,
    "start_time": "2022-03-05T07:41:58.695Z"
   },
   {
    "duration": 15,
    "start_time": "2022-03-05T07:41:58.700Z"
   },
   {
    "duration": 19,
    "start_time": "2022-03-05T07:41:58.717Z"
   },
   {
    "duration": 77,
    "start_time": "2022-03-05T07:41:58.739Z"
   },
   {
    "duration": 613,
    "start_time": "2022-03-05T07:41:58.818Z"
   },
   {
    "duration": 16,
    "start_time": "2022-03-05T07:41:59.434Z"
   },
   {
    "duration": 31,
    "start_time": "2022-03-05T07:41:59.453Z"
   },
   {
    "duration": 94,
    "start_time": "2022-03-05T07:41:59.488Z"
   },
   {
    "duration": 21,
    "start_time": "2022-03-05T07:41:59.586Z"
   },
   {
    "duration": 17,
    "start_time": "2022-03-05T07:41:59.610Z"
   },
   {
    "duration": 56,
    "start_time": "2022-03-05T07:41:59.628Z"
   },
   {
    "duration": 42,
    "start_time": "2022-03-05T07:41:59.686Z"
   },
   {
    "duration": 21,
    "start_time": "2022-03-05T07:41:59.730Z"
   },
   {
    "duration": 47,
    "start_time": "2022-03-05T07:41:59.753Z"
   },
   {
    "duration": 9,
    "start_time": "2022-03-05T07:41:59.803Z"
   },
   {
    "duration": 5756,
    "start_time": "2022-03-05T07:41:59.814Z"
   },
   {
    "duration": -1223,
    "start_time": "2022-03-05T07:42:06.882Z"
   },
   {
    "duration": 61,
    "start_time": "2022-03-05T07:42:10.919Z"
   },
   {
    "duration": 1123,
    "start_time": "2022-03-05T19:33:08.117Z"
   },
   {
    "duration": 62,
    "start_time": "2022-03-05T19:33:09.242Z"
   },
   {
    "duration": 10,
    "start_time": "2022-03-05T19:33:09.306Z"
   },
   {
    "duration": 4,
    "start_time": "2022-03-05T19:33:09.317Z"
   },
   {
    "duration": 11,
    "start_time": "2022-03-05T19:33:09.323Z"
   },
   {
    "duration": 36,
    "start_time": "2022-03-05T19:33:09.336Z"
   },
   {
    "duration": 22,
    "start_time": "2022-03-05T19:33:09.374Z"
   },
   {
    "duration": 409,
    "start_time": "2022-03-05T19:33:09.398Z"
   },
   {
    "duration": 12,
    "start_time": "2022-03-05T19:33:09.809Z"
   },
   {
    "duration": 6,
    "start_time": "2022-03-05T19:33:09.823Z"
   },
   {
    "duration": 61,
    "start_time": "2022-03-05T19:33:09.831Z"
   },
   {
    "duration": 10,
    "start_time": "2022-03-05T19:33:09.894Z"
   },
   {
    "duration": 11,
    "start_time": "2022-03-05T19:33:09.906Z"
   },
   {
    "duration": 50,
    "start_time": "2022-03-05T19:33:09.919Z"
   },
   {
    "duration": 32,
    "start_time": "2022-03-05T19:33:09.971Z"
   },
   {
    "duration": 14,
    "start_time": "2022-03-05T19:33:10.005Z"
   },
   {
    "duration": 45,
    "start_time": "2022-03-05T19:33:10.021Z"
   },
   {
    "duration": 7,
    "start_time": "2022-03-05T19:33:10.068Z"
   },
   {
    "duration": 4470,
    "start_time": "2022-03-05T19:33:10.077Z"
   },
   {
    "duration": 54,
    "start_time": "2022-03-05T19:33:14.549Z"
   },
   {
    "duration": 22,
    "start_time": "2022-03-05T19:33:45.238Z"
   },
   {
    "duration": 22,
    "start_time": "2022-03-05T19:34:17.765Z"
   },
   {
    "duration": 58,
    "start_time": "2022-03-05T19:42:52.819Z"
   },
   {
    "duration": 74,
    "start_time": "2022-03-05T19:42:56.779Z"
   },
   {
    "duration": 2,
    "start_time": "2022-03-05T19:43:14.896Z"
   },
   {
    "duration": 57,
    "start_time": "2022-03-05T19:43:14.900Z"
   },
   {
    "duration": 10,
    "start_time": "2022-03-05T19:43:14.959Z"
   },
   {
    "duration": 2,
    "start_time": "2022-03-05T19:43:14.971Z"
   },
   {
    "duration": 13,
    "start_time": "2022-03-05T19:43:14.975Z"
   },
   {
    "duration": 15,
    "start_time": "2022-03-05T19:43:14.990Z"
   },
   {
    "duration": 67,
    "start_time": "2022-03-05T19:43:15.006Z"
   },
   {
    "duration": 417,
    "start_time": "2022-03-05T19:43:15.075Z"
   },
   {
    "duration": 13,
    "start_time": "2022-03-05T19:43:15.494Z"
   },
   {
    "duration": 7,
    "start_time": "2022-03-05T19:43:15.508Z"
   },
   {
    "duration": 68,
    "start_time": "2022-03-05T19:43:15.516Z"
   },
   {
    "duration": 10,
    "start_time": "2022-03-05T19:43:15.586Z"
   },
   {
    "duration": 9,
    "start_time": "2022-03-05T19:43:15.598Z"
   },
   {
    "duration": 62,
    "start_time": "2022-03-05T19:43:15.608Z"
   },
   {
    "duration": 32,
    "start_time": "2022-03-05T19:43:15.671Z"
   },
   {
    "duration": 16,
    "start_time": "2022-03-05T19:43:15.705Z"
   },
   {
    "duration": 17,
    "start_time": "2022-03-05T19:43:15.759Z"
   },
   {
    "duration": 11,
    "start_time": "2022-03-05T19:43:15.778Z"
   },
   {
    "duration": 4470,
    "start_time": "2022-03-05T19:43:15.791Z"
   },
   {
    "duration": 43,
    "start_time": "2022-03-05T19:43:20.263Z"
   },
   {
    "duration": 21,
    "start_time": "2022-03-05T19:43:20.308Z"
   },
   {
    "duration": 68,
    "start_time": "2022-03-05T19:43:20.331Z"
   },
   {
    "duration": 55,
    "start_time": "2022-03-05T19:43:26.688Z"
   },
   {
    "duration": 3,
    "start_time": "2022-03-05T19:43:30.194Z"
   },
   {
    "duration": 62,
    "start_time": "2022-03-05T19:43:30.199Z"
   },
   {
    "duration": 10,
    "start_time": "2022-03-05T19:43:30.263Z"
   },
   {
    "duration": 5,
    "start_time": "2022-03-05T19:43:30.275Z"
   },
   {
    "duration": 12,
    "start_time": "2022-03-05T19:43:30.282Z"
   },
   {
    "duration": 15,
    "start_time": "2022-03-05T19:43:30.295Z"
   },
   {
    "duration": 58,
    "start_time": "2022-03-05T19:43:30.312Z"
   },
   {
    "duration": 406,
    "start_time": "2022-03-05T19:43:30.372Z"
   },
   {
    "duration": 12,
    "start_time": "2022-03-05T19:43:30.780Z"
   },
   {
    "duration": 11,
    "start_time": "2022-03-05T19:43:30.794Z"
   },
   {
    "duration": 65,
    "start_time": "2022-03-05T19:43:30.807Z"
   },
   {
    "duration": 11,
    "start_time": "2022-03-05T19:43:30.874Z"
   },
   {
    "duration": 16,
    "start_time": "2022-03-05T19:43:30.887Z"
   },
   {
    "duration": 16,
    "start_time": "2022-03-05T19:43:30.905Z"
   },
   {
    "duration": 32,
    "start_time": "2022-03-05T19:43:30.960Z"
   },
   {
    "duration": 15,
    "start_time": "2022-03-05T19:43:30.994Z"
   },
   {
    "duration": 18,
    "start_time": "2022-03-05T19:43:31.011Z"
   },
   {
    "duration": 33,
    "start_time": "2022-03-05T19:43:31.030Z"
   },
   {
    "duration": 4569,
    "start_time": "2022-03-05T19:43:31.066Z"
   },
   {
    "duration": 54,
    "start_time": "2022-03-05T19:43:35.637Z"
   },
   {
    "duration": 22,
    "start_time": "2022-03-05T19:43:35.693Z"
   },
   {
    "duration": 70,
    "start_time": "2022-03-05T19:43:35.717Z"
   },
   {
    "duration": -1336,
    "start_time": "2022-03-05T19:43:37.124Z"
   },
   {
    "duration": 73,
    "start_time": "2022-03-05T19:43:45.498Z"
   },
   {
    "duration": 3,
    "start_time": "2022-03-05T19:44:02.944Z"
   },
   {
    "duration": 60,
    "start_time": "2022-03-05T19:44:02.949Z"
   },
   {
    "duration": 11,
    "start_time": "2022-03-05T19:44:03.011Z"
   },
   {
    "duration": 9,
    "start_time": "2022-03-05T19:44:03.024Z"
   },
   {
    "duration": 13,
    "start_time": "2022-03-05T19:44:03.060Z"
   },
   {
    "duration": 22,
    "start_time": "2022-03-05T19:44:03.075Z"
   },
   {
    "duration": 23,
    "start_time": "2022-03-05T19:44:03.100Z"
   },
   {
    "duration": 400,
    "start_time": "2022-03-05T19:44:03.159Z"
   },
   {
    "duration": 12,
    "start_time": "2022-03-05T19:44:03.561Z"
   },
   {
    "duration": 7,
    "start_time": "2022-03-05T19:44:03.574Z"
   },
   {
    "duration": 34,
    "start_time": "2022-03-05T19:44:03.582Z"
   },
   {
    "duration": 49,
    "start_time": "2022-03-05T19:44:03.618Z"
   },
   {
    "duration": 11,
    "start_time": "2022-03-05T19:44:03.669Z"
   },
   {
    "duration": 26,
    "start_time": "2022-03-05T19:44:03.682Z"
   },
   {
    "duration": 81,
    "start_time": "2022-03-05T19:44:03.710Z"
   },
   {
    "duration": 16,
    "start_time": "2022-03-05T19:44:03.792Z"
   },
   {
    "duration": 14,
    "start_time": "2022-03-05T19:44:03.810Z"
   },
   {
    "duration": 33,
    "start_time": "2022-03-05T19:44:03.826Z"
   },
   {
    "duration": 4605,
    "start_time": "2022-03-05T19:44:03.861Z"
   },
   {
    "duration": 40,
    "start_time": "2022-03-05T19:44:08.468Z"
   },
   {
    "duration": 20,
    "start_time": "2022-03-05T19:44:08.510Z"
   },
   {
    "duration": 67,
    "start_time": "2022-03-05T19:44:08.532Z"
   },
   {
    "duration": -1388,
    "start_time": "2022-03-05T19:44:09.989Z"
   },
   {
    "duration": 67,
    "start_time": "2022-03-05T19:45:57.864Z"
   },
   {
    "duration": 62,
    "start_time": "2022-03-05T19:46:06.162Z"
   },
   {
    "duration": 24,
    "start_time": "2022-03-05T19:46:12.079Z"
   },
   {
    "duration": 3,
    "start_time": "2022-03-05T19:46:20.305Z"
   },
   {
    "duration": 1418,
    "start_time": "2022-03-05T19:46:20.313Z"
   },
   {
    "duration": 10,
    "start_time": "2022-03-05T19:46:21.733Z"
   },
   {
    "duration": 2,
    "start_time": "2022-03-05T19:46:21.746Z"
   },
   {
    "duration": 15,
    "start_time": "2022-03-05T19:46:21.758Z"
   },
   {
    "duration": 19,
    "start_time": "2022-03-05T19:46:21.776Z"
   },
   {
    "duration": 21,
    "start_time": "2022-03-05T19:46:21.798Z"
   },
   {
    "duration": 438,
    "start_time": "2022-03-05T19:46:21.821Z"
   },
   {
    "duration": 15,
    "start_time": "2022-03-05T19:46:22.262Z"
   },
   {
    "duration": 9,
    "start_time": "2022-03-05T19:46:22.279Z"
   },
   {
    "duration": 80,
    "start_time": "2022-03-05T19:46:22.291Z"
   },
   {
    "duration": 13,
    "start_time": "2022-03-05T19:46:22.373Z"
   },
   {
    "duration": 13,
    "start_time": "2022-03-05T19:46:22.388Z"
   },
   {
    "duration": 60,
    "start_time": "2022-03-05T19:46:22.402Z"
   },
   {
    "duration": 34,
    "start_time": "2022-03-05T19:46:22.465Z"
   },
   {
    "duration": 19,
    "start_time": "2022-03-05T19:46:22.502Z"
   },
   {
    "duration": 47,
    "start_time": "2022-03-05T19:46:22.523Z"
   },
   {
    "duration": 8,
    "start_time": "2022-03-05T19:46:22.572Z"
   },
   {
    "duration": 4283,
    "start_time": "2022-03-05T19:46:22.582Z"
   },
   {
    "duration": 45,
    "start_time": "2022-03-05T19:46:26.867Z"
   },
   {
    "duration": 54,
    "start_time": "2022-03-05T19:46:26.915Z"
   },
   {
    "duration": 23,
    "start_time": "2022-03-05T19:46:26.971Z"
   },
   {
    "duration": 22,
    "start_time": "2022-03-05T19:46:26.996Z"
   },
   {
    "duration": 328,
    "start_time": "2022-03-05T19:50:00.834Z"
   },
   {
    "duration": 38,
    "start_time": "2022-03-05T19:50:26.519Z"
   },
   {
    "duration": 68,
    "start_time": "2022-03-05T19:55:12.095Z"
   },
   {
    "duration": 74,
    "start_time": "2022-03-05T19:56:40.282Z"
   },
   {
    "duration": 3,
    "start_time": "2022-03-05T19:57:03.595Z"
   },
   {
    "duration": 63,
    "start_time": "2022-03-05T19:57:03.604Z"
   },
   {
    "duration": 10,
    "start_time": "2022-03-05T19:57:03.669Z"
   },
   {
    "duration": 3,
    "start_time": "2022-03-05T19:57:03.682Z"
   },
   {
    "duration": 17,
    "start_time": "2022-03-05T19:57:03.687Z"
   },
   {
    "duration": 15,
    "start_time": "2022-03-05T19:57:03.706Z"
   },
   {
    "duration": 56,
    "start_time": "2022-03-05T19:57:03.723Z"
   },
   {
    "duration": 391,
    "start_time": "2022-03-05T19:57:03.781Z"
   },
   {
    "duration": 13,
    "start_time": "2022-03-05T19:57:04.174Z"
   },
   {
    "duration": 8,
    "start_time": "2022-03-05T19:57:04.189Z"
   },
   {
    "duration": 70,
    "start_time": "2022-03-05T19:57:04.199Z"
   },
   {
    "duration": 11,
    "start_time": "2022-03-05T19:57:04.271Z"
   },
   {
    "duration": 11,
    "start_time": "2022-03-05T19:57:04.284Z"
   },
   {
    "duration": 15,
    "start_time": "2022-03-05T19:57:04.297Z"
   },
   {
    "duration": 69,
    "start_time": "2022-03-05T19:57:04.314Z"
   },
   {
    "duration": 15,
    "start_time": "2022-03-05T19:57:04.384Z"
   },
   {
    "duration": 18,
    "start_time": "2022-03-05T19:57:04.401Z"
   },
   {
    "duration": 7,
    "start_time": "2022-03-05T19:57:04.421Z"
   },
   {
    "duration": 4441,
    "start_time": "2022-03-05T19:57:04.460Z"
   },
   {
    "duration": 64,
    "start_time": "2022-03-05T19:57:08.903Z"
   },
   {
    "duration": -1335,
    "start_time": "2022-03-05T19:57:10.304Z"
   },
   {
    "duration": -1337,
    "start_time": "2022-03-05T19:57:10.307Z"
   },
   {
    "duration": -1342,
    "start_time": "2022-03-05T19:57:10.313Z"
   },
   {
    "duration": 426,
    "start_time": "2022-03-05T19:58:11.690Z"
   },
   {
    "duration": 757,
    "start_time": "2022-03-05T19:59:22.687Z"
   },
   {
    "duration": 891,
    "start_time": "2022-03-05T19:59:42.507Z"
   },
   {
    "duration": 749,
    "start_time": "2022-03-05T20:00:27.051Z"
   },
   {
    "duration": 811,
    "start_time": "2022-03-05T20:01:06.978Z"
   },
   {
    "duration": 739,
    "start_time": "2022-03-05T20:05:06.672Z"
   },
   {
    "duration": 945,
    "start_time": "2022-03-05T20:06:14.777Z"
   },
   {
    "duration": 2471,
    "start_time": "2022-03-05T20:09:00.158Z"
   },
   {
    "duration": 2394,
    "start_time": "2022-03-05T20:09:03.165Z"
   },
   {
    "duration": 197,
    "start_time": "2022-03-05T20:09:18.922Z"
   },
   {
    "duration": 7,
    "start_time": "2022-03-05T20:09:26.079Z"
   },
   {
    "duration": 57,
    "start_time": "2022-03-05T20:09:26.088Z"
   },
   {
    "duration": 16,
    "start_time": "2022-03-05T20:09:26.147Z"
   },
   {
    "duration": 2,
    "start_time": "2022-03-05T20:09:26.165Z"
   },
   {
    "duration": 11,
    "start_time": "2022-03-05T20:09:26.168Z"
   },
   {
    "duration": 15,
    "start_time": "2022-03-05T20:09:26.181Z"
   },
   {
    "duration": 63,
    "start_time": "2022-03-05T20:09:26.197Z"
   },
   {
    "duration": 404,
    "start_time": "2022-03-05T20:09:26.263Z"
   },
   {
    "duration": 14,
    "start_time": "2022-03-05T20:09:26.669Z"
   },
   {
    "duration": 8,
    "start_time": "2022-03-05T20:09:26.685Z"
   },
   {
    "duration": 73,
    "start_time": "2022-03-05T20:09:26.695Z"
   },
   {
    "duration": 12,
    "start_time": "2022-03-05T20:09:26.770Z"
   },
   {
    "duration": 11,
    "start_time": "2022-03-05T20:09:26.784Z"
   },
   {
    "duration": 17,
    "start_time": "2022-03-05T20:09:26.796Z"
   },
   {
    "duration": 73,
    "start_time": "2022-03-05T20:09:26.815Z"
   },
   {
    "duration": 15,
    "start_time": "2022-03-05T20:09:26.890Z"
   },
   {
    "duration": 15,
    "start_time": "2022-03-05T20:09:26.907Z"
   },
   {
    "duration": 38,
    "start_time": "2022-03-05T20:09:26.923Z"
   },
   {
    "duration": 4230,
    "start_time": "2022-03-05T20:09:26.962Z"
   },
   {
    "duration": 15,
    "start_time": "2022-03-05T20:09:31.194Z"
   },
   {
    "duration": 2510,
    "start_time": "2022-03-05T20:09:31.211Z"
   },
   {
    "duration": -1405,
    "start_time": "2022-03-05T20:09:35.128Z"
   },
   {
    "duration": -1408,
    "start_time": "2022-03-05T20:09:35.132Z"
   },
   {
    "duration": -1409,
    "start_time": "2022-03-05T20:09:35.135Z"
   },
   {
    "duration": 5,
    "start_time": "2022-03-05T20:09:49.067Z"
   },
   {
    "duration": 3501,
    "start_time": "2022-03-05T20:10:17.450Z"
   },
   {
    "duration": 243,
    "start_time": "2022-03-05T20:10:32.236Z"
   },
   {
    "duration": 245,
    "start_time": "2022-03-05T20:11:02.039Z"
   },
   {
    "duration": 3,
    "start_time": "2022-03-05T20:11:17.044Z"
   },
   {
    "duration": 56,
    "start_time": "2022-03-05T20:11:17.049Z"
   },
   {
    "duration": 10,
    "start_time": "2022-03-05T20:11:17.106Z"
   },
   {
    "duration": 2,
    "start_time": "2022-03-05T20:11:17.118Z"
   },
   {
    "duration": 44,
    "start_time": "2022-03-05T20:11:17.122Z"
   },
   {
    "duration": 14,
    "start_time": "2022-03-05T20:11:17.168Z"
   },
   {
    "duration": 24,
    "start_time": "2022-03-05T20:11:17.185Z"
   },
   {
    "duration": 413,
    "start_time": "2022-03-05T20:11:17.211Z"
   },
   {
    "duration": 12,
    "start_time": "2022-03-05T20:11:17.626Z"
   },
   {
    "duration": 25,
    "start_time": "2022-03-05T20:11:17.639Z"
   },
   {
    "duration": 36,
    "start_time": "2022-03-05T20:11:17.666Z"
   },
   {
    "duration": 11,
    "start_time": "2022-03-05T20:11:17.704Z"
   },
   {
    "duration": 50,
    "start_time": "2022-03-05T20:11:17.717Z"
   },
   {
    "duration": 17,
    "start_time": "2022-03-05T20:11:17.769Z"
   },
   {
    "duration": 32,
    "start_time": "2022-03-05T20:11:17.788Z"
   },
   {
    "duration": 45,
    "start_time": "2022-03-05T20:11:17.822Z"
   },
   {
    "duration": 18,
    "start_time": "2022-03-05T20:11:17.870Z"
   },
   {
    "duration": 10,
    "start_time": "2022-03-05T20:11:17.890Z"
   },
   {
    "duration": 4083,
    "start_time": "2022-03-05T20:11:17.904Z"
   },
   {
    "duration": 260,
    "start_time": "2022-03-05T20:11:21.989Z"
   },
   {
    "duration": 23,
    "start_time": "2022-03-05T20:11:22.259Z"
   },
   {
    "duration": 37,
    "start_time": "2022-03-05T20:11:22.284Z"
   },
   {
    "duration": 50,
    "start_time": "2022-03-05T20:11:22.323Z"
   },
   {
    "duration": 42,
    "start_time": "2022-03-05T20:13:06.414Z"
   },
   {
    "duration": 2,
    "start_time": "2022-03-05T20:13:19.199Z"
   },
   {
    "duration": 53,
    "start_time": "2022-03-05T20:13:19.212Z"
   },
   {
    "duration": 9,
    "start_time": "2022-03-05T20:13:19.267Z"
   },
   {
    "duration": 2,
    "start_time": "2022-03-05T20:13:19.278Z"
   },
   {
    "duration": 11,
    "start_time": "2022-03-05T20:13:19.281Z"
   },
   {
    "duration": 14,
    "start_time": "2022-03-05T20:13:19.293Z"
   },
   {
    "duration": 56,
    "start_time": "2022-03-05T20:13:19.309Z"
   },
   {
    "duration": 393,
    "start_time": "2022-03-05T20:13:19.367Z"
   },
   {
    "duration": 13,
    "start_time": "2022-03-05T20:13:19.762Z"
   },
   {
    "duration": 7,
    "start_time": "2022-03-05T20:13:19.777Z"
   },
   {
    "duration": 74,
    "start_time": "2022-03-05T20:13:19.786Z"
   },
   {
    "duration": 10,
    "start_time": "2022-03-05T20:13:19.862Z"
   },
   {
    "duration": 11,
    "start_time": "2022-03-05T20:13:19.874Z"
   },
   {
    "duration": 16,
    "start_time": "2022-03-05T20:13:19.887Z"
   },
   {
    "duration": 65,
    "start_time": "2022-03-05T20:13:19.905Z"
   },
   {
    "duration": 14,
    "start_time": "2022-03-05T20:13:19.972Z"
   },
   {
    "duration": 16,
    "start_time": "2022-03-05T20:13:19.988Z"
   },
   {
    "duration": 7,
    "start_time": "2022-03-05T20:13:20.006Z"
   },
   {
    "duration": 4079,
    "start_time": "2022-03-05T20:13:20.015Z"
   },
   {
    "duration": 42,
    "start_time": "2022-03-05T20:13:24.096Z"
   },
   {
    "duration": 22,
    "start_time": "2022-03-05T20:13:24.160Z"
   },
   {
    "duration": 37,
    "start_time": "2022-03-05T20:13:24.184Z"
   },
   {
    "duration": 49,
    "start_time": "2022-03-05T20:13:24.222Z"
   },
   {
    "duration": 27,
    "start_time": "2022-03-05T20:15:31.806Z"
   },
   {
    "duration": 26,
    "start_time": "2022-03-05T20:15:51.078Z"
   },
   {
    "duration": 3,
    "start_time": "2022-03-05T20:16:04.487Z"
   },
   {
    "duration": 57,
    "start_time": "2022-03-05T20:16:04.500Z"
   },
   {
    "duration": 9,
    "start_time": "2022-03-05T20:16:04.559Z"
   },
   {
    "duration": 3,
    "start_time": "2022-03-05T20:16:04.570Z"
   },
   {
    "duration": 16,
    "start_time": "2022-03-05T20:16:04.574Z"
   },
   {
    "duration": 14,
    "start_time": "2022-03-05T20:16:04.592Z"
   },
   {
    "duration": 53,
    "start_time": "2022-03-05T20:16:04.607Z"
   },
   {
    "duration": 394,
    "start_time": "2022-03-05T20:16:04.662Z"
   },
   {
    "duration": 12,
    "start_time": "2022-03-05T20:16:05.058Z"
   },
   {
    "duration": 7,
    "start_time": "2022-03-05T20:16:05.073Z"
   },
   {
    "duration": 33,
    "start_time": "2022-03-05T20:16:05.082Z"
   },
   {
    "duration": 50,
    "start_time": "2022-03-05T20:16:05.117Z"
   },
   {
    "duration": 10,
    "start_time": "2022-03-05T20:16:05.169Z"
   },
   {
    "duration": 16,
    "start_time": "2022-03-05T20:16:05.181Z"
   },
   {
    "duration": 70,
    "start_time": "2022-03-05T20:16:05.199Z"
   },
   {
    "duration": 16,
    "start_time": "2022-03-05T20:16:05.270Z"
   },
   {
    "duration": 17,
    "start_time": "2022-03-05T20:16:05.287Z"
   },
   {
    "duration": 7,
    "start_time": "2022-03-05T20:16:05.306Z"
   },
   {
    "duration": 4061,
    "start_time": "2022-03-05T20:16:05.315Z"
   },
   {
    "duration": 26,
    "start_time": "2022-03-05T20:16:09.377Z"
   },
   {
    "duration": 21,
    "start_time": "2022-03-05T20:16:09.404Z"
   },
   {
    "duration": 64,
    "start_time": "2022-03-05T20:16:09.427Z"
   },
   {
    "duration": 20,
    "start_time": "2022-03-05T20:16:09.493Z"
   },
   {
    "duration": 60,
    "start_time": "2022-03-05T20:17:18.040Z"
   },
   {
    "duration": 65,
    "start_time": "2022-03-05T20:17:34.797Z"
   },
   {
    "duration": 252,
    "start_time": "2022-03-05T20:18:14.136Z"
   },
   {
    "duration": 2606,
    "start_time": "2022-03-05T20:18:37.140Z"
   },
   {
    "duration": 769,
    "start_time": "2022-03-05T20:18:48.004Z"
   },
   {
    "duration": 739,
    "start_time": "2022-03-05T20:18:57.051Z"
   },
   {
    "duration": 930,
    "start_time": "2022-03-05T20:19:02.918Z"
   },
   {
    "duration": 3,
    "start_time": "2022-03-05T20:19:06.153Z"
   },
   {
    "duration": 55,
    "start_time": "2022-03-05T20:19:06.158Z"
   },
   {
    "duration": 9,
    "start_time": "2022-03-05T20:19:06.216Z"
   },
   {
    "duration": 2,
    "start_time": "2022-03-05T20:19:06.227Z"
   },
   {
    "duration": 11,
    "start_time": "2022-03-05T20:19:06.259Z"
   },
   {
    "duration": 14,
    "start_time": "2022-03-05T20:19:06.272Z"
   },
   {
    "duration": 19,
    "start_time": "2022-03-05T20:19:06.288Z"
   },
   {
    "duration": 412,
    "start_time": "2022-03-05T20:19:06.310Z"
   },
   {
    "duration": 12,
    "start_time": "2022-03-05T20:19:06.723Z"
   },
   {
    "duration": 27,
    "start_time": "2022-03-05T20:19:06.737Z"
   },
   {
    "duration": 34,
    "start_time": "2022-03-05T20:19:06.765Z"
   },
   {
    "duration": 12,
    "start_time": "2022-03-05T20:19:06.801Z"
   },
   {
    "duration": 45,
    "start_time": "2022-03-05T20:19:06.814Z"
   },
   {
    "duration": 18,
    "start_time": "2022-03-05T20:19:06.861Z"
   },
   {
    "duration": 31,
    "start_time": "2022-03-05T20:19:06.880Z"
   },
   {
    "duration": 46,
    "start_time": "2022-03-05T20:19:06.913Z"
   },
   {
    "duration": 14,
    "start_time": "2022-03-05T20:19:06.961Z"
   },
   {
    "duration": 10,
    "start_time": "2022-03-05T20:19:06.977Z"
   },
   {
    "duration": 4086,
    "start_time": "2022-03-05T20:19:06.990Z"
   },
   {
    "duration": 258,
    "start_time": "2022-03-05T20:19:11.079Z"
   },
   {
    "duration": 39,
    "start_time": "2022-03-05T20:19:11.339Z"
   },
   {
    "duration": 39,
    "start_time": "2022-03-05T20:19:11.380Z"
   },
   {
    "duration": 57,
    "start_time": "2022-03-05T20:19:11.422Z"
   },
   {
    "duration": 27,
    "start_time": "2022-03-05T20:22:28.677Z"
   },
   {
    "duration": 28,
    "start_time": "2022-03-05T20:22:44.379Z"
   },
   {
    "duration": 27,
    "start_time": "2022-03-05T20:23:02.076Z"
   },
   {
    "duration": 3,
    "start_time": "2022-03-05T20:23:04.957Z"
   },
   {
    "duration": 56,
    "start_time": "2022-03-05T20:23:04.962Z"
   },
   {
    "duration": 10,
    "start_time": "2022-03-05T20:23:05.020Z"
   },
   {
    "duration": 2,
    "start_time": "2022-03-05T20:23:05.060Z"
   },
   {
    "duration": 14,
    "start_time": "2022-03-05T20:23:05.064Z"
   },
   {
    "duration": 14,
    "start_time": "2022-03-05T20:23:05.080Z"
   },
   {
    "duration": 23,
    "start_time": "2022-03-05T20:23:05.096Z"
   },
   {
    "duration": 427,
    "start_time": "2022-03-05T20:23:05.121Z"
   },
   {
    "duration": 18,
    "start_time": "2022-03-05T20:23:05.550Z"
   },
   {
    "duration": 7,
    "start_time": "2022-03-05T20:23:05.570Z"
   },
   {
    "duration": 33,
    "start_time": "2022-03-05T20:23:05.578Z"
   },
   {
    "duration": 48,
    "start_time": "2022-03-05T20:23:05.612Z"
   },
   {
    "duration": 9,
    "start_time": "2022-03-05T20:23:05.662Z"
   },
   {
    "duration": 18,
    "start_time": "2022-03-05T20:23:05.672Z"
   },
   {
    "duration": 32,
    "start_time": "2022-03-05T20:23:05.691Z"
   },
   {
    "duration": 45,
    "start_time": "2022-03-05T20:23:05.725Z"
   },
   {
    "duration": 15,
    "start_time": "2022-03-05T20:23:05.771Z"
   },
   {
    "duration": 8,
    "start_time": "2022-03-05T20:23:05.787Z"
   },
   {
    "duration": 4093,
    "start_time": "2022-03-05T20:23:05.797Z"
   },
   {
    "duration": 32,
    "start_time": "2022-03-05T20:23:09.893Z"
   },
   {
    "duration": 51,
    "start_time": "2022-03-05T20:23:09.928Z"
   },
   {
    "duration": 39,
    "start_time": "2022-03-05T20:23:09.980Z"
   },
   {
    "duration": 54,
    "start_time": "2022-03-05T20:23:10.021Z"
   },
   {
    "duration": 49,
    "start_time": "2022-03-05T20:26:06.336Z"
   },
   {
    "duration": 3,
    "start_time": "2022-03-05T20:27:13.598Z"
   },
   {
    "duration": 62,
    "start_time": "2022-03-05T20:27:13.606Z"
   },
   {
    "duration": 13,
    "start_time": "2022-03-05T20:27:13.671Z"
   },
   {
    "duration": 2,
    "start_time": "2022-03-05T20:27:13.687Z"
   },
   {
    "duration": 13,
    "start_time": "2022-03-05T20:27:13.692Z"
   },
   {
    "duration": 60,
    "start_time": "2022-03-05T20:27:13.707Z"
   },
   {
    "duration": 25,
    "start_time": "2022-03-05T20:27:13.768Z"
   },
   {
    "duration": 412,
    "start_time": "2022-03-05T20:27:13.795Z"
   },
   {
    "duration": 13,
    "start_time": "2022-03-05T20:27:14.208Z"
   },
   {
    "duration": 7,
    "start_time": "2022-03-05T20:27:14.224Z"
   },
   {
    "duration": 59,
    "start_time": "2022-03-05T20:27:14.234Z"
   },
   {
    "duration": 12,
    "start_time": "2022-03-05T20:27:14.295Z"
   },
   {
    "duration": 51,
    "start_time": "2022-03-05T20:27:14.308Z"
   },
   {
    "duration": 19,
    "start_time": "2022-03-05T20:27:14.361Z"
   },
   {
    "duration": 32,
    "start_time": "2022-03-05T20:27:14.381Z"
   },
   {
    "duration": 44,
    "start_time": "2022-03-05T20:27:14.415Z"
   },
   {
    "duration": 15,
    "start_time": "2022-03-05T20:27:14.461Z"
   },
   {
    "duration": 9,
    "start_time": "2022-03-05T20:27:14.478Z"
   },
   {
    "duration": 4040,
    "start_time": "2022-03-05T20:27:14.489Z"
   },
   {
    "duration": 44,
    "start_time": "2022-03-05T20:27:18.531Z"
   },
   {
    "duration": 21,
    "start_time": "2022-03-05T20:27:18.577Z"
   },
   {
    "duration": 79,
    "start_time": "2022-03-05T20:27:18.599Z"
   },
   {
    "duration": 20,
    "start_time": "2022-03-05T20:27:18.680Z"
   },
   {
    "duration": 28,
    "start_time": "2022-03-05T20:28:11.104Z"
   },
   {
    "duration": 63,
    "start_time": "2022-03-05T20:28:40.084Z"
   },
   {
    "duration": 216,
    "start_time": "2022-03-05T20:28:46.476Z"
   },
   {
    "duration": 237,
    "start_time": "2022-03-05T20:29:04.420Z"
   },
   {
    "duration": 209,
    "start_time": "2022-03-05T20:29:28.072Z"
   },
   {
    "duration": 239,
    "start_time": "2022-03-05T20:29:47.087Z"
   },
   {
    "duration": 29,
    "start_time": "2022-03-05T20:29:56.792Z"
   },
   {
    "duration": 846,
    "start_time": "2022-03-05T20:31:16.635Z"
   },
   {
    "duration": 27,
    "start_time": "2022-03-05T20:31:29.826Z"
   },
   {
    "duration": 29,
    "start_time": "2022-03-05T20:31:46.446Z"
   },
   {
    "duration": 27,
    "start_time": "2022-03-05T20:31:53.245Z"
   },
   {
    "duration": 28,
    "start_time": "2022-03-05T20:32:01.321Z"
   },
   {
    "duration": 28,
    "start_time": "2022-03-05T20:32:18.825Z"
   },
   {
    "duration": 72,
    "start_time": "2022-03-05T20:32:40.458Z"
   },
   {
    "duration": 228,
    "start_time": "2022-03-05T20:33:03.273Z"
   },
   {
    "duration": 27,
    "start_time": "2022-03-05T20:33:13.551Z"
   },
   {
    "duration": 3,
    "start_time": "2022-03-05T20:33:37.067Z"
   },
   {
    "duration": 64,
    "start_time": "2022-03-05T20:33:37.072Z"
   },
   {
    "duration": 23,
    "start_time": "2022-03-05T20:33:37.138Z"
   },
   {
    "duration": 2,
    "start_time": "2022-03-05T20:33:37.163Z"
   },
   {
    "duration": 12,
    "start_time": "2022-03-05T20:33:37.166Z"
   },
   {
    "duration": 15,
    "start_time": "2022-03-05T20:33:37.180Z"
   },
   {
    "duration": 21,
    "start_time": "2022-03-05T20:33:37.197Z"
   },
   {
    "duration": 444,
    "start_time": "2022-03-05T20:33:37.219Z"
   },
   {
    "duration": 13,
    "start_time": "2022-03-05T20:33:37.665Z"
   },
   {
    "duration": 7,
    "start_time": "2022-03-05T20:33:37.680Z"
   },
   {
    "duration": 76,
    "start_time": "2022-03-05T20:33:37.688Z"
   },
   {
    "duration": 11,
    "start_time": "2022-03-05T20:33:37.765Z"
   },
   {
    "duration": 13,
    "start_time": "2022-03-05T20:33:37.777Z"
   },
   {
    "duration": 18,
    "start_time": "2022-03-05T20:33:37.791Z"
   },
   {
    "duration": 60,
    "start_time": "2022-03-05T20:33:37.810Z"
   },
   {
    "duration": 15,
    "start_time": "2022-03-05T20:33:37.872Z"
   },
   {
    "duration": 15,
    "start_time": "2022-03-05T20:33:37.889Z"
   },
   {
    "duration": 12,
    "start_time": "2022-03-05T20:33:37.905Z"
   },
   {
    "duration": 4141,
    "start_time": "2022-03-05T20:33:37.919Z"
   },
   {
    "duration": 30,
    "start_time": "2022-03-05T20:33:42.062Z"
   },
   {
    "duration": 25,
    "start_time": "2022-03-05T20:33:42.093Z"
   },
   {
    "duration": 60,
    "start_time": "2022-03-05T20:33:42.120Z"
   },
   {
    "duration": 19,
    "start_time": "2022-03-05T20:33:42.181Z"
   },
   {
    "duration": 3,
    "start_time": "2022-03-05T20:39:18.940Z"
   },
   {
    "duration": 65,
    "start_time": "2022-03-05T20:39:18.945Z"
   },
   {
    "duration": 10,
    "start_time": "2022-03-05T20:39:19.011Z"
   },
   {
    "duration": 2,
    "start_time": "2022-03-05T20:39:19.022Z"
   },
   {
    "duration": 44,
    "start_time": "2022-03-05T20:39:19.026Z"
   },
   {
    "duration": 14,
    "start_time": "2022-03-05T20:39:19.072Z"
   },
   {
    "duration": 24,
    "start_time": "2022-03-05T20:39:19.089Z"
   },
   {
    "duration": 421,
    "start_time": "2022-03-05T20:39:19.116Z"
   },
   {
    "duration": 20,
    "start_time": "2022-03-05T20:39:19.539Z"
   },
   {
    "duration": 7,
    "start_time": "2022-03-05T20:39:19.561Z"
   },
   {
    "duration": 35,
    "start_time": "2022-03-05T20:39:19.570Z"
   },
   {
    "duration": 53,
    "start_time": "2022-03-05T20:39:19.607Z"
   },
   {
    "duration": 10,
    "start_time": "2022-03-05T20:39:19.662Z"
   },
   {
    "duration": 18,
    "start_time": "2022-03-05T20:39:19.674Z"
   },
   {
    "duration": 32,
    "start_time": "2022-03-05T20:39:19.694Z"
   },
   {
    "duration": 43,
    "start_time": "2022-03-05T20:39:19.728Z"
   },
   {
    "duration": 14,
    "start_time": "2022-03-05T20:39:19.773Z"
   },
   {
    "duration": 7,
    "start_time": "2022-03-05T20:39:19.789Z"
   },
   {
    "duration": 4160,
    "start_time": "2022-03-05T20:39:19.799Z"
   },
   {
    "duration": 31,
    "start_time": "2022-03-05T20:39:23.961Z"
   },
   {
    "duration": 22,
    "start_time": "2022-03-05T20:39:23.994Z"
   },
   {
    "duration": 61,
    "start_time": "2022-03-05T20:39:24.018Z"
   },
   {
    "duration": 19,
    "start_time": "2022-03-05T20:39:24.081Z"
   },
   {
    "duration": 28,
    "start_time": "2022-03-05T20:39:42.151Z"
   },
   {
    "duration": 20,
    "start_time": "2022-03-05T20:47:24.377Z"
   },
   {
    "duration": 25,
    "start_time": "2022-03-05T20:55:13.607Z"
   },
   {
    "duration": 22,
    "start_time": "2022-03-05T20:56:01.038Z"
   },
   {
    "duration": 59,
    "start_time": "2022-03-05T21:01:58.848Z"
   },
   {
    "duration": 2038,
    "start_time": "2022-03-06T21:00:47.055Z"
   },
   {
    "duration": 119,
    "start_time": "2022-03-06T21:00:49.097Z"
   },
   {
    "duration": 18,
    "start_time": "2022-03-06T21:00:49.232Z"
   },
   {
    "duration": 8,
    "start_time": "2022-03-06T21:00:49.254Z"
   },
   {
    "duration": 19,
    "start_time": "2022-03-06T21:00:49.265Z"
   },
   {
    "duration": 49,
    "start_time": "2022-03-06T21:00:49.287Z"
   },
   {
    "duration": 34,
    "start_time": "2022-03-06T21:00:49.339Z"
   },
   {
    "duration": 664,
    "start_time": "2022-03-06T21:00:49.375Z"
   },
   {
    "duration": 17,
    "start_time": "2022-03-06T21:00:50.042Z"
   },
   {
    "duration": 11,
    "start_time": "2022-03-06T21:00:50.062Z"
   },
   {
    "duration": 93,
    "start_time": "2022-03-06T21:00:50.076Z"
   },
   {
    "duration": 18,
    "start_time": "2022-03-06T21:00:50.173Z"
   },
   {
    "duration": 13,
    "start_time": "2022-03-06T21:00:50.193Z"
   },
   {
    "duration": 26,
    "start_time": "2022-03-06T21:00:50.232Z"
   },
   {
    "duration": 71,
    "start_time": "2022-03-06T21:00:50.261Z"
   },
   {
    "duration": 23,
    "start_time": "2022-03-06T21:00:50.335Z"
   },
   {
    "duration": 23,
    "start_time": "2022-03-06T21:00:50.361Z"
   },
   {
    "duration": 48,
    "start_time": "2022-03-06T21:00:50.386Z"
   },
   {
    "duration": 6235,
    "start_time": "2022-03-06T21:00:50.436Z"
   },
   {
    "duration": 64,
    "start_time": "2022-03-06T21:00:56.674Z"
   },
   {
    "duration": 33,
    "start_time": "2022-03-06T21:00:56.742Z"
   },
   {
    "duration": 80,
    "start_time": "2022-03-06T21:00:56.778Z"
   },
   {
    "duration": 32,
    "start_time": "2022-03-06T21:00:56.861Z"
   }
  ],
  "kernelspec": {
   "display_name": "Python 3 (ipykernel)",
   "language": "python",
   "name": "python3"
  },
  "language_info": {
   "codemirror_mode": {
    "name": "ipython",
    "version": 3
   },
   "file_extension": ".py",
   "mimetype": "text/x-python",
   "name": "python",
   "nbconvert_exporter": "python",
   "pygments_lexer": "ipython3",
   "version": "3.9.12"
  },
  "toc": {
   "base_numbering": 1,
   "nav_menu": {},
   "number_sections": true,
   "sideBar": true,
   "skip_h1_title": true,
   "title_cell": "Table of Contents",
   "title_sidebar": "Contents",
   "toc_cell": false,
   "toc_position": {},
   "toc_section_display": true,
   "toc_window_display": false
  }
 },
 "nbformat": 4,
 "nbformat_minor": 5
}
